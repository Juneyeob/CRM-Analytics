{
  "metadata": {
    "kernelspec": {
      "language": "python",
      "display_name": "Python 3",
      "name": "python3"
    },
    "language_info": {
      "pygments_lexer": "ipython3",
      "nbconvert_exporter": "python",
      "version": "3.6.4",
      "file_extension": ".py",
      "codemirror_mode": {
        "name": "ipython",
        "version": 3
      },
      "name": "python",
      "mimetype": "text/x-python"
    },
    "colab": {
      "provenance": []
    }
  },
  "nbformat_minor": 0,
  "nbformat": 4,
  "cells": [
    {
      "cell_type": "markdown",
      "source": [
        "![image.png](attachment:e266df0c-f51f-49e1-afb5-4d65c08b7a34.png)\n",
        "\n",
        "\n",
        "\n",
        "<p style=\"padding: 10px;\n",
        "          color:#31A919;\n",
        "          font-family:Verdana;\n",
        "          text-align: center;\n",
        "          font-size:190%;\">\n",
        "CRM Analytics\n",
        "\n",
        "</p>\n",
        "\n",
        "<span style=\"color:#31A919;\n",
        "             font-size:160%;\n",
        "             font-family:Verdana;\">\n",
        "What are CRM Analytics?\n",
        "\n",
        "CRM analytics are data that demonstrate your company’s sales and customer service performance. CRM analytics also presents customer data that you can use to inform smarter business decisions. Typically, you’ll use CRM software to obtain CRM analytics and automate all your data collection and report generation.    \n",
        "    \n",
        "<span style=\"color:#31A919;\n",
        "             font-size:160%;\n",
        "             font-family:Verdana;\">\n",
        "Benefits of CRM Analysis\n",
        "    \n",
        "The primary benefit of CRM analysis is that you can use it to inform your sales, customer service and marketing processes. You can use your CRM analytics to improve your methods via:\n",
        "\n",
        "- **Customer service evaluations.** CRM analytics fill you in on your customer service team’s performance. If you see figures that your team could improve, implement practices that push your team toward these goals.\n",
        "- **Accurate customer data.** Whether you’re using your customer data for demographic marketing or email marketing, you need to know whether you’re reaching the right person. CRM analysis ensures you’re doing just that.\n",
        "- **Thorough customer analytics.** How much does your customer usually spend per quarter with you? Are they buying the same products time and time again, or does it vary? With CRM analytics, you’ll get firm answers to these questions, and you can use what you learn to refine your marketing strategies.\n",
        "- **Efficient lead generation.** Your CRM analysis can tell you which of your marketing efforts most strongly correlate to purchases. If you see one approach correlating strongly to purchases but have only targeted a sliver of your customers with that approach, try that method more – your sales might increase.\n",
        "\n",
        "<div class=\"inner_cell\">\n",
        "<div class=\"text_cell_render border-box-sizing rendered_html\">\n",
        "<p></p><div class=\"list-group\" id=\"list-tab\" role=\"tablist\">\n",
        "  <h3 class=\"list-group-item list-group-item-action active\" data-toggle=\"list\" role=\"tab\" aria-controls=\"home\" style = \"border:2px solid #31A919; background-color:#31A919; color:white; font-family:Verdana;font-size:120%;\">Notebook Content</h3>\n",
        "  <a class=\"list-group-item list-group-item-action\" data-toggle=\"list\" href=\"#1\" role=\"tab\" aria-controls=\"profile\" target=\"_self\" style = \"color:#31A919; font-family:Verdana;font-size:120%;\">Libraries and Utilities<span class=\"badge badge-primary badge-pill\">1</span></a>\n",
        "  <a class=\"list-group-item list-group-item-action\" data-toggle=\"list\" href=\"#2\" role=\"tab\" aria-controls=\"messages\" target=\"_self\" style = \"color:#31A919; font-family:Verdana;font-size:120%;\">Load and Check Data<span class=\"badge badge-primary badge-pill\">2</span></a>\n",
        "  <a class=\"list-group-item list-group-item-action\" data-toggle=\"list\" href=\"#3\" role=\"tab\" aria-controls=\"settings\" target=\"_self\" style = \"color:#31A919; font-family:Verdana;font-size:120%;\">Understanding Data<span class=\"badge badge-primary badge-pill\">3</span></a>\n",
        "  <a class=\"list-group-item list-group-item-action\" data-toggle=\"list\" href=\"#4\" role=\"tab\" aria-controls=\"settings\" target=\"_self\" style = \"color:#31A919; font-family:Verdana;font-size:120%;\">Data Preprocessing<span class=\"badge badge-primary badge-pill\">4</span></a> \n",
        "  <a class=\"list-group-item list-group-item-action\" data-toggle=\"list\" href=\"#5\" role=\"tab\" aria-controls=\"settings\" target=\"_self\" style = \"color:#31A919; font-family:Verdana;font-size:120%;\">RFM Analysis<span class=\"badge badge-primary badge-pill\">5</span></a>\n",
        "  <a class=\"list-group-item list-group-item-action\" data-toggle=\"list\" href=\"#6\" role=\"tab\" aria-controls=\"settings\" target=\"_self\" style = \"color:#31A919; font-family:Verdana;font-size:120%;\">Cohort Analysis<span class=\"badge badge-primary badge-pill\">6</span></a>\n",
        "  <a class=\"list-group-item list-group-item-action\" data-toggle=\"list\" href=\"#7\" role=\"tab\" aria-controls=\"settings\" target=\"_self\" style = \"color:#31A919; font-family:Verdana;font-size:120%;\">Customer Lifetime Value<span class=\"badge badge-primary badge-pill\">7</span></a>\n",
        "\n",
        "</div>\n",
        "</div>\n",
        "</div>"
      ],
      "metadata": {
        "id": "z05Z90So9UW9"
      }
    },
    {
      "cell_type": "markdown",
      "source": [
        "<a id = \"1\"></a>\n",
        "    \n",
        "<span style=\" font-family:Verdana; font-size:190%; color:#31A919; \">Libraries and Utilities</span>"
      ],
      "metadata": {
        "id": "GX7J9fTV9UXB"
      }
    },
    {
      "cell_type": "code",
      "source": [
        "!pip install squarify"
      ],
      "metadata": {
        "colab": {
          "base_uri": "https://localhost:8080/"
        },
        "id": "S6PmBSo5_p-P",
        "outputId": "27fc4458-0386-4427-e38a-45af261c3954"
      },
      "execution_count": 4,
      "outputs": [
        {
          "output_type": "stream",
          "name": "stdout",
          "text": [
            "Looking in indexes: https://pypi.org/simple, https://us-python.pkg.dev/colab-wheels/public/simple/\n",
            "Requirement already satisfied: squarify in /usr/local/lib/python3.7/dist-packages (0.4.3)\n"
          ]
        }
      ]
    },
    {
      "cell_type": "code",
      "source": [
        "!pip install plotly\n",
        "!pip install Lifetimes\n",
        "!pip install nb_black"
      ],
      "metadata": {
        "_kg_hide-output": true,
        "execution": {
          "iopub.status.busy": "2022-10-29T16:11:08.606561Z",
          "iopub.execute_input": "2022-10-29T16:11:08.607036Z",
          "iopub.status.idle": "2022-10-29T16:11:29.48118Z",
          "shell.execute_reply.started": "2022-10-29T16:11:08.606979Z",
          "shell.execute_reply": "2022-10-29T16:11:29.479859Z"
        },
        "trusted": true,
        "colab": {
          "base_uri": "https://localhost:8080/"
        },
        "id": "adSY8grs9UXB",
        "outputId": "6b6b3691-60c6-44a1-bf18-eeb59ccc45eb"
      },
      "execution_count": 5,
      "outputs": [
        {
          "output_type": "stream",
          "name": "stdout",
          "text": [
            "Looking in indexes: https://pypi.org/simple, https://us-python.pkg.dev/colab-wheels/public/simple/\n",
            "Requirement already satisfied: plotly in /usr/local/lib/python3.7/dist-packages (5.5.0)\n",
            "Requirement already satisfied: tenacity>=6.2.0 in /usr/local/lib/python3.7/dist-packages (from plotly) (8.1.0)\n",
            "Requirement already satisfied: six in /usr/local/lib/python3.7/dist-packages (from plotly) (1.15.0)\n",
            "Looking in indexes: https://pypi.org/simple, https://us-python.pkg.dev/colab-wheels/public/simple/\n",
            "Requirement already satisfied: Lifetimes in /usr/local/lib/python3.7/dist-packages (0.11.3)\n",
            "Requirement already satisfied: dill>=0.2.6 in /usr/local/lib/python3.7/dist-packages (from Lifetimes) (0.3.6)\n",
            "Requirement already satisfied: pandas>=0.24.0 in /usr/local/lib/python3.7/dist-packages (from Lifetimes) (1.3.5)\n",
            "Requirement already satisfied: autograd>=1.2.0 in /usr/local/lib/python3.7/dist-packages (from Lifetimes) (1.5)\n",
            "Requirement already satisfied: numpy>=1.10.0 in /usr/local/lib/python3.7/dist-packages (from Lifetimes) (1.21.6)\n",
            "Requirement already satisfied: scipy>=1.0.0 in /usr/local/lib/python3.7/dist-packages (from Lifetimes) (1.7.3)\n",
            "Requirement already satisfied: future>=0.15.2 in /usr/local/lib/python3.7/dist-packages (from autograd>=1.2.0->Lifetimes) (0.16.0)\n",
            "Requirement already satisfied: pytz>=2017.3 in /usr/local/lib/python3.7/dist-packages (from pandas>=0.24.0->Lifetimes) (2022.6)\n",
            "Requirement already satisfied: python-dateutil>=2.7.3 in /usr/local/lib/python3.7/dist-packages (from pandas>=0.24.0->Lifetimes) (2.8.2)\n",
            "Requirement already satisfied: six>=1.5 in /usr/local/lib/python3.7/dist-packages (from python-dateutil>=2.7.3->pandas>=0.24.0->Lifetimes) (1.15.0)\n",
            "Looking in indexes: https://pypi.org/simple, https://us-python.pkg.dev/colab-wheels/public/simple/\n",
            "Requirement already satisfied: nb_black in /usr/local/lib/python3.7/dist-packages (1.0.7)\n",
            "Requirement already satisfied: ipython in /usr/local/lib/python3.7/dist-packages (from nb_black) (7.9.0)\n",
            "Requirement already satisfied: black>='19.3' in /usr/local/lib/python3.7/dist-packages (from nb_black) (22.10.0)\n",
            "Requirement already satisfied: click>=8.0.0 in /usr/local/lib/python3.7/dist-packages (from black>='19.3'->nb_black) (8.1.3)\n",
            "Requirement already satisfied: tomli>=1.1.0 in /usr/local/lib/python3.7/dist-packages (from black>='19.3'->nb_black) (2.0.1)\n",
            "Requirement already satisfied: mypy-extensions>=0.4.3 in /usr/local/lib/python3.7/dist-packages (from black>='19.3'->nb_black) (0.4.3)\n",
            "Requirement already satisfied: pathspec>=0.9.0 in /usr/local/lib/python3.7/dist-packages (from black>='19.3'->nb_black) (0.10.1)\n",
            "Requirement already satisfied: typing-extensions>=3.10.0.0 in /usr/local/lib/python3.7/dist-packages (from black>='19.3'->nb_black) (4.1.1)\n",
            "Requirement already satisfied: typed-ast>=1.4.2 in /usr/local/lib/python3.7/dist-packages (from black>='19.3'->nb_black) (1.5.4)\n",
            "Requirement already satisfied: platformdirs>=2 in /usr/local/lib/python3.7/dist-packages (from black>='19.3'->nb_black) (2.5.3)\n",
            "Requirement already satisfied: importlib-metadata in /usr/local/lib/python3.7/dist-packages (from click>=8.0.0->black>='19.3'->nb_black) (4.13.0)\n",
            "Requirement already satisfied: zipp>=0.5 in /usr/local/lib/python3.7/dist-packages (from importlib-metadata->click>=8.0.0->black>='19.3'->nb_black) (3.10.0)\n",
            "Requirement already satisfied: pexpect in /usr/local/lib/python3.7/dist-packages (from ipython->nb_black) (4.8.0)\n",
            "Requirement already satisfied: pygments in /usr/local/lib/python3.7/dist-packages (from ipython->nb_black) (2.6.1)\n",
            "Requirement already satisfied: setuptools>=18.5 in /usr/local/lib/python3.7/dist-packages (from ipython->nb_black) (57.4.0)\n",
            "Requirement already satisfied: decorator in /usr/local/lib/python3.7/dist-packages (from ipython->nb_black) (4.4.2)\n",
            "Requirement already satisfied: pickleshare in /usr/local/lib/python3.7/dist-packages (from ipython->nb_black) (0.7.5)\n",
            "Requirement already satisfied: backcall in /usr/local/lib/python3.7/dist-packages (from ipython->nb_black) (0.2.0)\n",
            "Requirement already satisfied: traitlets>=4.2 in /usr/local/lib/python3.7/dist-packages (from ipython->nb_black) (5.1.1)\n",
            "Requirement already satisfied: prompt-toolkit<2.1.0,>=2.0.0 in /usr/local/lib/python3.7/dist-packages (from ipython->nb_black) (2.0.10)\n",
            "Requirement already satisfied: jedi>=0.10 in /usr/local/lib/python3.7/dist-packages (from ipython->nb_black) (0.18.1)\n",
            "Requirement already satisfied: parso<0.9.0,>=0.8.0 in /usr/local/lib/python3.7/dist-packages (from jedi>=0.10->ipython->nb_black) (0.8.3)\n",
            "Requirement already satisfied: wcwidth in /usr/local/lib/python3.7/dist-packages (from prompt-toolkit<2.1.0,>=2.0.0->ipython->nb_black) (0.2.5)\n",
            "Requirement already satisfied: six>=1.9.0 in /usr/local/lib/python3.7/dist-packages (from prompt-toolkit<2.1.0,>=2.0.0->ipython->nb_black) (1.15.0)\n",
            "Requirement already satisfied: ptyprocess>=0.5 in /usr/local/lib/python3.7/dist-packages (from pexpect->ipython->nb_black) (0.7.0)\n"
          ]
        }
      ]
    },
    {
      "cell_type": "code",
      "source": [
        "import os\n",
        "import datetime\n",
        "import squarify\n",
        "import warnings\n",
        "import pandas as pd \n",
        "import numpy as np\n",
        "import datetime as dt\n",
        "from operator import attrgetter\n",
        "import seaborn as sns\n",
        "import matplotlib.pyplot as plt\n",
        "import matplotlib.colors as mcolors\n",
        "import plotly.graph_objs as go\n",
        "from plotly.offline import iplot\n",
        "from sklearn.metrics import (silhouette_score,\n",
        "                             calinski_harabasz_score,\n",
        "                             davies_bouldin_score)\n",
        "from lifetimes import BetaGeoFitter, GammaGammaFitter\n",
        "from lifetimes.plotting import plot_period_transactions\n",
        "%matplotlib inline\n",
        "%load_ext nb_black\n",
        "warnings.filterwarnings('ignore')\n",
        "sns.set_style('whitegrid')\n",
        "palette = 'Set2'"
      ],
      "metadata": {
        "_uuid": "8f2839f25d086af736a60e9eeb907d3b93b6e0e5",
        "_cell_guid": "b1076dfc-b9ad-4769-8c92-a6c4dae69d19",
        "execution": {
          "iopub.status.busy": "2022-10-29T16:11:29.483391Z",
          "iopub.execute_input": "2022-10-29T16:11:29.483739Z",
          "iopub.status.idle": "2022-10-29T16:11:29.516657Z",
          "shell.execute_reply.started": "2022-10-29T16:11:29.483699Z",
          "shell.execute_reply": "2022-10-29T16:11:29.515662Z"
        },
        "trusted": true,
        "colab": {
          "base_uri": "https://localhost:8080/",
          "height": 17
        },
        "id": "gyU150mh9UXC",
        "outputId": "f634eade-9b02-441f-8993-2a06ed7fadc0"
      },
      "execution_count": 6,
      "outputs": [
        {
          "output_type": "display_data",
          "data": {
            "text/plain": [
              "<IPython.core.display.Javascript object>"
            ],
            "application/javascript": [
              "\n",
              "            setTimeout(function() {\n",
              "                var nbb_cell_id = 6;\n",
              "                var nbb_unformatted_code = \"import os\\nimport datetime\\nimport squarify\\nimport warnings\\nimport pandas as pd \\nimport numpy as np\\nimport datetime as dt\\nfrom operator import attrgetter\\nimport seaborn as sns\\nimport matplotlib.pyplot as plt\\nimport matplotlib.colors as mcolors\\nimport plotly.graph_objs as go\\nfrom plotly.offline import iplot\\nfrom sklearn.metrics import (silhouette_score,\\n                             calinski_harabasz_score,\\n                             davies_bouldin_score)\\nfrom lifetimes import BetaGeoFitter, GammaGammaFitter\\nfrom lifetimes.plotting import plot_period_transactions\\n%matplotlib inline\\n%load_ext nb_black\\nwarnings.filterwarnings('ignore')\\nsns.set_style('whitegrid')\\npalette = 'Set2'\";\n",
              "                var nbb_formatted_code = \"import os\\nimport datetime\\nimport squarify\\nimport warnings\\nimport pandas as pd\\nimport numpy as np\\nimport datetime as dt\\nfrom operator import attrgetter\\nimport seaborn as sns\\nimport matplotlib.pyplot as plt\\nimport matplotlib.colors as mcolors\\nimport plotly.graph_objs as go\\nfrom plotly.offline import iplot\\nfrom sklearn.metrics import (\\n    silhouette_score,\\n    calinski_harabasz_score,\\n    davies_bouldin_score,\\n)\\nfrom lifetimes import BetaGeoFitter, GammaGammaFitter\\nfrom lifetimes.plotting import plot_period_transactions\\n\\n%matplotlib inline\\n%load_ext nb_black\\nwarnings.filterwarnings(\\\"ignore\\\")\\nsns.set_style(\\\"whitegrid\\\")\\npalette = \\\"Set2\\\"\";\n",
              "                var nbb_cells = Jupyter.notebook.get_cells();\n",
              "                for (var i = 0; i < nbb_cells.length; ++i) {\n",
              "                    if (nbb_cells[i].input_prompt_number == nbb_cell_id) {\n",
              "                        if (nbb_cells[i].get_text() == nbb_unformatted_code) {\n",
              "                             nbb_cells[i].set_text(nbb_formatted_code);\n",
              "                        }\n",
              "                        break;\n",
              "                    }\n",
              "                }\n",
              "            }, 500);\n",
              "            "
            ]
          },
          "metadata": {}
        }
      ]
    },
    {
      "cell_type": "markdown",
      "source": [
        "<a id = \"2\"></a>\n",
        "<span style=\" font-family:Verdana; font-size:190%; color:#31A919; \">Load and Check Data</span>"
      ],
      "metadata": {
        "id": "cU_zQ9C49UXC"
      }
    },
    {
      "cell_type": "code",
      "source": [
        "ecommerce_path = '/content/sample_data/'\n",
        "\n",
        "df = pd.read_csv(os.path.join(ecommerce_path, 'data.csv'),\n",
        "                 header = 0,\n",
        "                 encoding = 'unicode_escape',\n",
        "                 dtype = {'CustomerID': str,\n",
        "                          'InvoiceID': str},\n",
        "                 parse_dates = ['InvoiceDate'], \n",
        "                 infer_datetime_format = True)\n",
        "df.head()"
      ],
      "metadata": {
        "execution": {
          "iopub.status.busy": "2022-10-29T16:11:29.518452Z",
          "iopub.execute_input": "2022-10-29T16:11:29.518752Z",
          "iopub.status.idle": "2022-10-29T16:11:30.613656Z",
          "shell.execute_reply.started": "2022-10-29T16:11:29.518722Z",
          "shell.execute_reply": "2022-10-29T16:11:30.612628Z"
        },
        "trusted": true,
        "colab": {
          "base_uri": "https://localhost:8080/",
          "height": 206
        },
        "id": "tPYbFzQn9UXC",
        "outputId": "3dc10a28-127b-41c5-a3d0-0cbe26ef3c36"
      },
      "execution_count": 8,
      "outputs": [
        {
          "output_type": "execute_result",
          "data": {
            "text/plain": [
              "  InvoiceNo StockCode                          Description  Quantity  \\\n",
              "0    536365    85123A   WHITE HANGING HEART T-LIGHT HOLDER         6   \n",
              "1    536365     71053                  WHITE METAL LANTERN         6   \n",
              "2    536365    84406B       CREAM CUPID HEARTS COAT HANGER         8   \n",
              "3    536365    84029G  KNITTED UNION FLAG HOT WATER BOTTLE         6   \n",
              "4    536365    84029E       RED WOOLLY HOTTIE WHITE HEART.         6   \n",
              "\n",
              "          InvoiceDate  UnitPrice CustomerID         Country  \n",
              "0 2010-12-01 08:26:00       2.55      17850  United Kingdom  \n",
              "1 2010-12-01 08:26:00       3.39      17850  United Kingdom  \n",
              "2 2010-12-01 08:26:00       2.75      17850  United Kingdom  \n",
              "3 2010-12-01 08:26:00       3.39      17850  United Kingdom  \n",
              "4 2010-12-01 08:26:00       3.39      17850  United Kingdom  "
            ],
            "text/html": [
              "\n",
              "  <div id=\"df-d36cb532-49db-4129-be7f-30dc0140be57\">\n",
              "    <div class=\"colab-df-container\">\n",
              "      <div>\n",
              "<style scoped>\n",
              "    .dataframe tbody tr th:only-of-type {\n",
              "        vertical-align: middle;\n",
              "    }\n",
              "\n",
              "    .dataframe tbody tr th {\n",
              "        vertical-align: top;\n",
              "    }\n",
              "\n",
              "    .dataframe thead th {\n",
              "        text-align: right;\n",
              "    }\n",
              "</style>\n",
              "<table border=\"1\" class=\"dataframe\">\n",
              "  <thead>\n",
              "    <tr style=\"text-align: right;\">\n",
              "      <th></th>\n",
              "      <th>InvoiceNo</th>\n",
              "      <th>StockCode</th>\n",
              "      <th>Description</th>\n",
              "      <th>Quantity</th>\n",
              "      <th>InvoiceDate</th>\n",
              "      <th>UnitPrice</th>\n",
              "      <th>CustomerID</th>\n",
              "      <th>Country</th>\n",
              "    </tr>\n",
              "  </thead>\n",
              "  <tbody>\n",
              "    <tr>\n",
              "      <th>0</th>\n",
              "      <td>536365</td>\n",
              "      <td>85123A</td>\n",
              "      <td>WHITE HANGING HEART T-LIGHT HOLDER</td>\n",
              "      <td>6</td>\n",
              "      <td>2010-12-01 08:26:00</td>\n",
              "      <td>2.55</td>\n",
              "      <td>17850</td>\n",
              "      <td>United Kingdom</td>\n",
              "    </tr>\n",
              "    <tr>\n",
              "      <th>1</th>\n",
              "      <td>536365</td>\n",
              "      <td>71053</td>\n",
              "      <td>WHITE METAL LANTERN</td>\n",
              "      <td>6</td>\n",
              "      <td>2010-12-01 08:26:00</td>\n",
              "      <td>3.39</td>\n",
              "      <td>17850</td>\n",
              "      <td>United Kingdom</td>\n",
              "    </tr>\n",
              "    <tr>\n",
              "      <th>2</th>\n",
              "      <td>536365</td>\n",
              "      <td>84406B</td>\n",
              "      <td>CREAM CUPID HEARTS COAT HANGER</td>\n",
              "      <td>8</td>\n",
              "      <td>2010-12-01 08:26:00</td>\n",
              "      <td>2.75</td>\n",
              "      <td>17850</td>\n",
              "      <td>United Kingdom</td>\n",
              "    </tr>\n",
              "    <tr>\n",
              "      <th>3</th>\n",
              "      <td>536365</td>\n",
              "      <td>84029G</td>\n",
              "      <td>KNITTED UNION FLAG HOT WATER BOTTLE</td>\n",
              "      <td>6</td>\n",
              "      <td>2010-12-01 08:26:00</td>\n",
              "      <td>3.39</td>\n",
              "      <td>17850</td>\n",
              "      <td>United Kingdom</td>\n",
              "    </tr>\n",
              "    <tr>\n",
              "      <th>4</th>\n",
              "      <td>536365</td>\n",
              "      <td>84029E</td>\n",
              "      <td>RED WOOLLY HOTTIE WHITE HEART.</td>\n",
              "      <td>6</td>\n",
              "      <td>2010-12-01 08:26:00</td>\n",
              "      <td>3.39</td>\n",
              "      <td>17850</td>\n",
              "      <td>United Kingdom</td>\n",
              "    </tr>\n",
              "  </tbody>\n",
              "</table>\n",
              "</div>\n",
              "      <button class=\"colab-df-convert\" onclick=\"convertToInteractive('df-d36cb532-49db-4129-be7f-30dc0140be57')\"\n",
              "              title=\"Convert this dataframe to an interactive table.\"\n",
              "              style=\"display:none;\">\n",
              "        \n",
              "  <svg xmlns=\"http://www.w3.org/2000/svg\" height=\"24px\"viewBox=\"0 0 24 24\"\n",
              "       width=\"24px\">\n",
              "    <path d=\"M0 0h24v24H0V0z\" fill=\"none\"/>\n",
              "    <path d=\"M18.56 5.44l.94 2.06.94-2.06 2.06-.94-2.06-.94-.94-2.06-.94 2.06-2.06.94zm-11 1L8.5 8.5l.94-2.06 2.06-.94-2.06-.94L8.5 2.5l-.94 2.06-2.06.94zm10 10l.94 2.06.94-2.06 2.06-.94-2.06-.94-.94-2.06-.94 2.06-2.06.94z\"/><path d=\"M17.41 7.96l-1.37-1.37c-.4-.4-.92-.59-1.43-.59-.52 0-1.04.2-1.43.59L10.3 9.45l-7.72 7.72c-.78.78-.78 2.05 0 2.83L4 21.41c.39.39.9.59 1.41.59.51 0 1.02-.2 1.41-.59l7.78-7.78 2.81-2.81c.8-.78.8-2.07 0-2.86zM5.41 20L4 18.59l7.72-7.72 1.47 1.35L5.41 20z\"/>\n",
              "  </svg>\n",
              "      </button>\n",
              "      \n",
              "  <style>\n",
              "    .colab-df-container {\n",
              "      display:flex;\n",
              "      flex-wrap:wrap;\n",
              "      gap: 12px;\n",
              "    }\n",
              "\n",
              "    .colab-df-convert {\n",
              "      background-color: #E8F0FE;\n",
              "      border: none;\n",
              "      border-radius: 50%;\n",
              "      cursor: pointer;\n",
              "      display: none;\n",
              "      fill: #1967D2;\n",
              "      height: 32px;\n",
              "      padding: 0 0 0 0;\n",
              "      width: 32px;\n",
              "    }\n",
              "\n",
              "    .colab-df-convert:hover {\n",
              "      background-color: #E2EBFA;\n",
              "      box-shadow: 0px 1px 2px rgba(60, 64, 67, 0.3), 0px 1px 3px 1px rgba(60, 64, 67, 0.15);\n",
              "      fill: #174EA6;\n",
              "    }\n",
              "\n",
              "    [theme=dark] .colab-df-convert {\n",
              "      background-color: #3B4455;\n",
              "      fill: #D2E3FC;\n",
              "    }\n",
              "\n",
              "    [theme=dark] .colab-df-convert:hover {\n",
              "      background-color: #434B5C;\n",
              "      box-shadow: 0px 1px 3px 1px rgba(0, 0, 0, 0.15);\n",
              "      filter: drop-shadow(0px 1px 2px rgba(0, 0, 0, 0.3));\n",
              "      fill: #FFFFFF;\n",
              "    }\n",
              "  </style>\n",
              "\n",
              "      <script>\n",
              "        const buttonEl =\n",
              "          document.querySelector('#df-d36cb532-49db-4129-be7f-30dc0140be57 button.colab-df-convert');\n",
              "        buttonEl.style.display =\n",
              "          google.colab.kernel.accessAllowed ? 'block' : 'none';\n",
              "\n",
              "        async function convertToInteractive(key) {\n",
              "          const element = document.querySelector('#df-d36cb532-49db-4129-be7f-30dc0140be57');\n",
              "          const dataTable =\n",
              "            await google.colab.kernel.invokeFunction('convertToInteractive',\n",
              "                                                     [key], {});\n",
              "          if (!dataTable) return;\n",
              "\n",
              "          const docLinkHtml = 'Like what you see? Visit the ' +\n",
              "            '<a target=\"_blank\" href=https://colab.research.google.com/notebooks/data_table.ipynb>data table notebook</a>'\n",
              "            + ' to learn more about interactive tables.';\n",
              "          element.innerHTML = '';\n",
              "          dataTable['output_type'] = 'display_data';\n",
              "          await google.colab.output.renderOutput(dataTable, element);\n",
              "          const docLink = document.createElement('div');\n",
              "          docLink.innerHTML = docLinkHtml;\n",
              "          element.appendChild(docLink);\n",
              "        }\n",
              "      </script>\n",
              "    </div>\n",
              "  </div>\n",
              "  "
            ]
          },
          "metadata": {},
          "execution_count": 8
        },
        {
          "output_type": "display_data",
          "data": {
            "text/plain": [
              "<IPython.core.display.Javascript object>"
            ],
            "application/javascript": [
              "\n",
              "            setTimeout(function() {\n",
              "                var nbb_cell_id = 8;\n",
              "                var nbb_unformatted_code = \"ecommerce_path = '/content/sample_data/'\\n\\ndf = pd.read_csv(os.path.join(ecommerce_path, 'data.csv'),\\n                 header = 0,\\n                 encoding = 'unicode_escape',\\n                 dtype = {'CustomerID': str,\\n                          'InvoiceID': str},\\n                 parse_dates = ['InvoiceDate'], \\n                 infer_datetime_format = True)\\ndf.head()\";\n",
              "                var nbb_formatted_code = \"ecommerce_path = \\\"/content/sample_data/\\\"\\n\\ndf = pd.read_csv(\\n    os.path.join(ecommerce_path, \\\"data.csv\\\"),\\n    header=0,\\n    encoding=\\\"unicode_escape\\\",\\n    dtype={\\\"CustomerID\\\": str, \\\"InvoiceID\\\": str},\\n    parse_dates=[\\\"InvoiceDate\\\"],\\n    infer_datetime_format=True,\\n)\\ndf.head()\";\n",
              "                var nbb_cells = Jupyter.notebook.get_cells();\n",
              "                for (var i = 0; i < nbb_cells.length; ++i) {\n",
              "                    if (nbb_cells[i].input_prompt_number == nbb_cell_id) {\n",
              "                        if (nbb_cells[i].get_text() == nbb_unformatted_code) {\n",
              "                             nbb_cells[i].set_text(nbb_formatted_code);\n",
              "                        }\n",
              "                        break;\n",
              "                    }\n",
              "                }\n",
              "            }, 500);\n",
              "            "
            ]
          },
          "metadata": {}
        }
      ]
    },
    {
      "cell_type": "markdown",
      "source": [
        "<a id = \"3\"></a>\n",
        "<span style=\" font-family:Verdana; font-size:190%; color:#31A919; \">Understanding Data</span>\n",
        "\n",
        "\n",
        "<span style=\"color:#31A919;\n",
        "             font-size:160%;\n",
        "             font-family:Verdana;\">\n",
        "Context\n",
        "    \n",
        "Typically e-commerce datasets are proprietary and consequently hard to find among publicly available data. However, The UCI Machine Learning Repository has made this dataset containing actual transactions from 2010 and 2011. The dataset is maintained on their site, where it can be found by the title \"Online Retail\"."
      ],
      "metadata": {
        "id": "RshixMt-9UXD"
      }
    },
    {
      "cell_type": "markdown",
      "source": [
        "![image.png](attachment:e6de845d-2d48-47a5-b2e6-94f8be262b58.png)"
      ],
      "metadata": {
        "id": "dZjF0znk9UXD"
      }
    },
    {
      "cell_type": "markdown",
      "source": [
        "<span style=\"color:#31A919;\n",
        "             font-size:160%;\n",
        "             font-family:Verdana;\">\n",
        "📃 Variable Description\n",
        "    \n",
        "- **InvoiceNo:** Invoice number that consists 6 digits. If this code starts with letter 'c', it indicates a cancellation.\n",
        "- **StockCode:** Product code that consists 5 digits.\n",
        "- **Description:** Product name.\n",
        "- **Quantity:** The quantities of each product per transaction.\n",
        "- **InvoiceDate:** Represents the day and time when each transaction was generated.\n",
        "- **UnitPrice:** Product price per unit.\n",
        "- **CustomerID:** Customer number that consists 5 digits. Each customer has a unique customer ID.\n",
        "- **Country:** Name of the country where each customer resides."
      ],
      "metadata": {
        "id": "gID0Oc9w9UXD"
      }
    },
    {
      "cell_type": "code",
      "source": [
        "def check_data(dataframe, head=5):\n",
        "    print(\" SHAPE \".center(70,'-'))\n",
        "    print('Rows: {}'.format(dataframe.shape[0]))\n",
        "    print('Columns: {}'.format(dataframe.shape[1]))\n",
        "    print(\" TYPES \".center(70,'-'))\n",
        "    print(dataframe.dtypes)\n",
        "    print(\" HEAD \".center(70,'-'))\n",
        "    print(dataframe.head(head))\n",
        "    print(\" TAIL \".center(70,'-'))\n",
        "    print(dataframe.tail(head))\n",
        "    print(\" MISSING VALUES \".center(70,'-'))\n",
        "    print(dataframe.isnull().sum())\n",
        "    print(\" DUPLICATED VALUES \".center(70,'-'))\n",
        "    print(dataframe.duplicated().sum())\n",
        "    print(\" QUANTILES \".center(70,'-'))\n",
        "    print(dataframe.quantile([0, 0.05, 0.50, 0.95, 0.99, 1]).T)\n",
        "    \n",
        "check_data(df)"
      ],
      "metadata": {
        "execution": {
          "iopub.status.busy": "2022-10-29T16:11:30.616144Z",
          "iopub.execute_input": "2022-10-29T16:11:30.616704Z",
          "iopub.status.idle": "2022-10-29T16:11:31.160271Z",
          "shell.execute_reply.started": "2022-10-29T16:11:30.616666Z",
          "shell.execute_reply": "2022-10-29T16:11:31.159138Z"
        },
        "trusted": true,
        "colab": {
          "base_uri": "https://localhost:8080/",
          "height": 1000
        },
        "id": "wpCJbJNV9UXD",
        "outputId": "0a8b2d85-c935-4729-876f-b32074b16a6c"
      },
      "execution_count": 9,
      "outputs": [
        {
          "output_type": "stream",
          "name": "stdout",
          "text": [
            "------------------------------- SHAPE --------------------------------\n",
            "Rows: 541909\n",
            "Columns: 8\n",
            "------------------------------- TYPES --------------------------------\n",
            "InvoiceNo              object\n",
            "StockCode              object\n",
            "Description            object\n",
            "Quantity                int64\n",
            "InvoiceDate    datetime64[ns]\n",
            "UnitPrice             float64\n",
            "CustomerID             object\n",
            "Country                object\n",
            "dtype: object\n",
            "-------------------------------- HEAD --------------------------------\n",
            "  InvoiceNo StockCode                          Description  Quantity  \\\n",
            "0    536365    85123A   WHITE HANGING HEART T-LIGHT HOLDER         6   \n",
            "1    536365     71053                  WHITE METAL LANTERN         6   \n",
            "2    536365    84406B       CREAM CUPID HEARTS COAT HANGER         8   \n",
            "3    536365    84029G  KNITTED UNION FLAG HOT WATER BOTTLE         6   \n",
            "4    536365    84029E       RED WOOLLY HOTTIE WHITE HEART.         6   \n",
            "\n",
            "          InvoiceDate  UnitPrice CustomerID         Country  \n",
            "0 2010-12-01 08:26:00       2.55      17850  United Kingdom  \n",
            "1 2010-12-01 08:26:00       3.39      17850  United Kingdom  \n",
            "2 2010-12-01 08:26:00       2.75      17850  United Kingdom  \n",
            "3 2010-12-01 08:26:00       3.39      17850  United Kingdom  \n",
            "4 2010-12-01 08:26:00       3.39      17850  United Kingdom  \n",
            "-------------------------------- TAIL --------------------------------\n",
            "       InvoiceNo StockCode                      Description  Quantity  \\\n",
            "541904    581587     22613      PACK OF 20 SPACEBOY NAPKINS        12   \n",
            "541905    581587     22899     CHILDREN'S APRON DOLLY GIRL          6   \n",
            "541906    581587     23254    CHILDRENS CUTLERY DOLLY GIRL          4   \n",
            "541907    581587     23255  CHILDRENS CUTLERY CIRCUS PARADE         4   \n",
            "541908    581587     22138    BAKING SET 9 PIECE RETROSPOT          3   \n",
            "\n",
            "               InvoiceDate  UnitPrice CustomerID Country  \n",
            "541904 2011-12-09 12:50:00       0.85      12680  France  \n",
            "541905 2011-12-09 12:50:00       2.10      12680  France  \n",
            "541906 2011-12-09 12:50:00       4.15      12680  France  \n",
            "541907 2011-12-09 12:50:00       4.15      12680  France  \n",
            "541908 2011-12-09 12:50:00       4.95      12680  France  \n",
            "--------------------------- MISSING VALUES ---------------------------\n",
            "InvoiceNo           0\n",
            "StockCode           0\n",
            "Description      1454\n",
            "Quantity            0\n",
            "InvoiceDate         0\n",
            "UnitPrice           0\n",
            "CustomerID     135080\n",
            "Country             0\n",
            "dtype: int64\n",
            "------------------------- DUPLICATED VALUES --------------------------\n",
            "5268\n",
            "----------------------------- QUANTILES ------------------------------\n",
            "               0.00  0.05  0.50   0.95   0.99     1.00\n",
            "Quantity  -80995.00  1.00  3.00  29.00  100.0  80995.0\n",
            "UnitPrice -11062.06  0.42  2.08   9.95   18.0  38970.0\n"
          ]
        },
        {
          "output_type": "display_data",
          "data": {
            "text/plain": [
              "<IPython.core.display.Javascript object>"
            ],
            "application/javascript": [
              "\n",
              "            setTimeout(function() {\n",
              "                var nbb_cell_id = 9;\n",
              "                var nbb_unformatted_code = \"def check_data(dataframe, head=5):\\n    print(\\\" SHAPE \\\".center(70,'-'))\\n    print('Rows: {}'.format(dataframe.shape[0]))\\n    print('Columns: {}'.format(dataframe.shape[1]))\\n    print(\\\" TYPES \\\".center(70,'-'))\\n    print(dataframe.dtypes)\\n    print(\\\" HEAD \\\".center(70,'-'))\\n    print(dataframe.head(head))\\n    print(\\\" TAIL \\\".center(70,'-'))\\n    print(dataframe.tail(head))\\n    print(\\\" MISSING VALUES \\\".center(70,'-'))\\n    print(dataframe.isnull().sum())\\n    print(\\\" DUPLICATED VALUES \\\".center(70,'-'))\\n    print(dataframe.duplicated().sum())\\n    print(\\\" QUANTILES \\\".center(70,'-'))\\n    print(dataframe.quantile([0, 0.05, 0.50, 0.95, 0.99, 1]).T)\\n    \\ncheck_data(df)\";\n",
              "                var nbb_formatted_code = \"def check_data(dataframe, head=5):\\n    print(\\\" SHAPE \\\".center(70, \\\"-\\\"))\\n    print(\\\"Rows: {}\\\".format(dataframe.shape[0]))\\n    print(\\\"Columns: {}\\\".format(dataframe.shape[1]))\\n    print(\\\" TYPES \\\".center(70, \\\"-\\\"))\\n    print(dataframe.dtypes)\\n    print(\\\" HEAD \\\".center(70, \\\"-\\\"))\\n    print(dataframe.head(head))\\n    print(\\\" TAIL \\\".center(70, \\\"-\\\"))\\n    print(dataframe.tail(head))\\n    print(\\\" MISSING VALUES \\\".center(70, \\\"-\\\"))\\n    print(dataframe.isnull().sum())\\n    print(\\\" DUPLICATED VALUES \\\".center(70, \\\"-\\\"))\\n    print(dataframe.duplicated().sum())\\n    print(\\\" QUANTILES \\\".center(70, \\\"-\\\"))\\n    print(dataframe.quantile([0, 0.05, 0.50, 0.95, 0.99, 1]).T)\\n\\n\\ncheck_data(df)\";\n",
              "                var nbb_cells = Jupyter.notebook.get_cells();\n",
              "                for (var i = 0; i < nbb_cells.length; ++i) {\n",
              "                    if (nbb_cells[i].input_prompt_number == nbb_cell_id) {\n",
              "                        if (nbb_cells[i].get_text() == nbb_unformatted_code) {\n",
              "                             nbb_cells[i].set_text(nbb_formatted_code);\n",
              "                        }\n",
              "                        break;\n",
              "                    }\n",
              "                }\n",
              "            }, 500);\n",
              "            "
            ]
          },
          "metadata": {}
        }
      ]
    },
    {
      "cell_type": "code",
      "source": [
        "world_map = df[['CustomerID', 'InvoiceNo', 'Country']\n",
        "              ].groupby(['CustomerID', 'InvoiceNo', 'Country']\n",
        "                       ).count().reset_index(drop = False)\n",
        "countries = world_map['Country'].value_counts()\n",
        "data = dict(type='choropleth',\n",
        "            locations = countries.index,\n",
        "            locationmode = 'country names',\n",
        "            z = countries,\n",
        "            text = countries.index,\n",
        "            colorbar = {'title':'Orders'},\n",
        "            colorscale='Viridis',\n",
        "            reversescale = False)\n",
        "\n",
        "layout = dict(title={'text': \"Number of Orders by Countries\",\n",
        "                     'y':0.9,\n",
        "                     'x':0.5,\n",
        "                     'xanchor': 'center',\n",
        "                     'yanchor': 'top'},\n",
        "              geo = dict(resolution = 50,\n",
        "                         showocean = True,\n",
        "                         oceancolor = \"LightBlue\",\n",
        "                         showland = True,\n",
        "                         landcolor = \"whitesmoke\",\n",
        "                         showframe = True),\n",
        "             template = 'plotly_white',\n",
        "             height = 600,\n",
        "             width = 1000)\n",
        "\n",
        "choromap = go.Figure(data = [data], layout = layout)\n",
        "iplot(choromap, validate = False)"
      ],
      "metadata": {
        "execution": {
          "iopub.status.busy": "2022-10-29T16:11:31.162026Z",
          "iopub.execute_input": "2022-10-29T16:11:31.162439Z",
          "iopub.status.idle": "2022-10-29T16:11:31.419234Z",
          "shell.execute_reply.started": "2022-10-29T16:11:31.162395Z",
          "shell.execute_reply": "2022-10-29T16:11:31.418113Z"
        },
        "trusted": true,
        "colab": {
          "base_uri": "https://localhost:8080/",
          "height": 617
        },
        "id": "ij8gERqV9UXD",
        "outputId": "704b4aac-376a-4e84-d6d4-bfdba248ff0e"
      },
      "execution_count": 10,
      "outputs": [
        {
          "output_type": "display_data",
          "data": {
            "text/html": [
              "<html>\n",
              "<head><meta charset=\"utf-8\" /></head>\n",
              "<body>\n",
              "    <div>            <script src=\"https://cdnjs.cloudflare.com/ajax/libs/mathjax/2.7.5/MathJax.js?config=TeX-AMS-MML_SVG\"></script><script type=\"text/javascript\">if (window.MathJax) {MathJax.Hub.Config({SVG: {font: \"STIX-Web\"}});}</script>                <script type=\"text/javascript\">window.PlotlyConfig = {MathJaxConfig: 'local'};</script>\n",
              "        <script src=\"https://cdn.plot.ly/plotly-2.8.3.min.js\"></script>                <div id=\"8c5e9dff-3401-4d06-89f5-1927995b94f7\" class=\"plotly-graph-div\" style=\"height:600px; width:1000px;\"></div>            <script type=\"text/javascript\">                                    window.PLOTLYENV=window.PLOTLYENV || {};                                    if (document.getElementById(\"8c5e9dff-3401-4d06-89f5-1927995b94f7\")) {                    Plotly.newPlot(                        \"8c5e9dff-3401-4d06-89f5-1927995b94f7\",                        [{\"colorbar\":{\"title\":{\"text\":\"Orders\"}},\"colorscale\":[[0.0,\"#440154\"],[0.1111111111111111,\"#482878\"],[0.2222222222222222,\"#3e4989\"],[0.3333333333333333,\"#31688e\"],[0.4444444444444444,\"#26828e\"],[0.5555555555555556,\"#1f9e89\"],[0.6666666666666666,\"#35b779\"],[0.7777777777777778,\"#6ece58\"],[0.8888888888888888,\"#b5de2b\"],[1.0,\"#fde725\"]],\"locationmode\":\"country names\",\"locations\":[\"United Kingdom\",\"Germany\",\"France\",\"EIRE\",\"Belgium\",\"Spain\",\"Netherlands\",\"Switzerland\",\"Portugal\",\"Australia\",\"Italy\",\"Finland\",\"Sweden\",\"Norway\",\"Channel Islands\",\"Japan\",\"Poland\",\"Denmark\",\"Cyprus\",\"Austria\",\"Singapore\",\"Malta\",\"Unspecified\",\"USA\",\"Iceland\",\"Israel\",\"Canada\",\"Greece\",\"Czech Republic\",\"European Community\",\"Lithuania\",\"United Arab Emirates\",\"Saudi Arabia\",\"Bahrain\",\"RSA\",\"Lebanon\",\"Brazil\"],\"reversescale\":false,\"text\":[\"United Kingdom\",\"Germany\",\"France\",\"EIRE\",\"Belgium\",\"Spain\",\"Netherlands\",\"Switzerland\",\"Portugal\",\"Australia\",\"Italy\",\"Finland\",\"Sweden\",\"Norway\",\"Channel Islands\",\"Japan\",\"Poland\",\"Denmark\",\"Cyprus\",\"Austria\",\"Singapore\",\"Malta\",\"Unspecified\",\"USA\",\"Iceland\",\"Israel\",\"Canada\",\"Greece\",\"Czech Republic\",\"European Community\",\"Lithuania\",\"United Arab Emirates\",\"Saudi Arabia\",\"Bahrain\",\"RSA\",\"Lebanon\",\"Brazil\"],\"z\":[19857,603,458,319,119,105,101,71,70,69,55,48,46,40,33,28,24,21,20,19,10,10,8,7,7,6,6,6,5,5,4,3,2,2,1,1,1],\"type\":\"choropleth\"}],                        {\"geo\":{\"landcolor\":\"whitesmoke\",\"oceancolor\":\"LightBlue\",\"resolution\":50,\"showframe\":true,\"showland\":true,\"showocean\":true},\"height\":600,\"template\":{\"data\":{\"barpolar\":[{\"marker\":{\"line\":{\"color\":\"white\",\"width\":0.5},\"pattern\":{\"fillmode\":\"overlay\",\"size\":10,\"solidity\":0.2}},\"type\":\"barpolar\"}],\"bar\":[{\"error_x\":{\"color\":\"#2a3f5f\"},\"error_y\":{\"color\":\"#2a3f5f\"},\"marker\":{\"line\":{\"color\":\"white\",\"width\":0.5},\"pattern\":{\"fillmode\":\"overlay\",\"size\":10,\"solidity\":0.2}},\"type\":\"bar\"}],\"carpet\":[{\"aaxis\":{\"endlinecolor\":\"#2a3f5f\",\"gridcolor\":\"#C8D4E3\",\"linecolor\":\"#C8D4E3\",\"minorgridcolor\":\"#C8D4E3\",\"startlinecolor\":\"#2a3f5f\"},\"baxis\":{\"endlinecolor\":\"#2a3f5f\",\"gridcolor\":\"#C8D4E3\",\"linecolor\":\"#C8D4E3\",\"minorgridcolor\":\"#C8D4E3\",\"startlinecolor\":\"#2a3f5f\"},\"type\":\"carpet\"}],\"choropleth\":[{\"colorbar\":{\"outlinewidth\":0,\"ticks\":\"\"},\"type\":\"choropleth\"}],\"contourcarpet\":[{\"colorbar\":{\"outlinewidth\":0,\"ticks\":\"\"},\"type\":\"contourcarpet\"}],\"contour\":[{\"colorbar\":{\"outlinewidth\":0,\"ticks\":\"\"},\"colorscale\":[[0.0,\"#0d0887\"],[0.1111111111111111,\"#46039f\"],[0.2222222222222222,\"#7201a8\"],[0.3333333333333333,\"#9c179e\"],[0.4444444444444444,\"#bd3786\"],[0.5555555555555556,\"#d8576b\"],[0.6666666666666666,\"#ed7953\"],[0.7777777777777778,\"#fb9f3a\"],[0.8888888888888888,\"#fdca26\"],[1.0,\"#f0f921\"]],\"type\":\"contour\"}],\"heatmapgl\":[{\"colorbar\":{\"outlinewidth\":0,\"ticks\":\"\"},\"colorscale\":[[0.0,\"#0d0887\"],[0.1111111111111111,\"#46039f\"],[0.2222222222222222,\"#7201a8\"],[0.3333333333333333,\"#9c179e\"],[0.4444444444444444,\"#bd3786\"],[0.5555555555555556,\"#d8576b\"],[0.6666666666666666,\"#ed7953\"],[0.7777777777777778,\"#fb9f3a\"],[0.8888888888888888,\"#fdca26\"],[1.0,\"#f0f921\"]],\"type\":\"heatmapgl\"}],\"heatmap\":[{\"colorbar\":{\"outlinewidth\":0,\"ticks\":\"\"},\"colorscale\":[[0.0,\"#0d0887\"],[0.1111111111111111,\"#46039f\"],[0.2222222222222222,\"#7201a8\"],[0.3333333333333333,\"#9c179e\"],[0.4444444444444444,\"#bd3786\"],[0.5555555555555556,\"#d8576b\"],[0.6666666666666666,\"#ed7953\"],[0.7777777777777778,\"#fb9f3a\"],[0.8888888888888888,\"#fdca26\"],[1.0,\"#f0f921\"]],\"type\":\"heatmap\"}],\"histogram2dcontour\":[{\"colorbar\":{\"outlinewidth\":0,\"ticks\":\"\"},\"colorscale\":[[0.0,\"#0d0887\"],[0.1111111111111111,\"#46039f\"],[0.2222222222222222,\"#7201a8\"],[0.3333333333333333,\"#9c179e\"],[0.4444444444444444,\"#bd3786\"],[0.5555555555555556,\"#d8576b\"],[0.6666666666666666,\"#ed7953\"],[0.7777777777777778,\"#fb9f3a\"],[0.8888888888888888,\"#fdca26\"],[1.0,\"#f0f921\"]],\"type\":\"histogram2dcontour\"}],\"histogram2d\":[{\"colorbar\":{\"outlinewidth\":0,\"ticks\":\"\"},\"colorscale\":[[0.0,\"#0d0887\"],[0.1111111111111111,\"#46039f\"],[0.2222222222222222,\"#7201a8\"],[0.3333333333333333,\"#9c179e\"],[0.4444444444444444,\"#bd3786\"],[0.5555555555555556,\"#d8576b\"],[0.6666666666666666,\"#ed7953\"],[0.7777777777777778,\"#fb9f3a\"],[0.8888888888888888,\"#fdca26\"],[1.0,\"#f0f921\"]],\"type\":\"histogram2d\"}],\"histogram\":[{\"marker\":{\"pattern\":{\"fillmode\":\"overlay\",\"size\":10,\"solidity\":0.2}},\"type\":\"histogram\"}],\"mesh3d\":[{\"colorbar\":{\"outlinewidth\":0,\"ticks\":\"\"},\"type\":\"mesh3d\"}],\"parcoords\":[{\"line\":{\"colorbar\":{\"outlinewidth\":0,\"ticks\":\"\"}},\"type\":\"parcoords\"}],\"pie\":[{\"automargin\":true,\"type\":\"pie\"}],\"scatter3d\":[{\"line\":{\"colorbar\":{\"outlinewidth\":0,\"ticks\":\"\"}},\"marker\":{\"colorbar\":{\"outlinewidth\":0,\"ticks\":\"\"}},\"type\":\"scatter3d\"}],\"scattercarpet\":[{\"marker\":{\"colorbar\":{\"outlinewidth\":0,\"ticks\":\"\"}},\"type\":\"scattercarpet\"}],\"scattergeo\":[{\"marker\":{\"colorbar\":{\"outlinewidth\":0,\"ticks\":\"\"}},\"type\":\"scattergeo\"}],\"scattergl\":[{\"marker\":{\"colorbar\":{\"outlinewidth\":0,\"ticks\":\"\"}},\"type\":\"scattergl\"}],\"scattermapbox\":[{\"marker\":{\"colorbar\":{\"outlinewidth\":0,\"ticks\":\"\"}},\"type\":\"scattermapbox\"}],\"scatterpolargl\":[{\"marker\":{\"colorbar\":{\"outlinewidth\":0,\"ticks\":\"\"}},\"type\":\"scatterpolargl\"}],\"scatterpolar\":[{\"marker\":{\"colorbar\":{\"outlinewidth\":0,\"ticks\":\"\"}},\"type\":\"scatterpolar\"}],\"scatter\":[{\"marker\":{\"colorbar\":{\"outlinewidth\":0,\"ticks\":\"\"}},\"type\":\"scatter\"}],\"scatterternary\":[{\"marker\":{\"colorbar\":{\"outlinewidth\":0,\"ticks\":\"\"}},\"type\":\"scatterternary\"}],\"surface\":[{\"colorbar\":{\"outlinewidth\":0,\"ticks\":\"\"},\"colorscale\":[[0.0,\"#0d0887\"],[0.1111111111111111,\"#46039f\"],[0.2222222222222222,\"#7201a8\"],[0.3333333333333333,\"#9c179e\"],[0.4444444444444444,\"#bd3786\"],[0.5555555555555556,\"#d8576b\"],[0.6666666666666666,\"#ed7953\"],[0.7777777777777778,\"#fb9f3a\"],[0.8888888888888888,\"#fdca26\"],[1.0,\"#f0f921\"]],\"type\":\"surface\"}],\"table\":[{\"cells\":{\"fill\":{\"color\":\"#EBF0F8\"},\"line\":{\"color\":\"white\"}},\"header\":{\"fill\":{\"color\":\"#C8D4E3\"},\"line\":{\"color\":\"white\"}},\"type\":\"table\"}]},\"layout\":{\"annotationdefaults\":{\"arrowcolor\":\"#2a3f5f\",\"arrowhead\":0,\"arrowwidth\":1},\"autotypenumbers\":\"strict\",\"coloraxis\":{\"colorbar\":{\"outlinewidth\":0,\"ticks\":\"\"}},\"colorscale\":{\"diverging\":[[0,\"#8e0152\"],[0.1,\"#c51b7d\"],[0.2,\"#de77ae\"],[0.3,\"#f1b6da\"],[0.4,\"#fde0ef\"],[0.5,\"#f7f7f7\"],[0.6,\"#e6f5d0\"],[0.7,\"#b8e186\"],[0.8,\"#7fbc41\"],[0.9,\"#4d9221\"],[1,\"#276419\"]],\"sequential\":[[0.0,\"#0d0887\"],[0.1111111111111111,\"#46039f\"],[0.2222222222222222,\"#7201a8\"],[0.3333333333333333,\"#9c179e\"],[0.4444444444444444,\"#bd3786\"],[0.5555555555555556,\"#d8576b\"],[0.6666666666666666,\"#ed7953\"],[0.7777777777777778,\"#fb9f3a\"],[0.8888888888888888,\"#fdca26\"],[1.0,\"#f0f921\"]],\"sequentialminus\":[[0.0,\"#0d0887\"],[0.1111111111111111,\"#46039f\"],[0.2222222222222222,\"#7201a8\"],[0.3333333333333333,\"#9c179e\"],[0.4444444444444444,\"#bd3786\"],[0.5555555555555556,\"#d8576b\"],[0.6666666666666666,\"#ed7953\"],[0.7777777777777778,\"#fb9f3a\"],[0.8888888888888888,\"#fdca26\"],[1.0,\"#f0f921\"]]},\"colorway\":[\"#636efa\",\"#EF553B\",\"#00cc96\",\"#ab63fa\",\"#FFA15A\",\"#19d3f3\",\"#FF6692\",\"#B6E880\",\"#FF97FF\",\"#FECB52\"],\"font\":{\"color\":\"#2a3f5f\"},\"geo\":{\"bgcolor\":\"white\",\"lakecolor\":\"white\",\"landcolor\":\"white\",\"showlakes\":true,\"showland\":true,\"subunitcolor\":\"#C8D4E3\"},\"hoverlabel\":{\"align\":\"left\"},\"hovermode\":\"closest\",\"mapbox\":{\"style\":\"light\"},\"paper_bgcolor\":\"white\",\"plot_bgcolor\":\"white\",\"polar\":{\"angularaxis\":{\"gridcolor\":\"#EBF0F8\",\"linecolor\":\"#EBF0F8\",\"ticks\":\"\"},\"bgcolor\":\"white\",\"radialaxis\":{\"gridcolor\":\"#EBF0F8\",\"linecolor\":\"#EBF0F8\",\"ticks\":\"\"}},\"scene\":{\"xaxis\":{\"backgroundcolor\":\"white\",\"gridcolor\":\"#DFE8F3\",\"gridwidth\":2,\"linecolor\":\"#EBF0F8\",\"showbackground\":true,\"ticks\":\"\",\"zerolinecolor\":\"#EBF0F8\"},\"yaxis\":{\"backgroundcolor\":\"white\",\"gridcolor\":\"#DFE8F3\",\"gridwidth\":2,\"linecolor\":\"#EBF0F8\",\"showbackground\":true,\"ticks\":\"\",\"zerolinecolor\":\"#EBF0F8\"},\"zaxis\":{\"backgroundcolor\":\"white\",\"gridcolor\":\"#DFE8F3\",\"gridwidth\":2,\"linecolor\":\"#EBF0F8\",\"showbackground\":true,\"ticks\":\"\",\"zerolinecolor\":\"#EBF0F8\"}},\"shapedefaults\":{\"line\":{\"color\":\"#2a3f5f\"}},\"ternary\":{\"aaxis\":{\"gridcolor\":\"#DFE8F3\",\"linecolor\":\"#A2B1C6\",\"ticks\":\"\"},\"baxis\":{\"gridcolor\":\"#DFE8F3\",\"linecolor\":\"#A2B1C6\",\"ticks\":\"\"},\"bgcolor\":\"white\",\"caxis\":{\"gridcolor\":\"#DFE8F3\",\"linecolor\":\"#A2B1C6\",\"ticks\":\"\"}},\"title\":{\"x\":0.05},\"xaxis\":{\"automargin\":true,\"gridcolor\":\"#EBF0F8\",\"linecolor\":\"#EBF0F8\",\"ticks\":\"\",\"title\":{\"standoff\":15},\"zerolinecolor\":\"#EBF0F8\",\"zerolinewidth\":2},\"yaxis\":{\"automargin\":true,\"gridcolor\":\"#EBF0F8\",\"linecolor\":\"#EBF0F8\",\"ticks\":\"\",\"title\":{\"standoff\":15},\"zerolinecolor\":\"#EBF0F8\",\"zerolinewidth\":2}}},\"title\":{\"text\":\"Number of Orders by Countries\",\"x\":0.5,\"xanchor\":\"center\",\"y\":0.9,\"yanchor\":\"top\"},\"width\":1000},                        {\"responsive\": true}                    ).then(function(){\n",
              "                            \n",
              "var gd = document.getElementById('8c5e9dff-3401-4d06-89f5-1927995b94f7');\n",
              "var x = new MutationObserver(function (mutations, observer) {{\n",
              "        var display = window.getComputedStyle(gd).display;\n",
              "        if (!display || display === 'none') {{\n",
              "            console.log([gd, 'removed!']);\n",
              "            Plotly.purge(gd);\n",
              "            observer.disconnect();\n",
              "        }}\n",
              "}});\n",
              "\n",
              "// Listen for the removal of the full notebook cells\n",
              "var notebookContainer = gd.closest('#notebook-container');\n",
              "if (notebookContainer) {{\n",
              "    x.observe(notebookContainer, {childList: true});\n",
              "}}\n",
              "\n",
              "// Listen for the clearing of the current output cell\n",
              "var outputEl = gd.closest('.output');\n",
              "if (outputEl) {{\n",
              "    x.observe(outputEl, {childList: true});\n",
              "}}\n",
              "\n",
              "                        })                };                            </script>        </div>\n",
              "</body>\n",
              "</html>"
            ]
          },
          "metadata": {}
        },
        {
          "output_type": "display_data",
          "data": {
            "text/plain": [
              "<IPython.core.display.Javascript object>"
            ],
            "application/javascript": [
              "\n",
              "            setTimeout(function() {\n",
              "                var nbb_cell_id = 10;\n",
              "                var nbb_unformatted_code = \"world_map = df[['CustomerID', 'InvoiceNo', 'Country']\\n              ].groupby(['CustomerID', 'InvoiceNo', 'Country']\\n                       ).count().reset_index(drop = False)\\ncountries = world_map['Country'].value_counts()\\ndata = dict(type='choropleth',\\n            locations = countries.index,\\n            locationmode = 'country names',\\n            z = countries,\\n            text = countries.index,\\n            colorbar = {'title':'Orders'},\\n            colorscale='Viridis',\\n            reversescale = False)\\n\\nlayout = dict(title={'text': \\\"Number of Orders by Countries\\\",\\n                     'y':0.9,\\n                     'x':0.5,\\n                     'xanchor': 'center',\\n                     'yanchor': 'top'},\\n              geo = dict(resolution = 50,\\n                         showocean = True,\\n                         oceancolor = \\\"LightBlue\\\",\\n                         showland = True,\\n                         landcolor = \\\"whitesmoke\\\",\\n                         showframe = True),\\n             template = 'plotly_white',\\n             height = 600,\\n             width = 1000)\\n\\nchoromap = go.Figure(data = [data], layout = layout)\\niplot(choromap, validate = False)\";\n",
              "                var nbb_formatted_code = \"world_map = (\\n    df[[\\\"CustomerID\\\", \\\"InvoiceNo\\\", \\\"Country\\\"]]\\n    .groupby([\\\"CustomerID\\\", \\\"InvoiceNo\\\", \\\"Country\\\"])\\n    .count()\\n    .reset_index(drop=False)\\n)\\ncountries = world_map[\\\"Country\\\"].value_counts()\\ndata = dict(\\n    type=\\\"choropleth\\\",\\n    locations=countries.index,\\n    locationmode=\\\"country names\\\",\\n    z=countries,\\n    text=countries.index,\\n    colorbar={\\\"title\\\": \\\"Orders\\\"},\\n    colorscale=\\\"Viridis\\\",\\n    reversescale=False,\\n)\\n\\nlayout = dict(\\n    title={\\n        \\\"text\\\": \\\"Number of Orders by Countries\\\",\\n        \\\"y\\\": 0.9,\\n        \\\"x\\\": 0.5,\\n        \\\"xanchor\\\": \\\"center\\\",\\n        \\\"yanchor\\\": \\\"top\\\",\\n    },\\n    geo=dict(\\n        resolution=50,\\n        showocean=True,\\n        oceancolor=\\\"LightBlue\\\",\\n        showland=True,\\n        landcolor=\\\"whitesmoke\\\",\\n        showframe=True,\\n    ),\\n    template=\\\"plotly_white\\\",\\n    height=600,\\n    width=1000,\\n)\\n\\nchoromap = go.Figure(data=[data], layout=layout)\\niplot(choromap, validate=False)\";\n",
              "                var nbb_cells = Jupyter.notebook.get_cells();\n",
              "                for (var i = 0; i < nbb_cells.length; ++i) {\n",
              "                    if (nbb_cells[i].input_prompt_number == nbb_cell_id) {\n",
              "                        if (nbb_cells[i].get_text() == nbb_unformatted_code) {\n",
              "                             nbb_cells[i].set_text(nbb_formatted_code);\n",
              "                        }\n",
              "                        break;\n",
              "                    }\n",
              "                }\n",
              "            }, 500);\n",
              "            "
            ]
          },
          "metadata": {}
        }
      ]
    },
    {
      "cell_type": "markdown",
      "source": [
        "<span style=\"color:#31A919;\n",
        "             font-size:160%;\n",
        "             font-family:Verdana;\">\n",
        "Descriptive Statistics"
      ],
      "metadata": {
        "id": "D8OyFtQl9UXE"
      }
    },
    {
      "cell_type": "code",
      "source": [
        "def desc_stats(dataframe):\n",
        "    desc_df = pd.DataFrame(index= dataframe.columns, \n",
        "                           columns= dataframe.describe().T.columns,\n",
        "                           data= dataframe.describe().T)\n",
        "    \n",
        "    f,ax = plt.subplots(figsize=(10,\n",
        "                                 desc_df.shape[0] * 0.81))\n",
        "    sns.heatmap(desc_df,\n",
        "                annot = True,\n",
        "                cmap = \"Greens\",\n",
        "                fmt = '.2f',\n",
        "                ax = ax,\n",
        "                linecolor = 'white',\n",
        "                linewidths = 1.1,\n",
        "                cbar = False,\n",
        "                annot_kws = {\"size\": 12})\n",
        "    plt.xticks(size = 18)\n",
        "    plt.yticks(size = 14,\n",
        "               rotation = 0)\n",
        "    plt.title(\"Descriptive Statistics\", size = 14)\n",
        "    plt.show()\n",
        "    \n",
        "desc_stats(df.select_dtypes(include = [float, int]))"
      ],
      "metadata": {
        "execution": {
          "iopub.status.busy": "2022-10-29T16:11:31.420634Z",
          "iopub.execute_input": "2022-10-29T16:11:31.420943Z",
          "iopub.status.idle": "2022-10-29T16:11:31.817965Z",
          "shell.execute_reply.started": "2022-10-29T16:11:31.420913Z",
          "shell.execute_reply": "2022-10-29T16:11:31.81709Z"
        },
        "trusted": true,
        "colab": {
          "base_uri": "https://localhost:8080/",
          "height": 161
        },
        "id": "fNUXXpry9UXE",
        "outputId": "2d668744-9c35-40aa-9875-87c3b039dd56"
      },
      "execution_count": 11,
      "outputs": [
        {
          "output_type": "display_data",
          "data": {
            "text/plain": [
              "<Figure size 720x116.64 with 1 Axes>"
            ],
            "image/png": "[encoded data removed]"
          },
          "metadata": {}
        },
        {
          "output_type": "display_data",
          "data": {
            "text/plain": [
              "<IPython.core.display.Javascript object>"
            ],
            "application/javascript": [
              "\n",
              "            setTimeout(function() {\n",
              "                var nbb_cell_id = 11;\n",
              "                var nbb_unformatted_code = \"def desc_stats(dataframe):\\n    desc_df = pd.DataFrame(index= dataframe.columns, \\n                           columns= dataframe.describe().T.columns,\\n                           data= dataframe.describe().T)\\n    \\n    f,ax = plt.subplots(figsize=(10,\\n                                 desc_df.shape[0] * 0.81))\\n    sns.heatmap(desc_df,\\n                annot = True,\\n                cmap = \\\"Greens\\\",\\n                fmt = '.2f',\\n                ax = ax,\\n                linecolor = 'white',\\n                linewidths = 1.1,\\n                cbar = False,\\n                annot_kws = {\\\"size\\\": 12})\\n    plt.xticks(size = 18)\\n    plt.yticks(size = 14,\\n               rotation = 0)\\n    plt.title(\\\"Descriptive Statistics\\\", size = 14)\\n    plt.show()\\n    \\ndesc_stats(df.select_dtypes(include = [float, int]))\";\n",
              "                var nbb_formatted_code = \"def desc_stats(dataframe):\\n    desc_df = pd.DataFrame(\\n        index=dataframe.columns,\\n        columns=dataframe.describe().T.columns,\\n        data=dataframe.describe().T,\\n    )\\n\\n    f, ax = plt.subplots(figsize=(10, desc_df.shape[0] * 0.81))\\n    sns.heatmap(\\n        desc_df,\\n        annot=True,\\n        cmap=\\\"Greens\\\",\\n        fmt=\\\".2f\\\",\\n        ax=ax,\\n        linecolor=\\\"white\\\",\\n        linewidths=1.1,\\n        cbar=False,\\n        annot_kws={\\\"size\\\": 12},\\n    )\\n    plt.xticks(size=18)\\n    plt.yticks(size=14, rotation=0)\\n    plt.title(\\\"Descriptive Statistics\\\", size=14)\\n    plt.show()\\n\\n\\ndesc_stats(df.select_dtypes(include=[float, int]))\";\n",
              "                var nbb_cells = Jupyter.notebook.get_cells();\n",
              "                for (var i = 0; i < nbb_cells.length; ++i) {\n",
              "                    if (nbb_cells[i].input_prompt_number == nbb_cell_id) {\n",
              "                        if (nbb_cells[i].get_text() == nbb_unformatted_code) {\n",
              "                             nbb_cells[i].set_text(nbb_formatted_code);\n",
              "                        }\n",
              "                        break;\n",
              "                    }\n",
              "                }\n",
              "            }, 500);\n",
              "            "
            ]
          },
          "metadata": {}
        }
      ]
    },
    {
      "cell_type": "markdown",
      "source": [
        "📌  It is clearly seems that there are ouliters in Quantity and UnitPrice that have to be handled <br />\n",
        "📌  There are negative values in UnitPrice and Quantity because of **cancelled orders**. <br /> \n",
        "📌  Missing values in Customer ID and Description. <br />\n",
        "📌  Quantity and Unit Price should be multiplied in order to create **Total Price**.               \n"
      ],
      "metadata": {
        "id": "LYY1oOiV9UXE"
      }
    },
    {
      "cell_type": "markdown",
      "source": [
        "<a id = \"4\"></a>\n",
        "<span style=\" font-family:Verdana; font-size:190%; color:#31A919; \">Data Preprocessing</span>"
      ],
      "metadata": {
        "id": "IhpOVb8w9UXE"
      }
    },
    {
      "cell_type": "code",
      "source": [
        "def replace_with_thresholds(dataframe, variable, q1 = 0.25, q3 = 0.75):\n",
        "    \n",
        "    '''\n",
        "    Detects outliers with IQR method and replaces with thresholds \n",
        "    \n",
        "    '''\n",
        "    \n",
        "    df_ = dataframe.copy()\n",
        "    quartile1 = df_[variable].quantile(q1)\n",
        "    quartile3 = df_[variable].quantile(q3)\n",
        "    iqr = quartile3 - quartile1\n",
        "    \n",
        "    up_limit = quartile3 + 1.5 * iqr\n",
        "    low_limit = quartile1 - 1.5 * iqr\n",
        "    df_.loc[(df_[variable] < low_limit), variable] = low_limit\n",
        "    df_.loc[(df_[variable] > up_limit), variable] = up_limit\n",
        "    \n",
        "    return df_\n",
        "\n",
        "def ecommerce_preprocess(dataframe):\n",
        "    df_ = dataframe.copy()\n",
        "    \n",
        "    #Missing Values\n",
        "    df_ = df_.dropna()\n",
        "    \n",
        "    #Cancelled Orders & Quantity\n",
        "    df_ = df_[~df_['InvoiceNo'].str.contains('C', na = False)]\n",
        "    df_ = df_[df_['Quantity'] > 0]\n",
        "    \n",
        "    #Replacing Outliers\n",
        "    df_ = replace_with_thresholds(df_, \"Quantity\", q1 = 0.01, q3 = 0.99)\n",
        "    df_ = replace_with_thresholds(df_, \"UnitPrice\", q1 = 0.01, q3 = 0.99)\n",
        "    \n",
        "    #Total Price\n",
        "    df_[\"TotalPrice\"] = df_[\"Quantity\"] * df_[\"UnitPrice\"]\n",
        "    \n",
        "    return df_"
      ],
      "metadata": {
        "execution": {
          "iopub.status.busy": "2022-10-29T16:11:31.819612Z",
          "iopub.execute_input": "2022-10-29T16:11:31.820154Z",
          "iopub.status.idle": "2022-10-29T16:11:31.851353Z",
          "shell.execute_reply.started": "2022-10-29T16:11:31.820119Z",
          "shell.execute_reply": "2022-10-29T16:11:31.850608Z"
        },
        "trusted": true,
        "colab": {
          "base_uri": "https://localhost:8080/",
          "height": 17
        },
        "id": "nhvIuuGp9UXE",
        "outputId": "b93aeb1a-7a52-43ad-ccb3-a9ea0f209fe8"
      },
      "execution_count": 12,
      "outputs": [
        {
          "output_type": "display_data",
          "data": {
            "text/plain": [
              "<IPython.core.display.Javascript object>"
            ],
            "application/javascript": [
              "\n",
              "            setTimeout(function() {\n",
              "                var nbb_cell_id = 12;\n",
              "                var nbb_unformatted_code = \"def replace_with_thresholds(dataframe, variable, q1 = 0.25, q3 = 0.75):\\n    \\n    '''\\n    Detects outliers with IQR method and replaces with thresholds \\n    \\n    '''\\n    \\n    df_ = dataframe.copy()\\n    quartile1 = df_[variable].quantile(q1)\\n    quartile3 = df_[variable].quantile(q3)\\n    iqr = quartile3 - quartile1\\n    \\n    up_limit = quartile3 + 1.5 * iqr\\n    low_limit = quartile1 - 1.5 * iqr\\n    df_.loc[(df_[variable] < low_limit), variable] = low_limit\\n    df_.loc[(df_[variable] > up_limit), variable] = up_limit\\n    \\n    return df_\\n\\ndef ecommerce_preprocess(dataframe):\\n    df_ = dataframe.copy()\\n    \\n    #Missing Values\\n    df_ = df_.dropna()\\n    \\n    #Cancelled Orders & Quantity\\n    df_ = df_[~df_['InvoiceNo'].str.contains('C', na = False)]\\n    df_ = df_[df_['Quantity'] > 0]\\n    \\n    #Replacing Outliers\\n    df_ = replace_with_thresholds(df_, \\\"Quantity\\\", q1 = 0.01, q3 = 0.99)\\n    df_ = replace_with_thresholds(df_, \\\"UnitPrice\\\", q1 = 0.01, q3 = 0.99)\\n    \\n    #Total Price\\n    df_[\\\"TotalPrice\\\"] = df_[\\\"Quantity\\\"] * df_[\\\"UnitPrice\\\"]\\n    \\n    return df_\";\n",
              "                var nbb_formatted_code = \"def replace_with_thresholds(dataframe, variable, q1=0.25, q3=0.75):\\n\\n    \\\"\\\"\\\"\\n    Detects outliers with IQR method and replaces with thresholds\\n\\n    \\\"\\\"\\\"\\n\\n    df_ = dataframe.copy()\\n    quartile1 = df_[variable].quantile(q1)\\n    quartile3 = df_[variable].quantile(q3)\\n    iqr = quartile3 - quartile1\\n\\n    up_limit = quartile3 + 1.5 * iqr\\n    low_limit = quartile1 - 1.5 * iqr\\n    df_.loc[(df_[variable] < low_limit), variable] = low_limit\\n    df_.loc[(df_[variable] > up_limit), variable] = up_limit\\n\\n    return df_\\n\\n\\ndef ecommerce_preprocess(dataframe):\\n    df_ = dataframe.copy()\\n\\n    # Missing Values\\n    df_ = df_.dropna()\\n\\n    # Cancelled Orders & Quantity\\n    df_ = df_[~df_[\\\"InvoiceNo\\\"].str.contains(\\\"C\\\", na=False)]\\n    df_ = df_[df_[\\\"Quantity\\\"] > 0]\\n\\n    # Replacing Outliers\\n    df_ = replace_with_thresholds(df_, \\\"Quantity\\\", q1=0.01, q3=0.99)\\n    df_ = replace_with_thresholds(df_, \\\"UnitPrice\\\", q1=0.01, q3=0.99)\\n\\n    # Total Price\\n    df_[\\\"TotalPrice\\\"] = df_[\\\"Quantity\\\"] * df_[\\\"UnitPrice\\\"]\\n\\n    return df_\";\n",
              "                var nbb_cells = Jupyter.notebook.get_cells();\n",
              "                for (var i = 0; i < nbb_cells.length; ++i) {\n",
              "                    if (nbb_cells[i].input_prompt_number == nbb_cell_id) {\n",
              "                        if (nbb_cells[i].get_text() == nbb_unformatted_code) {\n",
              "                             nbb_cells[i].set_text(nbb_formatted_code);\n",
              "                        }\n",
              "                        break;\n",
              "                    }\n",
              "                }\n",
              "            }, 500);\n",
              "            "
            ]
          },
          "metadata": {}
        }
      ]
    },
    {
      "cell_type": "code",
      "source": [
        "df = ecommerce_preprocess(df)\n",
        "\n",
        "desc_stats(df.select_dtypes(include = [float, int]))"
      ],
      "metadata": {
        "execution": {
          "iopub.status.busy": "2022-10-29T16:11:31.853521Z",
          "iopub.execute_input": "2022-10-29T16:11:31.853803Z",
          "iopub.status.idle": "2022-10-29T16:11:32.781972Z",
          "shell.execute_reply.started": "2022-10-29T16:11:31.853774Z",
          "shell.execute_reply": "2022-10-29T16:11:32.78094Z"
        },
        "trusted": true,
        "colab": {
          "base_uri": "https://localhost:8080/",
          "height": 205
        },
        "id": "u8fFDSVh9UXF",
        "outputId": "f1c74c64-eb22-43a6-ca7d-5425967676ec"
      },
      "execution_count": 13,
      "outputs": [
        {
          "output_type": "display_data",
          "data": {
            "text/plain": [
              "<Figure size 720x174.96 with 1 Axes>"
            ],
            "image/png": "[encoded data removed]"
          },
          "metadata": {}
        },
        {
          "output_type": "display_data",
          "data": {
            "text/plain": [
              "<IPython.core.display.Javascript object>"
            ],
            "application/javascript": [
              "\n",
              "            setTimeout(function() {\n",
              "                var nbb_cell_id = 13;\n",
              "                var nbb_unformatted_code = \"df = ecommerce_preprocess(df)\\n\\ndesc_stats(df.select_dtypes(include = [float, int]))\";\n",
              "                var nbb_formatted_code = \"df = ecommerce_preprocess(df)\\n\\ndesc_stats(df.select_dtypes(include=[float, int]))\";\n",
              "                var nbb_cells = Jupyter.notebook.get_cells();\n",
              "                for (var i = 0; i < nbb_cells.length; ++i) {\n",
              "                    if (nbb_cells[i].input_prompt_number == nbb_cell_id) {\n",
              "                        if (nbb_cells[i].get_text() == nbb_unformatted_code) {\n",
              "                             nbb_cells[i].set_text(nbb_formatted_code);\n",
              "                        }\n",
              "                        break;\n",
              "                    }\n",
              "                }\n",
              "            }, 500);\n",
              "            "
            ]
          },
          "metadata": {}
        }
      ]
    },
    {
      "cell_type": "markdown",
      "source": [
        "<a id = \"5\"></a>\n",
        "<span style=\" font-family:Verdana; font-size:190%; color:#31A919; \">RFM Analysis</span>\n",
        "\n",
        "RFM stands for **Recency**, **Frequency**, and **Monetary** value, each corresponding to some key customer trait. These RFM metrics are important indicators of a customer’s behavior because frequency and monetary value affects a customer’s lifetime value, and recency affects retention, a measure of engagement.   \n",
        "\n",
        "RFM factors illustrate these facts:\n",
        "\n",
        "- The more recent the purchase, the more responsive the customer is to promotions\n",
        "- The more frequently the customer buys, the more engaged and satisfied they are\n",
        "- Monetary value differentiates heavy spenders from low-value purchasers\n",
        "\n",
        "<span style=\"color:#31A919;\n",
        "             font-size:160%;\n",
        "             font-family:Verdana;\">\n",
        "RFM Metrics"
      ],
      "metadata": {
        "id": "FzoceV1K9UXF"
      }
    },
    {
      "cell_type": "code",
      "source": [
        "print(df['InvoiceDate'].max())"
      ],
      "metadata": {
        "execution": {
          "iopub.status.busy": "2022-10-29T16:11:32.784113Z",
          "iopub.execute_input": "2022-10-29T16:11:32.784414Z",
          "iopub.status.idle": "2022-10-29T16:11:32.795536Z",
          "shell.execute_reply.started": "2022-10-29T16:11:32.784381Z",
          "shell.execute_reply": "2022-10-29T16:11:32.794457Z"
        },
        "trusted": true,
        "colab": {
          "base_uri": "https://localhost:8080/",
          "height": 35
        },
        "id": "0WNpsq9j9UXF",
        "outputId": "365fc63d-cce1-4827-9714-f8de248fd767"
      },
      "execution_count": 14,
      "outputs": [
        {
          "output_type": "stream",
          "name": "stdout",
          "text": [
            "2011-12-09 12:50:00\n"
          ]
        },
        {
          "output_type": "display_data",
          "data": {
            "text/plain": [
              "<IPython.core.display.Javascript object>"
            ],
            "application/javascript": [
              "\n",
              "            setTimeout(function() {\n",
              "                var nbb_cell_id = 14;\n",
              "                var nbb_unformatted_code = \"print(df['InvoiceDate'].max())\";\n",
              "                var nbb_formatted_code = \"print(df[\\\"InvoiceDate\\\"].max())\";\n",
              "                var nbb_cells = Jupyter.notebook.get_cells();\n",
              "                for (var i = 0; i < nbb_cells.length; ++i) {\n",
              "                    if (nbb_cells[i].input_prompt_number == nbb_cell_id) {\n",
              "                        if (nbb_cells[i].get_text() == nbb_unformatted_code) {\n",
              "                             nbb_cells[i].set_text(nbb_formatted_code);\n",
              "                        }\n",
              "                        break;\n",
              "                    }\n",
              "                }\n",
              "            }, 500);\n",
              "            "
            ]
          },
          "metadata": {}
        }
      ]
    },
    {
      "cell_type": "code",
      "source": [
        "today_date = dt.datetime(2011,12,11)\n",
        "\n",
        "rfm = df.groupby('CustomerID').agg({'InvoiceDate': lambda x: (today_date - x.max()).days,\n",
        "                                    'InvoiceNo': lambda x: x.nunique(),\n",
        "                                    'TotalPrice': lambda x: x.sum()})\n",
        "\n",
        "rfm.columns = ['recency', 'frequency', 'monetary']\n",
        "rfm = rfm[rfm['monetary'] > 0]\n",
        "rfm = rfm.reset_index()\n",
        "\n",
        "rfm.head()"
      ],
      "metadata": {
        "execution": {
          "iopub.status.busy": "2022-10-29T16:11:32.797291Z",
          "iopub.execute_input": "2022-10-29T16:11:32.79804Z",
          "iopub.status.idle": "2022-10-29T16:11:34.680711Z",
          "shell.execute_reply.started": "2022-10-29T16:11:32.797968Z",
          "shell.execute_reply": "2022-10-29T16:11:34.679659Z"
        },
        "trusted": true,
        "colab": {
          "base_uri": "https://localhost:8080/",
          "height": 206
        },
        "id": "nDLwEAQU9UXF",
        "outputId": "35393f54-800c-4779-f608-f27aec6e63b4"
      },
      "execution_count": 22,
      "outputs": [
        {
          "output_type": "execute_result",
          "data": {
            "text/plain": [
              "  CustomerID  recency  frequency  monetary\n",
              "0      12346      326          1    310.44\n",
              "1      12347        3          7   4310.00\n",
              "2      12348       76          4   1770.78\n",
              "3      12349       19          1   1491.72\n",
              "4      12350      311          1    331.46"
            ],
            "text/html": [
              "\n",
              "  <div id=\"df-36d8bc04-c935-4c39-8695-77db9142b4d6\">\n",
              "    <div class=\"colab-df-container\">\n",
              "      <div>\n",
              "<style scoped>\n",
              "    .dataframe tbody tr th:only-of-type {\n",
              "        vertical-align: middle;\n",
              "    }\n",
              "\n",
              "    .dataframe tbody tr th {\n",
              "        vertical-align: top;\n",
              "    }\n",
              "\n",
              "    .dataframe thead th {\n",
              "        text-align: right;\n",
              "    }\n",
              "</style>\n",
              "<table border=\"1\" class=\"dataframe\">\n",
              "  <thead>\n",
              "    <tr style=\"text-align: right;\">\n",
              "      <th></th>\n",
              "      <th>CustomerID</th>\n",
              "      <th>recency</th>\n",
              "      <th>frequency</th>\n",
              "      <th>monetary</th>\n",
              "    </tr>\n",
              "  </thead>\n",
              "  <tbody>\n",
              "    <tr>\n",
              "      <th>0</th>\n",
              "      <td>12346</td>\n",
              "      <td>326</td>\n",
              "      <td>1</td>\n",
              "      <td>310.44</td>\n",
              "    </tr>\n",
              "    <tr>\n",
              "      <th>1</th>\n",
              "      <td>12347</td>\n",
              "      <td>3</td>\n",
              "      <td>7</td>\n",
              "      <td>4310.00</td>\n",
              "    </tr>\n",
              "    <tr>\n",
              "      <th>2</th>\n",
              "      <td>12348</td>\n",
              "      <td>76</td>\n",
              "      <td>4</td>\n",
              "      <td>1770.78</td>\n",
              "    </tr>\n",
              "    <tr>\n",
              "      <th>3</th>\n",
              "      <td>12349</td>\n",
              "      <td>19</td>\n",
              "      <td>1</td>\n",
              "      <td>1491.72</td>\n",
              "    </tr>\n",
              "    <tr>\n",
              "      <th>4</th>\n",
              "      <td>12350</td>\n",
              "      <td>311</td>\n",
              "      <td>1</td>\n",
              "      <td>331.46</td>\n",
              "    </tr>\n",
              "  </tbody>\n",
              "</table>\n",
              "</div>\n",
              "      <button class=\"colab-df-convert\" onclick=\"convertToInteractive('df-36d8bc04-c935-4c39-8695-77db9142b4d6')\"\n",
              "              title=\"Convert this dataframe to an interactive table.\"\n",
              "              style=\"display:none;\">\n",
              "        \n",
              "  <svg xmlns=\"http://www.w3.org/2000/svg\" height=\"24px\"viewBox=\"0 0 24 24\"\n",
              "       width=\"24px\">\n",
              "    <path d=\"M0 0h24v24H0V0z\" fill=\"none\"/>\n",
              "    <path d=\"M18.56 5.44l.94 2.06.94-2.06 2.06-.94-2.06-.94-.94-2.06-.94 2.06-2.06.94zm-11 1L8.5 8.5l.94-2.06 2.06-.94-2.06-.94L8.5 2.5l-.94 2.06-2.06.94zm10 10l.94 2.06.94-2.06 2.06-.94-2.06-.94-.94-2.06-.94 2.06-2.06.94z\"/><path d=\"M17.41 7.96l-1.37-1.37c-.4-.4-.92-.59-1.43-.59-.52 0-1.04.2-1.43.59L10.3 9.45l-7.72 7.72c-.78.78-.78 2.05 0 2.83L4 21.41c.39.39.9.59 1.41.59.51 0 1.02-.2 1.41-.59l7.78-7.78 2.81-2.81c.8-.78.8-2.07 0-2.86zM5.41 20L4 18.59l7.72-7.72 1.47 1.35L5.41 20z\"/>\n",
              "  </svg>\n",
              "      </button>\n",
              "      \n",
              "  <style>\n",
              "    .colab-df-container {\n",
              "      display:flex;\n",
              "      flex-wrap:wrap;\n",
              "      gap: 12px;\n",
              "    }\n",
              "\n",
              "    .colab-df-convert {\n",
              "      background-color: #E8F0FE;\n",
              "      border: none;\n",
              "      border-radius: 50%;\n",
              "      cursor: pointer;\n",
              "      display: none;\n",
              "      fill: #1967D2;\n",
              "      height: 32px;\n",
              "      padding: 0 0 0 0;\n",
              "      width: 32px;\n",
              "    }\n",
              "\n",
              "    .colab-df-convert:hover {\n",
              "      background-color: #E2EBFA;\n",
              "      box-shadow: 0px 1px 2px rgba(60, 64, 67, 0.3), 0px 1px 3px 1px rgba(60, 64, 67, 0.15);\n",
              "      fill: #174EA6;\n",
              "    }\n",
              "\n",
              "    [theme=dark] .colab-df-convert {\n",
              "      background-color: #3B4455;\n",
              "      fill: #D2E3FC;\n",
              "    }\n",
              "\n",
              "    [theme=dark] .colab-df-convert:hover {\n",
              "      background-color: #434B5C;\n",
              "      box-shadow: 0px 1px 3px 1px rgba(0, 0, 0, 0.15);\n",
              "      filter: drop-shadow(0px 1px 2px rgba(0, 0, 0, 0.3));\n",
              "      fill: #FFFFFF;\n",
              "    }\n",
              "  </style>\n",
              "\n",
              "      <script>\n",
              "        const buttonEl =\n",
              "          document.querySelector('#df-36d8bc04-c935-4c39-8695-77db9142b4d6 button.colab-df-convert');\n",
              "        buttonEl.style.display =\n",
              "          google.colab.kernel.accessAllowed ? 'block' : 'none';\n",
              "\n",
              "        async function convertToInteractive(key) {\n",
              "          const element = document.querySelector('#df-36d8bc04-c935-4c39-8695-77db9142b4d6');\n",
              "          const dataTable =\n",
              "            await google.colab.kernel.invokeFunction('convertToInteractive',\n",
              "                                                     [key], {});\n",
              "          if (!dataTable) return;\n",
              "\n",
              "          const docLinkHtml = 'Like what you see? Visit the ' +\n",
              "            '<a target=\"_blank\" href=https://colab.research.google.com/notebooks/data_table.ipynb>data table notebook</a>'\n",
              "            + ' to learn more about interactive tables.';\n",
              "          element.innerHTML = '';\n",
              "          dataTable['output_type'] = 'display_data';\n",
              "          await google.colab.output.renderOutput(dataTable, element);\n",
              "          const docLink = document.createElement('div');\n",
              "          docLink.innerHTML = docLinkHtml;\n",
              "          element.appendChild(docLink);\n",
              "        }\n",
              "      </script>\n",
              "    </div>\n",
              "  </div>\n",
              "  "
            ]
          },
          "metadata": {},
          "execution_count": 22
        },
        {
          "output_type": "display_data",
          "data": {
            "text/plain": [
              "<IPython.core.display.Javascript object>"
            ],
            "application/javascript": [
              "\n",
              "            setTimeout(function() {\n",
              "                var nbb_cell_id = 22;\n",
              "                var nbb_unformatted_code = \"today_date = dt.datetime(2011,12,11)\\n\\nrfm = df.groupby('CustomerID').agg({'InvoiceDate': lambda x: (today_date - x.max()).days,\\n                                    'InvoiceNo': lambda x: x.nunique(),\\n                                    'TotalPrice': lambda x: x.sum()})\\n\\nrfm.columns = ['recency', 'frequency', 'monetary']\\nrfm = rfm[rfm['monetary'] > 0]\\nrfm = rfm.reset_index()\\n\\nrfm.head()\";\n",
              "                var nbb_formatted_code = \"today_date = dt.datetime(2011, 12, 11)\\n\\nrfm = df.groupby(\\\"CustomerID\\\").agg(\\n    {\\n        \\\"InvoiceDate\\\": lambda x: (today_date - x.max()).days,\\n        \\\"InvoiceNo\\\": lambda x: x.nunique(),\\n        \\\"TotalPrice\\\": lambda x: x.sum(),\\n    }\\n)\\n\\nrfm.columns = [\\\"recency\\\", \\\"frequency\\\", \\\"monetary\\\"]\\nrfm = rfm[rfm[\\\"monetary\\\"] > 0]\\nrfm = rfm.reset_index()\\n\\nrfm.head()\";\n",
              "                var nbb_cells = Jupyter.notebook.get_cells();\n",
              "                for (var i = 0; i < nbb_cells.length; ++i) {\n",
              "                    if (nbb_cells[i].input_prompt_number == nbb_cell_id) {\n",
              "                        if (nbb_cells[i].get_text() == nbb_unformatted_code) {\n",
              "                             nbb_cells[i].set_text(nbb_formatted_code);\n",
              "                        }\n",
              "                        break;\n",
              "                    }\n",
              "                }\n",
              "            }, 500);\n",
              "            "
            ]
          },
          "metadata": {}
        }
      ]
    },
    {
      "cell_type": "markdown",
      "source": [
        "<span style=\"color:#31A919;\n",
        "             font-size:160%;\n",
        "             font-family:Verdana;\">\n",
        "RFM Scores"
      ],
      "metadata": {
        "id": "f4Wl5YTG9UXG"
      }
    },
    {
      "cell_type": "code",
      "source": [
        "def get_rfm_scores(dataframe):\n",
        "    \n",
        "    df_ = dataframe.copy()\n",
        "    df_['recency_score'] = pd.qcut(df_['recency'],5,labels = [5, 4, 3, 2, 1])\n",
        "    df_['frequency_score'] = pd.qcut(df_['frequency'].rank(method = \"first\"), 5, labels = [1, 2, 3, 4, 5])\n",
        "    df_['monetary_score'] = pd.qcut(df_['monetary'], 5, labels = [1, 2, 3, 4, 5])\n",
        "    df_['RFM_SCORE'] = (df_['recency_score'].astype(str) + df_['frequency_score'].astype(str))\n",
        "    \n",
        "    return df_\n",
        "\n",
        "rfm = get_rfm_scores(rfm)"
      ],
      "metadata": {
        "execution": {
          "iopub.status.busy": "2022-10-29T16:11:34.682355Z",
          "iopub.execute_input": "2022-10-29T16:11:34.682766Z",
          "iopub.status.idle": "2022-10-29T16:11:34.721022Z",
          "shell.execute_reply.started": "2022-10-29T16:11:34.682728Z",
          "shell.execute_reply": "2022-10-29T16:11:34.720049Z"
        },
        "trusted": true,
        "colab": {
          "base_uri": "https://localhost:8080/",
          "height": 17
        },
        "id": "Qi2UrYE-9UXG",
        "outputId": "4cd2964c-f440-45e4-9afe-bff359d13992"
      },
      "execution_count": 23,
      "outputs": [
        {
          "output_type": "display_data",
          "data": {
            "text/plain": [
              "<IPython.core.display.Javascript object>"
            ],
            "application/javascript": [
              "\n",
              "            setTimeout(function() {\n",
              "                var nbb_cell_id = 23;\n",
              "                var nbb_unformatted_code = \"def get_rfm_scores(dataframe):\\n    \\n    df_ = dataframe.copy()\\n    df_['recency_score'] = pd.qcut(df_['recency'],5,labels = [5, 4, 3, 2, 1])\\n    df_['frequency_score'] = pd.qcut(df_['frequency'].rank(method = \\\"first\\\"), 5, labels = [1, 2, 3, 4, 5])\\n    df_['monetary_score'] = pd.qcut(df_['monetary'], 5, labels = [1, 2, 3, 4, 5])\\n    df_['RFM_SCORE'] = (df_['recency_score'].astype(str) + df_['frequency_score'].astype(str))\\n    \\n    return df_\\n\\nrfm = get_rfm_scores(rfm)\";\n",
              "                var nbb_formatted_code = \"def get_rfm_scores(dataframe):\\n\\n    df_ = dataframe.copy()\\n    df_[\\\"recency_score\\\"] = pd.qcut(df_[\\\"recency\\\"], 5, labels=[5, 4, 3, 2, 1])\\n    df_[\\\"frequency_score\\\"] = pd.qcut(\\n        df_[\\\"frequency\\\"].rank(method=\\\"first\\\"), 5, labels=[1, 2, 3, 4, 5]\\n    )\\n    df_[\\\"monetary_score\\\"] = pd.qcut(df_[\\\"monetary\\\"], 5, labels=[1, 2, 3, 4, 5])\\n    df_[\\\"RFM_SCORE\\\"] = df_[\\\"recency_score\\\"].astype(str) + df_[\\\"frequency_score\\\"].astype(\\n        str\\n    )\\n\\n    return df_\\n\\n\\nrfm = get_rfm_scores(rfm)\";\n",
              "                var nbb_cells = Jupyter.notebook.get_cells();\n",
              "                for (var i = 0; i < nbb_cells.length; ++i) {\n",
              "                    if (nbb_cells[i].input_prompt_number == nbb_cell_id) {\n",
              "                        if (nbb_cells[i].get_text() == nbb_unformatted_code) {\n",
              "                             nbb_cells[i].set_text(nbb_formatted_code);\n",
              "                        }\n",
              "                        break;\n",
              "                    }\n",
              "                }\n",
              "            }, 500);\n",
              "            "
            ]
          },
          "metadata": {}
        }
      ]
    },
    {
      "cell_type": "markdown",
      "source": [
        "<span style=\"color:#31A919;\n",
        "             font-size:160%;\n",
        "             font-family:Verdana;\">\n",
        "Segmentation"
      ],
      "metadata": {
        "id": "szq7FG3U9UXG"
      }
    },
    {
      "cell_type": "code",
      "source": [
        "seg_map = {r'[1-2][1-2]': 'hibernating',\n",
        "           r'[1-2][3-4]': 'at_Risk',\n",
        "           r'[1-2]5': 'cant_loose',\n",
        "           r'3[1-2]': 'about_to_sleep',\n",
        "           r'33': 'need_attention',\n",
        "           r'[3-4][4-5]': 'loyal_customers',\n",
        "           r'41': 'promising',\n",
        "           r'51': 'new_customers',\n",
        "           r'[4-5][2-3]': 'potential_loyalists',\n",
        "           r'5[4-5]': 'champions'}\n",
        "\n",
        "rfm['segment'] = rfm['RFM_SCORE'].replace(seg_map, regex = True)\n",
        "\n",
        "rfm.head()"
      ],
      "metadata": {
        "execution": {
          "iopub.status.busy": "2022-10-29T16:11:34.722317Z",
          "iopub.execute_input": "2022-10-29T16:11:34.722622Z",
          "iopub.status.idle": "2022-10-29T16:11:34.826064Z",
          "shell.execute_reply.started": "2022-10-29T16:11:34.722591Z",
          "shell.execute_reply": "2022-10-29T16:11:34.825373Z"
        },
        "trusted": true,
        "colab": {
          "base_uri": "https://localhost:8080/",
          "height": 206
        },
        "id": "9ZJKd85Y9UXG",
        "outputId": "f10d3589-54ca-4696-a9b4-78ec8c32210d"
      },
      "execution_count": 24,
      "outputs": [
        {
          "output_type": "execute_result",
          "data": {
            "text/plain": [
              "  CustomerID  recency  frequency  monetary recency_score frequency_score  \\\n",
              "0      12346      326          1    310.44             1               1   \n",
              "1      12347        3          7   4310.00             5               5   \n",
              "2      12348       76          4   1770.78             2               4   \n",
              "3      12349       19          1   1491.72             4               1   \n",
              "4      12350      311          1    331.46             1               1   \n",
              "\n",
              "  monetary_score RFM_SCORE      segment  \n",
              "0              2        11  hibernating  \n",
              "1              5        55    champions  \n",
              "2              4        24      at_Risk  \n",
              "3              4        41    promising  \n",
              "4              2        11  hibernating  "
            ],
            "text/html": [
              "\n",
              "  <div id=\"df-67340112-fd18-47a7-9f80-0d77231f95ca\">\n",
              "    <div class=\"colab-df-container\">\n",
              "      <div>\n",
              "<style scoped>\n",
              "    .dataframe tbody tr th:only-of-type {\n",
              "        vertical-align: middle;\n",
              "    }\n",
              "\n",
              "    .dataframe tbody tr th {\n",
              "        vertical-align: top;\n",
              "    }\n",
              "\n",
              "    .dataframe thead th {\n",
              "        text-align: right;\n",
              "    }\n",
              "</style>\n",
              "<table border=\"1\" class=\"dataframe\">\n",
              "  <thead>\n",
              "    <tr style=\"text-align: right;\">\n",
              "      <th></th>\n",
              "      <th>CustomerID</th>\n",
              "      <th>recency</th>\n",
              "      <th>frequency</th>\n",
              "      <th>monetary</th>\n",
              "      <th>recency_score</th>\n",
              "      <th>frequency_score</th>\n",
              "      <th>monetary_score</th>\n",
              "      <th>RFM_SCORE</th>\n",
              "      <th>segment</th>\n",
              "    </tr>\n",
              "  </thead>\n",
              "  <tbody>\n",
              "    <tr>\n",
              "      <th>0</th>\n",
              "      <td>12346</td>\n",
              "      <td>326</td>\n",
              "      <td>1</td>\n",
              "      <td>310.44</td>\n",
              "      <td>1</td>\n",
              "      <td>1</td>\n",
              "      <td>2</td>\n",
              "      <td>11</td>\n",
              "      <td>hibernating</td>\n",
              "    </tr>\n",
              "    <tr>\n",
              "      <th>1</th>\n",
              "      <td>12347</td>\n",
              "      <td>3</td>\n",
              "      <td>7</td>\n",
              "      <td>4310.00</td>\n",
              "      <td>5</td>\n",
              "      <td>5</td>\n",
              "      <td>5</td>\n",
              "      <td>55</td>\n",
              "      <td>champions</td>\n",
              "    </tr>\n",
              "    <tr>\n",
              "      <th>2</th>\n",
              "      <td>12348</td>\n",
              "      <td>76</td>\n",
              "      <td>4</td>\n",
              "      <td>1770.78</td>\n",
              "      <td>2</td>\n",
              "      <td>4</td>\n",
              "      <td>4</td>\n",
              "      <td>24</td>\n",
              "      <td>at_Risk</td>\n",
              "    </tr>\n",
              "    <tr>\n",
              "      <th>3</th>\n",
              "      <td>12349</td>\n",
              "      <td>19</td>\n",
              "      <td>1</td>\n",
              "      <td>1491.72</td>\n",
              "      <td>4</td>\n",
              "      <td>1</td>\n",
              "      <td>4</td>\n",
              "      <td>41</td>\n",
              "      <td>promising</td>\n",
              "    </tr>\n",
              "    <tr>\n",
              "      <th>4</th>\n",
              "      <td>12350</td>\n",
              "      <td>311</td>\n",
              "      <td>1</td>\n",
              "      <td>331.46</td>\n",
              "      <td>1</td>\n",
              "      <td>1</td>\n",
              "      <td>2</td>\n",
              "      <td>11</td>\n",
              "      <td>hibernating</td>\n",
              "    </tr>\n",
              "  </tbody>\n",
              "</table>\n",
              "</div>\n",
              "      <button class=\"colab-df-convert\" onclick=\"convertToInteractive('df-67340112-fd18-47a7-9f80-0d77231f95ca')\"\n",
              "              title=\"Convert this dataframe to an interactive table.\"\n",
              "              style=\"display:none;\">\n",
              "        \n",
              "  <svg xmlns=\"http://www.w3.org/2000/svg\" height=\"24px\"viewBox=\"0 0 24 24\"\n",
              "       width=\"24px\">\n",
              "    <path d=\"M0 0h24v24H0V0z\" fill=\"none\"/>\n",
              "    <path d=\"M18.56 5.44l.94 2.06.94-2.06 2.06-.94-2.06-.94-.94-2.06-.94 2.06-2.06.94zm-11 1L8.5 8.5l.94-2.06 2.06-.94-2.06-.94L8.5 2.5l-.94 2.06-2.06.94zm10 10l.94 2.06.94-2.06 2.06-.94-2.06-.94-.94-2.06-.94 2.06-2.06.94z\"/><path d=\"M17.41 7.96l-1.37-1.37c-.4-.4-.92-.59-1.43-.59-.52 0-1.04.2-1.43.59L10.3 9.45l-7.72 7.72c-.78.78-.78 2.05 0 2.83L4 21.41c.39.39.9.59 1.41.59.51 0 1.02-.2 1.41-.59l7.78-7.78 2.81-2.81c.8-.78.8-2.07 0-2.86zM5.41 20L4 18.59l7.72-7.72 1.47 1.35L5.41 20z\"/>\n",
              "  </svg>\n",
              "      </button>\n",
              "      \n",
              "  <style>\n",
              "    .colab-df-container {\n",
              "      display:flex;\n",
              "      flex-wrap:wrap;\n",
              "      gap: 12px;\n",
              "    }\n",
              "\n",
              "    .colab-df-convert {\n",
              "      background-color: #E8F0FE;\n",
              "      border: none;\n",
              "      border-radius: 50%;\n",
              "      cursor: pointer;\n",
              "      display: none;\n",
              "      fill: #1967D2;\n",
              "      height: 32px;\n",
              "      padding: 0 0 0 0;\n",
              "      width: 32px;\n",
              "    }\n",
              "\n",
              "    .colab-df-convert:hover {\n",
              "      background-color: #E2EBFA;\n",
              "      box-shadow: 0px 1px 2px rgba(60, 64, 67, 0.3), 0px 1px 3px 1px rgba(60, 64, 67, 0.15);\n",
              "      fill: #174EA6;\n",
              "    }\n",
              "\n",
              "    [theme=dark] .colab-df-convert {\n",
              "      background-color: #3B4455;\n",
              "      fill: #D2E3FC;\n",
              "    }\n",
              "\n",
              "    [theme=dark] .colab-df-convert:hover {\n",
              "      background-color: #434B5C;\n",
              "      box-shadow: 0px 1px 3px 1px rgba(0, 0, 0, 0.15);\n",
              "      filter: drop-shadow(0px 1px 2px rgba(0, 0, 0, 0.3));\n",
              "      fill: #FFFFFF;\n",
              "    }\n",
              "  </style>\n",
              "\n",
              "      <script>\n",
              "        const buttonEl =\n",
              "          document.querySelector('#df-67340112-fd18-47a7-9f80-0d77231f95ca button.colab-df-convert');\n",
              "        buttonEl.style.display =\n",
              "          google.colab.kernel.accessAllowed ? 'block' : 'none';\n",
              "\n",
              "        async function convertToInteractive(key) {\n",
              "          const element = document.querySelector('#df-67340112-fd18-47a7-9f80-0d77231f95ca');\n",
              "          const dataTable =\n",
              "            await google.colab.kernel.invokeFunction('convertToInteractive',\n",
              "                                                     [key], {});\n",
              "          if (!dataTable) return;\n",
              "\n",
              "          const docLinkHtml = 'Like what you see? Visit the ' +\n",
              "            '<a target=\"_blank\" href=https://colab.research.google.com/notebooks/data_table.ipynb>data table notebook</a>'\n",
              "            + ' to learn more about interactive tables.';\n",
              "          element.innerHTML = '';\n",
              "          dataTable['output_type'] = 'display_data';\n",
              "          await google.colab.output.renderOutput(dataTable, element);\n",
              "          const docLink = document.createElement('div');\n",
              "          docLink.innerHTML = docLinkHtml;\n",
              "          element.appendChild(docLink);\n",
              "        }\n",
              "      </script>\n",
              "    </div>\n",
              "  </div>\n",
              "  "
            ]
          },
          "metadata": {},
          "execution_count": 24
        },
        {
          "output_type": "display_data",
          "data": {
            "text/plain": [
              "<IPython.core.display.Javascript object>"
            ],
            "application/javascript": [
              "\n",
              "            setTimeout(function() {\n",
              "                var nbb_cell_id = 24;\n",
              "                var nbb_unformatted_code = \"seg_map = {r'[1-2][1-2]': 'hibernating',\\n           r'[1-2][3-4]': 'at_Risk',\\n           r'[1-2]5': 'cant_loose',\\n           r'3[1-2]': 'about_to_sleep',\\n           r'33': 'need_attention',\\n           r'[3-4][4-5]': 'loyal_customers',\\n           r'41': 'promising',\\n           r'51': 'new_customers',\\n           r'[4-5][2-3]': 'potential_loyalists',\\n           r'5[4-5]': 'champions'}\\n\\nrfm['segment'] = rfm['RFM_SCORE'].replace(seg_map, regex = True)\\n\\nrfm.head()\";\n",
              "                var nbb_formatted_code = \"seg_map = {\\n    r\\\"[1-2][1-2]\\\": \\\"hibernating\\\",\\n    r\\\"[1-2][3-4]\\\": \\\"at_Risk\\\",\\n    r\\\"[1-2]5\\\": \\\"cant_loose\\\",\\n    r\\\"3[1-2]\\\": \\\"about_to_sleep\\\",\\n    r\\\"33\\\": \\\"need_attention\\\",\\n    r\\\"[3-4][4-5]\\\": \\\"loyal_customers\\\",\\n    r\\\"41\\\": \\\"promising\\\",\\n    r\\\"51\\\": \\\"new_customers\\\",\\n    r\\\"[4-5][2-3]\\\": \\\"potential_loyalists\\\",\\n    r\\\"5[4-5]\\\": \\\"champions\\\",\\n}\\n\\nrfm[\\\"segment\\\"] = rfm[\\\"RFM_SCORE\\\"].replace(seg_map, regex=True)\\n\\nrfm.head()\";\n",
              "                var nbb_cells = Jupyter.notebook.get_cells();\n",
              "                for (var i = 0; i < nbb_cells.length; ++i) {\n",
              "                    if (nbb_cells[i].input_prompt_number == nbb_cell_id) {\n",
              "                        if (nbb_cells[i].get_text() == nbb_unformatted_code) {\n",
              "                             nbb_cells[i].set_text(nbb_formatted_code);\n",
              "                        }\n",
              "                        break;\n",
              "                    }\n",
              "                }\n",
              "            }, 500);\n",
              "            "
            ]
          },
          "metadata": {}
        }
      ]
    },
    {
      "cell_type": "markdown",
      "source": [
        "<span style=\"color:#31A919;\n",
        "             font-size:160%;\n",
        "             font-family:Verdana;\">\n",
        "Segmentation Map"
      ],
      "metadata": {
        "id": "6halnZD-9UXH"
      }
    },
    {
      "cell_type": "code",
      "source": [
        "segments = rfm['segment'].value_counts().sort_values(ascending = False)\n",
        "fig = plt.gcf()\n",
        "ax = fig.add_subplot()\n",
        "fig.set_size_inches(16, 10)\n",
        "squarify.plot(sizes=segments,\n",
        "              label=[label for label in seg_map.values()],\n",
        "              color=['#AFB6B5', '#F0819A', '#926717', '#F0F081', '#81D5F0',\n",
        "                     '#C78BE5', '#748E80', '#FAAF3A', '#7B8FE4', '#86E8C0'],\n",
        "              pad = False,\n",
        "              bar_kwargs = {'alpha': 1},\n",
        "              text_kwargs = {'fontsize':15})\n",
        "plt.title(\"Customer Segmentation Map\", fontsize = 20)\n",
        "plt.xlabel('Frequency', fontsize = 18)\n",
        "plt.ylabel('Recency', fontsize = 18)\n",
        "plt.show()"
      ],
      "metadata": {
        "execution": {
          "iopub.status.busy": "2022-10-29T16:11:34.827089Z",
          "iopub.execute_input": "2022-10-29T16:11:34.827496Z",
          "iopub.status.idle": "2022-10-29T16:11:35.131465Z",
          "shell.execute_reply.started": "2022-10-29T16:11:34.827466Z",
          "shell.execute_reply": "2022-10-29T16:11:35.13052Z"
        },
        "trusted": true,
        "colab": {
          "base_uri": "https://localhost:8080/",
          "height": 635
        },
        "id": "hzoxs1P59UXH",
        "outputId": "c3937df3-2c93-4e14-d2dd-9be0988cdebc"
      },
      "execution_count": 25,
      "outputs": [
        {
          "output_type": "display_data",
          "data": {
            "text/plain": [
              "<Figure size 1152x720 with 1 Axes>"
            ],
            "image/png": "[encoded data removed]"
          },
          "metadata": {}
        },
        {
          "output_type": "display_data",
          "data": {
            "text/plain": [
              "<IPython.core.display.Javascript object>"
            ],
            "application/javascript": [
              "\n",
              "            setTimeout(function() {\n",
              "                var nbb_cell_id = 25;\n",
              "                var nbb_unformatted_code = \"segments = rfm['segment'].value_counts().sort_values(ascending = False)\\nfig = plt.gcf()\\nax = fig.add_subplot()\\nfig.set_size_inches(16, 10)\\nsquarify.plot(sizes=segments,\\n              label=[label for label in seg_map.values()],\\n              color=['#AFB6B5', '#F0819A', '#926717', '#F0F081', '#81D5F0',\\n                     '#C78BE5', '#748E80', '#FAAF3A', '#7B8FE4', '#86E8C0'],\\n              pad = False,\\n              bar_kwargs = {'alpha': 1},\\n              text_kwargs = {'fontsize':15})\\nplt.title(\\\"Customer Segmentation Map\\\", fontsize = 20)\\nplt.xlabel('Frequency', fontsize = 18)\\nplt.ylabel('Recency', fontsize = 18)\\nplt.show()\";\n",
              "                var nbb_formatted_code = \"segments = rfm[\\\"segment\\\"].value_counts().sort_values(ascending=False)\\nfig = plt.gcf()\\nax = fig.add_subplot()\\nfig.set_size_inches(16, 10)\\nsquarify.plot(\\n    sizes=segments,\\n    label=[label for label in seg_map.values()],\\n    color=[\\n        \\\"#AFB6B5\\\",\\n        \\\"#F0819A\\\",\\n        \\\"#926717\\\",\\n        \\\"#F0F081\\\",\\n        \\\"#81D5F0\\\",\\n        \\\"#C78BE5\\\",\\n        \\\"#748E80\\\",\\n        \\\"#FAAF3A\\\",\\n        \\\"#7B8FE4\\\",\\n        \\\"#86E8C0\\\",\\n    ],\\n    pad=False,\\n    bar_kwargs={\\\"alpha\\\": 1},\\n    text_kwargs={\\\"fontsize\\\": 15},\\n)\\nplt.title(\\\"Customer Segmentation Map\\\", fontsize=20)\\nplt.xlabel(\\\"Frequency\\\", fontsize=18)\\nplt.ylabel(\\\"Recency\\\", fontsize=18)\\nplt.show()\";\n",
              "                var nbb_cells = Jupyter.notebook.get_cells();\n",
              "                for (var i = 0; i < nbb_cells.length; ++i) {\n",
              "                    if (nbb_cells[i].input_prompt_number == nbb_cell_id) {\n",
              "                        if (nbb_cells[i].get_text() == nbb_unformatted_code) {\n",
              "                             nbb_cells[i].set_text(nbb_formatted_code);\n",
              "                        }\n",
              "                        break;\n",
              "                    }\n",
              "                }\n",
              "            }, 500);\n",
              "            "
            ]
          },
          "metadata": {}
        }
      ]
    },
    {
      "cell_type": "markdown",
      "source": [
        "<span style=\"color:#31A919;\n",
        "             font-size:160%;\n",
        "             font-family:Verdana;\">\n",
        "Model Evaluation"
      ],
      "metadata": {
        "id": "rt8PVBRl9UXH"
      }
    },
    {
      "cell_type": "code",
      "source": [
        "print(' RFM Model Evaluation '.center(70, '='))\n",
        "X = rfm[['recency_score', 'frequency_score']]\n",
        "labels = rfm['segment']\n",
        "print(f'Number of Observations: {X.shape[0]}')\n",
        "print(f'Number of Segments: {labels.nunique()}')\n",
        "print(f'Silhouette Score: {round(silhouette_score(X, labels), 3)}')\n",
        "print(f'Calinski Harabasz Score: {round(calinski_harabasz_score(X, labels), 3)}')\n",
        "print(f'Davies Bouldin Score: {round(davies_bouldin_score(X, labels), 3)} \\n{70*\"=\"}')"
      ],
      "metadata": {
        "execution": {
          "iopub.status.busy": "2022-10-29T16:11:35.132792Z",
          "iopub.execute_input": "2022-10-29T16:11:35.133122Z",
          "iopub.status.idle": "2022-10-29T16:11:35.625128Z",
          "shell.execute_reply.started": "2022-10-29T16:11:35.13309Z",
          "shell.execute_reply": "2022-10-29T16:11:35.623813Z"
        },
        "trusted": true,
        "colab": {
          "base_uri": "https://localhost:8080/",
          "height": 145
        },
        "id": "yW2hQPFm9UXH",
        "outputId": "e93ccf94-6278-4fff-8e0d-b89f2f23d72c"
      },
      "execution_count": 26,
      "outputs": [
        {
          "output_type": "stream",
          "name": "stdout",
          "text": [
            "======================== RFM Model Evaluation ========================\n",
            "Number of Observations: 4338\n",
            "Number of Segments: 10\n",
            "Silhouette Score: 0.471\n",
            "Calinski Harabasz Score: 4590.526\n",
            "Davies Bouldin Score: 0.633 \n",
            "======================================================================\n"
          ]
        },
        {
          "output_type": "display_data",
          "data": {
            "text/plain": [
              "<IPython.core.display.Javascript object>"
            ],
            "application/javascript": [
              "\n",
              "            setTimeout(function() {\n",
              "                var nbb_cell_id = 26;\n",
              "                var nbb_unformatted_code = \"print(' RFM Model Evaluation '.center(70, '='))\\nX = rfm[['recency_score', 'frequency_score']]\\nlabels = rfm['segment']\\nprint(f'Number of Observations: {X.shape[0]}')\\nprint(f'Number of Segments: {labels.nunique()}')\\nprint(f'Silhouette Score: {round(silhouette_score(X, labels), 3)}')\\nprint(f'Calinski Harabasz Score: {round(calinski_harabasz_score(X, labels), 3)}')\\nprint(f'Davies Bouldin Score: {round(davies_bouldin_score(X, labels), 3)} \\\\n{70*\\\"=\\\"}')\";\n",
              "                var nbb_formatted_code = \"print(\\\" RFM Model Evaluation \\\".center(70, \\\"=\\\"))\\nX = rfm[[\\\"recency_score\\\", \\\"frequency_score\\\"]]\\nlabels = rfm[\\\"segment\\\"]\\nprint(f\\\"Number of Observations: {X.shape[0]}\\\")\\nprint(f\\\"Number of Segments: {labels.nunique()}\\\")\\nprint(f\\\"Silhouette Score: {round(silhouette_score(X, labels), 3)}\\\")\\nprint(f\\\"Calinski Harabasz Score: {round(calinski_harabasz_score(X, labels), 3)}\\\")\\nprint(f'Davies Bouldin Score: {round(davies_bouldin_score(X, labels), 3)} \\\\n{70*\\\"=\\\"}')\";\n",
              "                var nbb_cells = Jupyter.notebook.get_cells();\n",
              "                for (var i = 0; i < nbb_cells.length; ++i) {\n",
              "                    if (nbb_cells[i].input_prompt_number == nbb_cell_id) {\n",
              "                        if (nbb_cells[i].get_text() == nbb_unformatted_code) {\n",
              "                             nbb_cells[i].set_text(nbb_formatted_code);\n",
              "                        }\n",
              "                        break;\n",
              "                    }\n",
              "                }\n",
              "            }, 500);\n",
              "            "
            ]
          },
          "metadata": {}
        }
      ]
    },
    {
      "cell_type": "markdown",
      "source": [
        "<span style=\"color:#31A919;\n",
        "             font-size:160%;\n",
        "             font-family:Verdana;\">\n",
        "Segment Analysis"
      ],
      "metadata": {
        "id": "R_a9LyhF9UXH"
      }
    },
    {
      "cell_type": "code",
      "source": [
        "rfm[['recency','monetary','frequency','segment']]\\\n",
        ".groupby('segment')\\\n",
        ".agg({'mean','std','max','min'})"
      ],
      "metadata": {
        "execution": {
          "iopub.status.busy": "2022-10-29T16:11:35.62649Z",
          "iopub.execute_input": "2022-10-29T16:11:35.626877Z",
          "iopub.status.idle": "2022-10-29T16:11:35.676924Z",
          "shell.execute_reply.started": "2022-10-29T16:11:35.626841Z",
          "shell.execute_reply": "2022-10-29T16:11:35.675785Z"
        },
        "trusted": true,
        "colab": {
          "base_uri": "https://localhost:8080/",
          "height": 426
        },
        "id": "BE5Zoenb9UXH",
        "outputId": "7a41e63a-54fe-4def-dcc0-1f46a53643fd"
      },
      "execution_count": 27,
      "outputs": [
        {
          "output_type": "execute_result",
          "data": {
            "text/plain": [
              "                        recency                         monetary              \\\n",
              "                           mean  max        std min         mean         max   \n",
              "segment                                                                        \n",
              "about_to_sleep        53.312500   72  10.943474  34   469.058097    6207.670   \n",
              "at_Risk              153.785835  374  68.618828  73   938.458341   11072.670   \n",
              "cant_loose           132.968254  373  65.250378  73  2646.822540   10254.180   \n",
              "champions              6.361769   13   3.683300   1  6498.612978  266163.525   \n",
              "hibernating          217.605042  374  92.013560  73   398.573036    9182.345   \n",
              "loyal_customers       33.608059   72  15.577050  15  2752.519574  120210.355   \n",
              "need_attention        52.427807   72  11.552074  34   847.657086    4353.830   \n",
              "new_customers          7.428571   13   3.902112   1   314.883690     848.550   \n",
              "potential_loyalists   17.398760   33   9.338808   1   674.628357    4628.750   \n",
              "promising             23.510638   33   5.192519  15   285.623723    1491.720   \n",
              "\n",
              "                                           frequency                      \n",
              "                              std     min       mean  max        std min  \n",
              "segment                                                                   \n",
              "about_to_sleep         533.161343    6.20   1.161932    2   0.368913   1  \n",
              "at_Risk                943.170824   52.00   2.878583    6   0.954415   2  \n",
              "cant_loose            2008.352354   70.02   8.380952   34   4.289630   6  \n",
              "champions            18366.105822  198.23  12.417062  210  16.476484   3  \n",
              "hibernating            553.714975    3.75   1.101774    2   0.302492   1  \n",
              "loyal_customers       5405.787839   36.56   6.479853   63   4.545669   3  \n",
              "need_attention         732.298552    6.90   2.326203    3   0.470081   2  \n",
              "new_customers          174.620952   89.94   1.000000    1   0.000000   1  \n",
              "potential_loyalists    601.746293   20.80   2.010331    3   0.651401   1  \n",
              "promising              223.634736   30.00   1.000000    1   0.000000   1  "
            ],
            "text/html": [
              "\n",
              "  <div id=\"df-240eda99-37cc-489c-935d-df985467d9c2\">\n",
              "    <div class=\"colab-df-container\">\n",
              "      <div>\n",
              "<style scoped>\n",
              "    .dataframe tbody tr th:only-of-type {\n",
              "        vertical-align: middle;\n",
              "    }\n",
              "\n",
              "    .dataframe tbody tr th {\n",
              "        vertical-align: top;\n",
              "    }\n",
              "\n",
              "    .dataframe thead tr th {\n",
              "        text-align: left;\n",
              "    }\n",
              "\n",
              "    .dataframe thead tr:last-of-type th {\n",
              "        text-align: right;\n",
              "    }\n",
              "</style>\n",
              "<table border=\"1\" class=\"dataframe\">\n",
              "  <thead>\n",
              "    <tr>\n",
              "      <th></th>\n",
              "      <th colspan=\"4\" halign=\"left\">recency</th>\n",
              "      <th colspan=\"4\" halign=\"left\">monetary</th>\n",
              "      <th colspan=\"4\" halign=\"left\">frequency</th>\n",
              "    </tr>\n",
              "    <tr>\n",
              "      <th></th>\n",
              "      <th>mean</th>\n",
              "      <th>max</th>\n",
              "      <th>std</th>\n",
              "      <th>min</th>\n",
              "      <th>mean</th>\n",
              "      <th>max</th>\n",
              "      <th>std</th>\n",
              "      <th>min</th>\n",
              "      <th>mean</th>\n",
              "      <th>max</th>\n",
              "      <th>std</th>\n",
              "      <th>min</th>\n",
              "    </tr>\n",
              "    <tr>\n",
              "      <th>segment</th>\n",
              "      <th></th>\n",
              "      <th></th>\n",
              "      <th></th>\n",
              "      <th></th>\n",
              "      <th></th>\n",
              "      <th></th>\n",
              "      <th></th>\n",
              "      <th></th>\n",
              "      <th></th>\n",
              "      <th></th>\n",
              "      <th></th>\n",
              "      <th></th>\n",
              "    </tr>\n",
              "  </thead>\n",
              "  <tbody>\n",
              "    <tr>\n",
              "      <th>about_to_sleep</th>\n",
              "      <td>53.312500</td>\n",
              "      <td>72</td>\n",
              "      <td>10.943474</td>\n",
              "      <td>34</td>\n",
              "      <td>469.058097</td>\n",
              "      <td>6207.670</td>\n",
              "      <td>533.161343</td>\n",
              "      <td>6.20</td>\n",
              "      <td>1.161932</td>\n",
              "      <td>2</td>\n",
              "      <td>0.368913</td>\n",
              "      <td>1</td>\n",
              "    </tr>\n",
              "    <tr>\n",
              "      <th>at_Risk</th>\n",
              "      <td>153.785835</td>\n",
              "      <td>374</td>\n",
              "      <td>68.618828</td>\n",
              "      <td>73</td>\n",
              "      <td>938.458341</td>\n",
              "      <td>11072.670</td>\n",
              "      <td>943.170824</td>\n",
              "      <td>52.00</td>\n",
              "      <td>2.878583</td>\n",
              "      <td>6</td>\n",
              "      <td>0.954415</td>\n",
              "      <td>2</td>\n",
              "    </tr>\n",
              "    <tr>\n",
              "      <th>cant_loose</th>\n",
              "      <td>132.968254</td>\n",
              "      <td>373</td>\n",
              "      <td>65.250378</td>\n",
              "      <td>73</td>\n",
              "      <td>2646.822540</td>\n",
              "      <td>10254.180</td>\n",
              "      <td>2008.352354</td>\n",
              "      <td>70.02</td>\n",
              "      <td>8.380952</td>\n",
              "      <td>34</td>\n",
              "      <td>4.289630</td>\n",
              "      <td>6</td>\n",
              "    </tr>\n",
              "    <tr>\n",
              "      <th>champions</th>\n",
              "      <td>6.361769</td>\n",
              "      <td>13</td>\n",
              "      <td>3.683300</td>\n",
              "      <td>1</td>\n",
              "      <td>6498.612978</td>\n",
              "      <td>266163.525</td>\n",
              "      <td>18366.105822</td>\n",
              "      <td>198.23</td>\n",
              "      <td>12.417062</td>\n",
              "      <td>210</td>\n",
              "      <td>16.476484</td>\n",
              "      <td>3</td>\n",
              "    </tr>\n",
              "    <tr>\n",
              "      <th>hibernating</th>\n",
              "      <td>217.605042</td>\n",
              "      <td>374</td>\n",
              "      <td>92.013560</td>\n",
              "      <td>73</td>\n",
              "      <td>398.573036</td>\n",
              "      <td>9182.345</td>\n",
              "      <td>553.714975</td>\n",
              "      <td>3.75</td>\n",
              "      <td>1.101774</td>\n",
              "      <td>2</td>\n",
              "      <td>0.302492</td>\n",
              "      <td>1</td>\n",
              "    </tr>\n",
              "    <tr>\n",
              "      <th>loyal_customers</th>\n",
              "      <td>33.608059</td>\n",
              "      <td>72</td>\n",
              "      <td>15.577050</td>\n",
              "      <td>15</td>\n",
              "      <td>2752.519574</td>\n",
              "      <td>120210.355</td>\n",
              "      <td>5405.787839</td>\n",
              "      <td>36.56</td>\n",
              "      <td>6.479853</td>\n",
              "      <td>63</td>\n",
              "      <td>4.545669</td>\n",
              "      <td>3</td>\n",
              "    </tr>\n",
              "    <tr>\n",
              "      <th>need_attention</th>\n",
              "      <td>52.427807</td>\n",
              "      <td>72</td>\n",
              "      <td>11.552074</td>\n",
              "      <td>34</td>\n",
              "      <td>847.657086</td>\n",
              "      <td>4353.830</td>\n",
              "      <td>732.298552</td>\n",
              "      <td>6.90</td>\n",
              "      <td>2.326203</td>\n",
              "      <td>3</td>\n",
              "      <td>0.470081</td>\n",
              "      <td>2</td>\n",
              "    </tr>\n",
              "    <tr>\n",
              "      <th>new_customers</th>\n",
              "      <td>7.428571</td>\n",
              "      <td>13</td>\n",
              "      <td>3.902112</td>\n",
              "      <td>1</td>\n",
              "      <td>314.883690</td>\n",
              "      <td>848.550</td>\n",
              "      <td>174.620952</td>\n",
              "      <td>89.94</td>\n",
              "      <td>1.000000</td>\n",
              "      <td>1</td>\n",
              "      <td>0.000000</td>\n",
              "      <td>1</td>\n",
              "    </tr>\n",
              "    <tr>\n",
              "      <th>potential_loyalists</th>\n",
              "      <td>17.398760</td>\n",
              "      <td>33</td>\n",
              "      <td>9.338808</td>\n",
              "      <td>1</td>\n",
              "      <td>674.628357</td>\n",
              "      <td>4628.750</td>\n",
              "      <td>601.746293</td>\n",
              "      <td>20.80</td>\n",
              "      <td>2.010331</td>\n",
              "      <td>3</td>\n",
              "      <td>0.651401</td>\n",
              "      <td>1</td>\n",
              "    </tr>\n",
              "    <tr>\n",
              "      <th>promising</th>\n",
              "      <td>23.510638</td>\n",
              "      <td>33</td>\n",
              "      <td>5.192519</td>\n",
              "      <td>15</td>\n",
              "      <td>285.623723</td>\n",
              "      <td>1491.720</td>\n",
              "      <td>223.634736</td>\n",
              "      <td>30.00</td>\n",
              "      <td>1.000000</td>\n",
              "      <td>1</td>\n",
              "      <td>0.000000</td>\n",
              "      <td>1</td>\n",
              "    </tr>\n",
              "  </tbody>\n",
              "</table>\n",
              "</div>\n",
              "      <button class=\"colab-df-convert\" onclick=\"convertToInteractive('df-240eda99-37cc-489c-935d-df985467d9c2')\"\n",
              "              title=\"Convert this dataframe to an interactive table.\"\n",
              "              style=\"display:none;\">\n",
              "        \n",
              "  <svg xmlns=\"http://www.w3.org/2000/svg\" height=\"24px\"viewBox=\"0 0 24 24\"\n",
              "       width=\"24px\">\n",
              "    <path d=\"M0 0h24v24H0V0z\" fill=\"none\"/>\n",
              "    <path d=\"M18.56 5.44l.94 2.06.94-2.06 2.06-.94-2.06-.94-.94-2.06-.94 2.06-2.06.94zm-11 1L8.5 8.5l.94-2.06 2.06-.94-2.06-.94L8.5 2.5l-.94 2.06-2.06.94zm10 10l.94 2.06.94-2.06 2.06-.94-2.06-.94-.94-2.06-.94 2.06-2.06.94z\"/><path d=\"M17.41 7.96l-1.37-1.37c-.4-.4-.92-.59-1.43-.59-.52 0-1.04.2-1.43.59L10.3 9.45l-7.72 7.72c-.78.78-.78 2.05 0 2.83L4 21.41c.39.39.9.59 1.41.59.51 0 1.02-.2 1.41-.59l7.78-7.78 2.81-2.81c.8-.78.8-2.07 0-2.86zM5.41 20L4 18.59l7.72-7.72 1.47 1.35L5.41 20z\"/>\n",
              "  </svg>\n",
              "      </button>\n",
              "      \n",
              "  <style>\n",
              "    .colab-df-container {\n",
              "      display:flex;\n",
              "      flex-wrap:wrap;\n",
              "      gap: 12px;\n",
              "    }\n",
              "\n",
              "    .colab-df-convert {\n",
              "      background-color: #E8F0FE;\n",
              "      border: none;\n",
              "      border-radius: 50%;\n",
              "      cursor: pointer;\n",
              "      display: none;\n",
              "      fill: #1967D2;\n",
              "      height: 32px;\n",
              "      padding: 0 0 0 0;\n",
              "      width: 32px;\n",
              "    }\n",
              "\n",
              "    .colab-df-convert:hover {\n",
              "      background-color: #E2EBFA;\n",
              "      box-shadow: 0px 1px 2px rgba(60, 64, 67, 0.3), 0px 1px 3px 1px rgba(60, 64, 67, 0.15);\n",
              "      fill: #174EA6;\n",
              "    }\n",
              "\n",
              "    [theme=dark] .colab-df-convert {\n",
              "      background-color: #3B4455;\n",
              "      fill: #D2E3FC;\n",
              "    }\n",
              "\n",
              "    [theme=dark] .colab-df-convert:hover {\n",
              "      background-color: #434B5C;\n",
              "      box-shadow: 0px 1px 3px 1px rgba(0, 0, 0, 0.15);\n",
              "      filter: drop-shadow(0px 1px 2px rgba(0, 0, 0, 0.3));\n",
              "      fill: #FFFFFF;\n",
              "    }\n",
              "  </style>\n",
              "\n",
              "      <script>\n",
              "        const buttonEl =\n",
              "          document.querySelector('#df-240eda99-37cc-489c-935d-df985467d9c2 button.colab-df-convert');\n",
              "        buttonEl.style.display =\n",
              "          google.colab.kernel.accessAllowed ? 'block' : 'none';\n",
              "\n",
              "        async function convertToInteractive(key) {\n",
              "          const element = document.querySelector('#df-240eda99-37cc-489c-935d-df985467d9c2');\n",
              "          const dataTable =\n",
              "            await google.colab.kernel.invokeFunction('convertToInteractive',\n",
              "                                                     [key], {});\n",
              "          if (!dataTable) return;\n",
              "\n",
              "          const docLinkHtml = 'Like what you see? Visit the ' +\n",
              "            '<a target=\"_blank\" href=https://colab.research.google.com/notebooks/data_table.ipynb>data table notebook</a>'\n",
              "            + ' to learn more about interactive tables.';\n",
              "          element.innerHTML = '';\n",
              "          dataTable['output_type'] = 'display_data';\n",
              "          await google.colab.output.renderOutput(dataTable, element);\n",
              "          const docLink = document.createElement('div');\n",
              "          docLink.innerHTML = docLinkHtml;\n",
              "          element.appendChild(docLink);\n",
              "        }\n",
              "      </script>\n",
              "    </div>\n",
              "  </div>\n",
              "  "
            ]
          },
          "metadata": {},
          "execution_count": 27
        },
        {
          "output_type": "display_data",
          "data": {
            "text/plain": [
              "<IPython.core.display.Javascript object>"
            ],
            "application/javascript": [
              "\n",
              "            setTimeout(function() {\n",
              "                var nbb_cell_id = 27;\n",
              "                var nbb_unformatted_code = \"rfm[['recency','monetary','frequency','segment']]\\\\\\n.groupby('segment')\\\\\\n.agg({'mean','std','max','min'})\";\n",
              "                var nbb_formatted_code = \"rfm[[\\\"recency\\\", \\\"monetary\\\", \\\"frequency\\\", \\\"segment\\\"]].groupby(\\\"segment\\\").agg(\\n    {\\\"mean\\\", \\\"std\\\", \\\"max\\\", \\\"min\\\"}\\n)\";\n",
              "                var nbb_cells = Jupyter.notebook.get_cells();\n",
              "                for (var i = 0; i < nbb_cells.length; ++i) {\n",
              "                    if (nbb_cells[i].input_prompt_number == nbb_cell_id) {\n",
              "                        if (nbb_cells[i].get_text() == nbb_unformatted_code) {\n",
              "                             nbb_cells[i].set_text(nbb_formatted_code);\n",
              "                        }\n",
              "                        break;\n",
              "                    }\n",
              "                }\n",
              "            }, 500);\n",
              "            "
            ]
          },
          "metadata": {}
        }
      ]
    },
    {
      "cell_type": "code",
      "source": [
        "plt.figure(figsize = (18, 8))\n",
        "ax = sns.countplot(data = rfm,\n",
        "                   x = 'segment',\n",
        "                   palette = palette)\n",
        "total = len(rfm.segment)\n",
        "for patch in ax.patches:\n",
        "    percentage = '{:.1f}%'.format(100 * patch.get_height()/total)\n",
        "    x = patch.get_x() + patch.get_width() / 2 - 0.17\n",
        "    y = patch.get_y() + patch.get_height() * 1.005\n",
        "    ax.annotate(percentage, (x, y), size = 14)\n",
        "plt.title('Number of Customers by Segments', size = 16)\n",
        "plt.xlabel('Segment', size = 14)\n",
        "plt.ylabel('Count', size = 14)\n",
        "plt.xticks(size = 10)\n",
        "plt.yticks(size = 10)\n",
        "plt.show()"
      ],
      "metadata": {
        "execution": {
          "iopub.status.busy": "2022-10-29T16:11:35.679056Z",
          "iopub.execute_input": "2022-10-29T16:11:35.679855Z",
          "iopub.status.idle": "2022-10-29T16:11:36.010256Z",
          "shell.execute_reply.started": "2022-10-29T16:11:35.679805Z",
          "shell.execute_reply": "2022-10-29T16:11:36.009271Z"
        },
        "trusted": true,
        "colab": {
          "base_uri": "https://localhost:8080/",
          "height": 520
        },
        "id": "Y5UyXr3d9UXH",
        "outputId": "b3593e48-082c-43cc-e115-830d4d6a436d"
      },
      "execution_count": 28,
      "outputs": [
        {
          "output_type": "display_data",
          "data": {
            "text/plain": [
              "<Figure size 1296x576 with 1 Axes>"
            ],
            "image/png": "[encoded data removed]"
          },
          "metadata": {}
        },
        {
          "output_type": "display_data",
          "data": {
            "text/plain": [
              "<IPython.core.display.Javascript object>"
            ],
            "application/javascript": [
              "\n",
              "            setTimeout(function() {\n",
              "                var nbb_cell_id = 28;\n",
              "                var nbb_unformatted_code = \"plt.figure(figsize = (18, 8))\\nax = sns.countplot(data = rfm,\\n                   x = 'segment',\\n                   palette = palette)\\ntotal = len(rfm.segment)\\nfor patch in ax.patches:\\n    percentage = '{:.1f}%'.format(100 * patch.get_height()/total)\\n    x = patch.get_x() + patch.get_width() / 2 - 0.17\\n    y = patch.get_y() + patch.get_height() * 1.005\\n    ax.annotate(percentage, (x, y), size = 14)\\nplt.title('Number of Customers by Segments', size = 16)\\nplt.xlabel('Segment', size = 14)\\nplt.ylabel('Count', size = 14)\\nplt.xticks(size = 10)\\nplt.yticks(size = 10)\\nplt.show()\";\n",
              "                var nbb_formatted_code = \"plt.figure(figsize=(18, 8))\\nax = sns.countplot(data=rfm, x=\\\"segment\\\", palette=palette)\\ntotal = len(rfm.segment)\\nfor patch in ax.patches:\\n    percentage = \\\"{:.1f}%\\\".format(100 * patch.get_height() / total)\\n    x = patch.get_x() + patch.get_width() / 2 - 0.17\\n    y = patch.get_y() + patch.get_height() * 1.005\\n    ax.annotate(percentage, (x, y), size=14)\\nplt.title(\\\"Number of Customers by Segments\\\", size=16)\\nplt.xlabel(\\\"Segment\\\", size=14)\\nplt.ylabel(\\\"Count\\\", size=14)\\nplt.xticks(size=10)\\nplt.yticks(size=10)\\nplt.show()\";\n",
              "                var nbb_cells = Jupyter.notebook.get_cells();\n",
              "                for (var i = 0; i < nbb_cells.length; ++i) {\n",
              "                    if (nbb_cells[i].input_prompt_number == nbb_cell_id) {\n",
              "                        if (nbb_cells[i].get_text() == nbb_unformatted_code) {\n",
              "                             nbb_cells[i].set_text(nbb_formatted_code);\n",
              "                        }\n",
              "                        break;\n",
              "                    }\n",
              "                }\n",
              "            }, 500);\n",
              "            "
            ]
          },
          "metadata": {}
        }
      ]
    },
    {
      "cell_type": "code",
      "source": [
        "plt.figure(figsize = (18, 8))\n",
        "sns.scatterplot(data = rfm,\n",
        "                x = 'recency',\n",
        "                y = 'frequency',\n",
        "                hue ='segment',\n",
        "                palette = palette,\n",
        "                s = 60)\n",
        "plt.title('Recency & Frequency by Segments', size = 16)\n",
        "plt.xlabel('Recency', size = 12)\n",
        "plt.ylabel('Frequency', size = 12)\n",
        "plt.xticks(size = 10)\n",
        "plt.yticks(size = 10)\n",
        "plt.legend(loc = 'best', fontsize = 12,\n",
        "           title = 'Segments',title_fontsize=14)\n",
        "plt.show()"
      ],
      "metadata": {
        "execution": {
          "iopub.status.busy": "2022-10-29T16:11:36.011785Z",
          "iopub.execute_input": "2022-10-29T16:11:36.012118Z",
          "iopub.status.idle": "2022-10-29T16:11:36.68818Z",
          "shell.execute_reply.started": "2022-10-29T16:11:36.012085Z",
          "shell.execute_reply": "2022-10-29T16:11:36.687215Z"
        },
        "trusted": true,
        "colab": {
          "base_uri": "https://localhost:8080/",
          "height": 518
        },
        "id": "AswI4TCm9UXI",
        "outputId": "138cce94-136d-4f1c-b8ef-5fbab020b886"
      },
      "execution_count": 29,
      "outputs": [
        {
          "output_type": "display_data",
          "data": {
            "text/plain": [
              "<Figure size 1296x576 with 1 Axes>"
            ],
            "image/png": "[encoded data removed]"
          },
          "metadata": {}
        },
        {
          "output_type": "display_data",
          "data": {
            "text/plain": [
              "<IPython.core.display.Javascript object>"
            ],
            "application/javascript": [
              "\n",
              "            setTimeout(function() {\n",
              "                var nbb_cell_id = 29;\n",
              "                var nbb_unformatted_code = \"plt.figure(figsize = (18, 8))\\nsns.scatterplot(data = rfm,\\n                x = 'recency',\\n                y = 'frequency',\\n                hue ='segment',\\n                palette = palette,\\n                s = 60)\\nplt.title('Recency & Frequency by Segments', size = 16)\\nplt.xlabel('Recency', size = 12)\\nplt.ylabel('Frequency', size = 12)\\nplt.xticks(size = 10)\\nplt.yticks(size = 10)\\nplt.legend(loc = 'best', fontsize = 12,\\n           title = 'Segments',title_fontsize=14)\\nplt.show()\";\n",
              "                var nbb_formatted_code = \"plt.figure(figsize=(18, 8))\\nsns.scatterplot(\\n    data=rfm, x=\\\"recency\\\", y=\\\"frequency\\\", hue=\\\"segment\\\", palette=palette, s=60\\n)\\nplt.title(\\\"Recency & Frequency by Segments\\\", size=16)\\nplt.xlabel(\\\"Recency\\\", size=12)\\nplt.ylabel(\\\"Frequency\\\", size=12)\\nplt.xticks(size=10)\\nplt.yticks(size=10)\\nplt.legend(loc=\\\"best\\\", fontsize=12, title=\\\"Segments\\\", title_fontsize=14)\\nplt.show()\";\n",
              "                var nbb_cells = Jupyter.notebook.get_cells();\n",
              "                for (var i = 0; i < nbb_cells.length; ++i) {\n",
              "                    if (nbb_cells[i].input_prompt_number == nbb_cell_id) {\n",
              "                        if (nbb_cells[i].get_text() == nbb_unformatted_code) {\n",
              "                             nbb_cells[i].set_text(nbb_formatted_code);\n",
              "                        }\n",
              "                        break;\n",
              "                    }\n",
              "                }\n",
              "            }, 500);\n",
              "            "
            ]
          },
          "metadata": {}
        }
      ]
    },
    {
      "cell_type": "code",
      "source": [
        "fig, axes = plt.subplots(1, 3, figsize = (18, 8))\n",
        "fig.suptitle('RFM Segment Analysis', size = 14)\n",
        "feature_list = ['recency', 'monetary', 'frequency']\n",
        "for idx, col in enumerate(feature_list):\n",
        "    sns.boxplot(ax = axes[idx], data = rfm,\n",
        "                x = 'segment', y = feature_list[idx],\n",
        "                palette= palette)\n",
        "    axes[idx].set_xticklabels(axes[idx].get_xticklabels(), rotation=60)\n",
        "    if idx == 1:\n",
        "        axes[idx].set_ylim([0, 400])\n",
        "    if idx == 2:\n",
        "        axes[idx].set_ylim([0, 30])\n",
        "plt.tight_layout()\n",
        "plt.show()"
      ],
      "metadata": {
        "execution": {
          "iopub.status.busy": "2022-10-29T16:11:36.689544Z",
          "iopub.execute_input": "2022-10-29T16:11:36.689874Z",
          "iopub.status.idle": "2022-10-29T16:11:38.301583Z",
          "shell.execute_reply.started": "2022-10-29T16:11:36.689825Z",
          "shell.execute_reply": "2022-10-29T16:11:38.300757Z"
        },
        "trusted": true,
        "colab": {
          "base_uri": "https://localhost:8080/",
          "height": 585
        },
        "id": "CsGM3QN49UXI",
        "outputId": "67da934f-40d2-4b99-d706-650a56919b12"
      },
      "execution_count": 30,
      "outputs": [
        {
          "output_type": "display_data",
          "data": {
            "text/plain": [
              "<Figure size 1296x576 with 3 Axes>"
            ],
            "image/png": "[encoded data removed]"
          },
          "metadata": {}
        },
        {
          "output_type": "display_data",
          "data": {
            "text/plain": [
              "<IPython.core.display.Javascript object>"
            ],
            "application/javascript": [
              "\n",
              "            setTimeout(function() {\n",
              "                var nbb_cell_id = 30;\n",
              "                var nbb_unformatted_code = \"fig, axes = plt.subplots(1, 3, figsize = (18, 8))\\nfig.suptitle('RFM Segment Analysis', size = 14)\\nfeature_list = ['recency', 'monetary', 'frequency']\\nfor idx, col in enumerate(feature_list):\\n    sns.boxplot(ax = axes[idx], data = rfm,\\n                x = 'segment', y = feature_list[idx],\\n                palette= palette)\\n    axes[idx].set_xticklabels(axes[idx].get_xticklabels(), rotation=60)\\n    if idx == 1:\\n        axes[idx].set_ylim([0, 400])\\n    if idx == 2:\\n        axes[idx].set_ylim([0, 30])\\nplt.tight_layout()\\nplt.show()\";\n",
              "                var nbb_formatted_code = \"fig, axes = plt.subplots(1, 3, figsize=(18, 8))\\nfig.suptitle(\\\"RFM Segment Analysis\\\", size=14)\\nfeature_list = [\\\"recency\\\", \\\"monetary\\\", \\\"frequency\\\"]\\nfor idx, col in enumerate(feature_list):\\n    sns.boxplot(\\n        ax=axes[idx], data=rfm, x=\\\"segment\\\", y=feature_list[idx], palette=palette\\n    )\\n    axes[idx].set_xticklabels(axes[idx].get_xticklabels(), rotation=60)\\n    if idx == 1:\\n        axes[idx].set_ylim([0, 400])\\n    if idx == 2:\\n        axes[idx].set_ylim([0, 30])\\nplt.tight_layout()\\nplt.show()\";\n",
              "                var nbb_cells = Jupyter.notebook.get_cells();\n",
              "                for (var i = 0; i < nbb_cells.length; ++i) {\n",
              "                    if (nbb_cells[i].input_prompt_number == nbb_cell_id) {\n",
              "                        if (nbb_cells[i].get_text() == nbb_unformatted_code) {\n",
              "                             nbb_cells[i].set_text(nbb_formatted_code);\n",
              "                        }\n",
              "                        break;\n",
              "                    }\n",
              "                }\n",
              "            }, 500);\n",
              "            "
            ]
          },
          "metadata": {}
        }
      ]
    },
    {
      "cell_type": "code",
      "source": [
        "fig, axes = plt.subplots(3, 1, figsize=(16, 12))\n",
        "fig.suptitle('RFM Segment Analysis', size = 14)\n",
        "feature_list = ['recency', 'monetary', 'frequency']\n",
        "for idx, col in enumerate(feature_list):\n",
        "    sns.histplot(ax = axes[idx], data = rfm,\n",
        "                 hue = 'segment', x = feature_list[idx],\n",
        "                 palette= palette)\n",
        "    if idx == 1:\n",
        "        axes[idx].set_xlim([0, 400])\n",
        "    if idx == 2:\n",
        "        axes[idx].set_xlim([0, 30])\n",
        "plt.tight_layout()\n",
        "plt.show()"
      ],
      "metadata": {
        "execution": {
          "iopub.status.busy": "2022-10-29T16:11:38.302923Z",
          "iopub.execute_input": "2022-10-29T16:11:38.303484Z",
          "iopub.status.idle": "2022-10-29T16:11:51.353136Z",
          "shell.execute_reply.started": "2022-10-29T16:11:38.303449Z",
          "shell.execute_reply": "2022-10-29T16:11:51.352087Z"
        },
        "trusted": true,
        "colab": {
          "base_uri": "https://localhost:8080/",
          "height": 873
        },
        "id": "aII33hu89UXI",
        "outputId": "c510fea9-1314-4f17-9158-23dafa7b9993"
      },
      "execution_count": 31,
      "outputs": [
        {
          "output_type": "display_data",
          "data": {
            "text/plain": [
              "<Figure size 1152x864 with 3 Axes>"
            ],
            "image/png": "[encoded data removed]"
          },
          "metadata": {}
        },
        {
          "output_type": "display_data",
          "data": {
            "text/plain": [
              "<IPython.core.display.Javascript object>"
            ],
            "application/javascript": [
              "\n",
              "            setTimeout(function() {\n",
              "                var nbb_cell_id = 31;\n",
              "                var nbb_unformatted_code = \"fig, axes = plt.subplots(3, 1, figsize=(16, 12))\\nfig.suptitle('RFM Segment Analysis', size = 14)\\nfeature_list = ['recency', 'monetary', 'frequency']\\nfor idx, col in enumerate(feature_list):\\n    sns.histplot(ax = axes[idx], data = rfm,\\n                 hue = 'segment', x = feature_list[idx],\\n                 palette= palette)\\n    if idx == 1:\\n        axes[idx].set_xlim([0, 400])\\n    if idx == 2:\\n        axes[idx].set_xlim([0, 30])\\nplt.tight_layout()\\nplt.show()\";\n",
              "                var nbb_formatted_code = \"fig, axes = plt.subplots(3, 1, figsize=(16, 12))\\nfig.suptitle(\\\"RFM Segment Analysis\\\", size=14)\\nfeature_list = [\\\"recency\\\", \\\"monetary\\\", \\\"frequency\\\"]\\nfor idx, col in enumerate(feature_list):\\n    sns.histplot(\\n        ax=axes[idx], data=rfm, hue=\\\"segment\\\", x=feature_list[idx], palette=palette\\n    )\\n    if idx == 1:\\n        axes[idx].set_xlim([0, 400])\\n    if idx == 2:\\n        axes[idx].set_xlim([0, 30])\\nplt.tight_layout()\\nplt.show()\";\n",
              "                var nbb_cells = Jupyter.notebook.get_cells();\n",
              "                for (var i = 0; i < nbb_cells.length; ++i) {\n",
              "                    if (nbb_cells[i].input_prompt_number == nbb_cell_id) {\n",
              "                        if (nbb_cells[i].get_text() == nbb_unformatted_code) {\n",
              "                             nbb_cells[i].set_text(nbb_formatted_code);\n",
              "                        }\n",
              "                        break;\n",
              "                    }\n",
              "                }\n",
              "            }, 500);\n",
              "            "
            ]
          },
          "metadata": {}
        }
      ]
    },
    {
      "cell_type": "markdown",
      "source": [
        "<a id = \"6\"></a>\n",
        "<span style=\" font-family:Verdana; font-size:190%; color:#31A919; \">Cohort Analysis</span>\n",
        "\n",
        "A cohort is a group of people sharing something in common, such as the sign-up date to an app, the month of the first purchase, geographical location, acquisition channel (organic users, coming from performance marketing, etc.) and so on. In Cohort Analysis, we track these groups of users over time, to identify some common patterns or behaviors."
      ],
      "metadata": {
        "id": "-slCHeIw9UXI"
      }
    },
    {
      "cell_type": "code",
      "source": [
        "def CohortAnalysis(dataframe):\n",
        "    \n",
        "    data = dataframe.copy()\n",
        "    data = data[['CustomerID', 'InvoiceNo', 'InvoiceDate']].drop_duplicates()\n",
        "    data['order_month'] = data['InvoiceDate'].dt.to_period('M')\n",
        "    data['cohort'] = data.groupby('CustomerID')['InvoiceDate']\\\n",
        "    .transform('min').dt.to_period('M')\n",
        "    cohort_data = data.groupby(['cohort', 'order_month'])\\\n",
        "    .agg(n_customers=('CustomerID', 'nunique')).reset_index(drop=False)\n",
        "    cohort_data['period_number'] = (cohort_data.order_month - cohort_data.cohort)\\\n",
        "    .apply(attrgetter('n'))\n",
        "    cohort_pivot = cohort_data.pivot_table(index = 'cohort',\n",
        "                                           columns = 'period_number',\n",
        "                                           values = 'n_customers')\n",
        "    cohort_size = cohort_pivot.iloc[:,0]\n",
        "    retention_matrix = cohort_pivot.divide(cohort_size, axis = 0)\n",
        "    with sns.axes_style(\"white\"):\n",
        "        fig, ax = plt.subplots(1, 2, figsize=(12, 8),\n",
        "                        sharey=True,\n",
        "                        gridspec_kw={'width_ratios': [1, 11]})\n",
        "        sns.heatmap(retention_matrix, \n",
        "                    mask = retention_matrix.isnull(), \n",
        "                    annot = True,\n",
        "                    cbar = False,\n",
        "                    fmt='.0%', \n",
        "                    cmap='coolwarm', ax=ax[1])\n",
        "        ax[1].set_title('Monthly Cohorts: User Retention', fontsize=14)\n",
        "        ax[1].set(xlabel='# of periods',\n",
        "                  ylabel='')\n",
        "        white_cmap = mcolors.ListedColormap(['white'])\n",
        "        sns.heatmap(pd.DataFrame(cohort_size).rename(columns={0: 'cohort_size'}), \n",
        "                    annot=True, \n",
        "                    cbar = False,\n",
        "                    fmt='g',\n",
        "                    cmap=white_cmap,\n",
        "                    ax=ax[0])\n",
        "        fig.tight_layout()\n",
        "    \n",
        "CohortAnalysis(df)"
      ],
      "metadata": {
        "execution": {
          "iopub.status.busy": "2022-10-29T16:11:51.35456Z",
          "iopub.execute_input": "2022-10-29T16:11:51.354997Z",
          "iopub.status.idle": "2022-10-29T16:11:52.766021Z",
          "shell.execute_reply.started": "2022-10-29T16:11:51.354948Z",
          "shell.execute_reply": "2022-10-29T16:11:52.765063Z"
        },
        "trusted": true,
        "colab": {
          "base_uri": "https://localhost:8080/",
          "height": 585
        },
        "id": "FKAxf9Vu9UXI",
        "outputId": "f1175472-6ce1-4c26-80ac-ac1995c33b63"
      },
      "execution_count": 32,
      "outputs": [
        {
          "output_type": "display_data",
          "data": {
            "text/plain": [
              "<Figure size 864x576 with 2 Axes>"
            ],
            "image/png": "[encoded data removed]"
          },
          "metadata": {}
        },
        {
          "output_type": "display_data",
          "data": {
            "text/plain": [
              "<IPython.core.display.Javascript object>"
            ],
            "application/javascript": [
              "\n",
              "            setTimeout(function() {\n",
              "                var nbb_cell_id = 32;\n",
              "                var nbb_unformatted_code = \"def CohortAnalysis(dataframe):\\n    \\n    data = dataframe.copy()\\n    data = data[['CustomerID', 'InvoiceNo', 'InvoiceDate']].drop_duplicates()\\n    data['order_month'] = data['InvoiceDate'].dt.to_period('M')\\n    data['cohort'] = data.groupby('CustomerID')['InvoiceDate']\\\\\\n    .transform('min').dt.to_period('M')\\n    cohort_data = data.groupby(['cohort', 'order_month'])\\\\\\n    .agg(n_customers=('CustomerID', 'nunique')).reset_index(drop=False)\\n    cohort_data['period_number'] = (cohort_data.order_month - cohort_data.cohort)\\\\\\n    .apply(attrgetter('n'))\\n    cohort_pivot = cohort_data.pivot_table(index = 'cohort',\\n                                           columns = 'period_number',\\n                                           values = 'n_customers')\\n    cohort_size = cohort_pivot.iloc[:,0]\\n    retention_matrix = cohort_pivot.divide(cohort_size, axis = 0)\\n    with sns.axes_style(\\\"white\\\"):\\n        fig, ax = plt.subplots(1, 2, figsize=(12, 8),\\n                        sharey=True,\\n                        gridspec_kw={'width_ratios': [1, 11]})\\n        sns.heatmap(retention_matrix, \\n                    mask = retention_matrix.isnull(), \\n                    annot = True,\\n                    cbar = False,\\n                    fmt='.0%', \\n                    cmap='coolwarm', ax=ax[1])\\n        ax[1].set_title('Monthly Cohorts: User Retention', fontsize=14)\\n        ax[1].set(xlabel='# of periods',\\n                  ylabel='')\\n        white_cmap = mcolors.ListedColormap(['white'])\\n        sns.heatmap(pd.DataFrame(cohort_size).rename(columns={0: 'cohort_size'}), \\n                    annot=True, \\n                    cbar = False,\\n                    fmt='g',\\n                    cmap=white_cmap,\\n                    ax=ax[0])\\n        fig.tight_layout()\\n    \\nCohortAnalysis(df)\";\n",
              "                var nbb_formatted_code = \"def CohortAnalysis(dataframe):\\n\\n    data = dataframe.copy()\\n    data = data[[\\\"CustomerID\\\", \\\"InvoiceNo\\\", \\\"InvoiceDate\\\"]].drop_duplicates()\\n    data[\\\"order_month\\\"] = data[\\\"InvoiceDate\\\"].dt.to_period(\\\"M\\\")\\n    data[\\\"cohort\\\"] = (\\n        data.groupby(\\\"CustomerID\\\")[\\\"InvoiceDate\\\"].transform(\\\"min\\\").dt.to_period(\\\"M\\\")\\n    )\\n    cohort_data = (\\n        data.groupby([\\\"cohort\\\", \\\"order_month\\\"])\\n        .agg(n_customers=(\\\"CustomerID\\\", \\\"nunique\\\"))\\n        .reset_index(drop=False)\\n    )\\n    cohort_data[\\\"period_number\\\"] = (cohort_data.order_month - cohort_data.cohort).apply(\\n        attrgetter(\\\"n\\\")\\n    )\\n    cohort_pivot = cohort_data.pivot_table(\\n        index=\\\"cohort\\\", columns=\\\"period_number\\\", values=\\\"n_customers\\\"\\n    )\\n    cohort_size = cohort_pivot.iloc[:, 0]\\n    retention_matrix = cohort_pivot.divide(cohort_size, axis=0)\\n    with sns.axes_style(\\\"white\\\"):\\n        fig, ax = plt.subplots(\\n            1, 2, figsize=(12, 8), sharey=True, gridspec_kw={\\\"width_ratios\\\": [1, 11]}\\n        )\\n        sns.heatmap(\\n            retention_matrix,\\n            mask=retention_matrix.isnull(),\\n            annot=True,\\n            cbar=False,\\n            fmt=\\\".0%\\\",\\n            cmap=\\\"coolwarm\\\",\\n            ax=ax[1],\\n        )\\n        ax[1].set_title(\\\"Monthly Cohorts: User Retention\\\", fontsize=14)\\n        ax[1].set(xlabel=\\\"# of periods\\\", ylabel=\\\"\\\")\\n        white_cmap = mcolors.ListedColormap([\\\"white\\\"])\\n        sns.heatmap(\\n            pd.DataFrame(cohort_size).rename(columns={0: \\\"cohort_size\\\"}),\\n            annot=True,\\n            cbar=False,\\n            fmt=\\\"g\\\",\\n            cmap=white_cmap,\\n            ax=ax[0],\\n        )\\n        fig.tight_layout()\\n\\n\\nCohortAnalysis(df)\";\n",
              "                var nbb_cells = Jupyter.notebook.get_cells();\n",
              "                for (var i = 0; i < nbb_cells.length; ++i) {\n",
              "                    if (nbb_cells[i].input_prompt_number == nbb_cell_id) {\n",
              "                        if (nbb_cells[i].get_text() == nbb_unformatted_code) {\n",
              "                             nbb_cells[i].set_text(nbb_formatted_code);\n",
              "                        }\n",
              "                        break;\n",
              "                    }\n",
              "                }\n",
              "            }, 500);\n",
              "            "
            ]
          },
          "metadata": {}
        }
      ]
    },
    {
      "cell_type": "markdown",
      "source": [
        "<a id = \"7\"></a>\n",
        "<span style=\" font-family:Verdana; font-size:190%; color:#31A919; \">Customer Lifetime Value</span>\n",
        "\n",
        "Customer lifetime value is how much money a customer will bring your brand throughout their entire time as a paying customer."
      ],
      "metadata": {
        "id": "ELboS7oV9UXJ"
      }
    },
    {
      "cell_type": "code",
      "source": [
        "cltv_df = df.groupby('CustomerID').agg({'InvoiceDate': [lambda x: (x.max() - x.min()).days,\n",
        "                                                        lambda x: (today_date - x.min()).days], \n",
        "                                        'InvoiceNo': 'nunique',\n",
        "                                        'TotalPrice': 'sum'})\n",
        "\n",
        "cltv_df.columns = cltv_df.columns.droplevel(0)\n",
        "cltv_df.columns = ['recency', 'T', 'frequency', 'monetary']\n",
        "cltv_df.head()"
      ],
      "metadata": {
        "execution": {
          "iopub.status.busy": "2022-10-29T16:11:52.767234Z",
          "iopub.execute_input": "2022-10-29T16:11:52.767535Z",
          "iopub.status.idle": "2022-10-29T16:11:54.215066Z",
          "shell.execute_reply.started": "2022-10-29T16:11:52.767503Z",
          "shell.execute_reply": "2022-10-29T16:11:54.214022Z"
        },
        "trusted": true,
        "colab": {
          "base_uri": "https://localhost:8080/",
          "height": 237
        },
        "id": "ItL3ha1n9UXJ",
        "outputId": "900903c7-5e25-44f8-a33e-b76ac31f78ff"
      },
      "execution_count": 33,
      "outputs": [
        {
          "output_type": "execute_result",
          "data": {
            "text/plain": [
              "            recency    T  frequency  monetary\n",
              "CustomerID                                   \n",
              "12346             0  326          1    310.44\n",
              "12347           365  368          7   4310.00\n",
              "12348           282  359          4   1770.78\n",
              "12349             0   19          1   1491.72\n",
              "12350             0  311          1    331.46"
            ],
            "text/html": [
              "\n",
              "  <div id=\"df-ce1ccef1-19cf-4b0c-821c-54ee84ef0d59\">\n",
              "    <div class=\"colab-df-container\">\n",
              "      <div>\n",
              "<style scoped>\n",
              "    .dataframe tbody tr th:only-of-type {\n",
              "        vertical-align: middle;\n",
              "    }\n",
              "\n",
              "    .dataframe tbody tr th {\n",
              "        vertical-align: top;\n",
              "    }\n",
              "\n",
              "    .dataframe thead th {\n",
              "        text-align: right;\n",
              "    }\n",
              "</style>\n",
              "<table border=\"1\" class=\"dataframe\">\n",
              "  <thead>\n",
              "    <tr style=\"text-align: right;\">\n",
              "      <th></th>\n",
              "      <th>recency</th>\n",
              "      <th>T</th>\n",
              "      <th>frequency</th>\n",
              "      <th>monetary</th>\n",
              "    </tr>\n",
              "    <tr>\n",
              "      <th>CustomerID</th>\n",
              "      <th></th>\n",
              "      <th></th>\n",
              "      <th></th>\n",
              "      <th></th>\n",
              "    </tr>\n",
              "  </thead>\n",
              "  <tbody>\n",
              "    <tr>\n",
              "      <th>12346</th>\n",
              "      <td>0</td>\n",
              "      <td>326</td>\n",
              "      <td>1</td>\n",
              "      <td>310.44</td>\n",
              "    </tr>\n",
              "    <tr>\n",
              "      <th>12347</th>\n",
              "      <td>365</td>\n",
              "      <td>368</td>\n",
              "      <td>7</td>\n",
              "      <td>4310.00</td>\n",
              "    </tr>\n",
              "    <tr>\n",
              "      <th>12348</th>\n",
              "      <td>282</td>\n",
              "      <td>359</td>\n",
              "      <td>4</td>\n",
              "      <td>1770.78</td>\n",
              "    </tr>\n",
              "    <tr>\n",
              "      <th>12349</th>\n",
              "      <td>0</td>\n",
              "      <td>19</td>\n",
              "      <td>1</td>\n",
              "      <td>1491.72</td>\n",
              "    </tr>\n",
              "    <tr>\n",
              "      <th>12350</th>\n",
              "      <td>0</td>\n",
              "      <td>311</td>\n",
              "      <td>1</td>\n",
              "      <td>331.46</td>\n",
              "    </tr>\n",
              "  </tbody>\n",
              "</table>\n",
              "</div>\n",
              "      <button class=\"colab-df-convert\" onclick=\"convertToInteractive('df-ce1ccef1-19cf-4b0c-821c-54ee84ef0d59')\"\n",
              "              title=\"Convert this dataframe to an interactive table.\"\n",
              "              style=\"display:none;\">\n",
              "        \n",
              "  <svg xmlns=\"http://www.w3.org/2000/svg\" height=\"24px\"viewBox=\"0 0 24 24\"\n",
              "       width=\"24px\">\n",
              "    <path d=\"M0 0h24v24H0V0z\" fill=\"none\"/>\n",
              "    <path d=\"M18.56 5.44l.94 2.06.94-2.06 2.06-.94-2.06-.94-.94-2.06-.94 2.06-2.06.94zm-11 1L8.5 8.5l.94-2.06 2.06-.94-2.06-.94L8.5 2.5l-.94 2.06-2.06.94zm10 10l.94 2.06.94-2.06 2.06-.94-2.06-.94-.94-2.06-.94 2.06-2.06.94z\"/><path d=\"M17.41 7.96l-1.37-1.37c-.4-.4-.92-.59-1.43-.59-.52 0-1.04.2-1.43.59L10.3 9.45l-7.72 7.72c-.78.78-.78 2.05 0 2.83L4 21.41c.39.39.9.59 1.41.59.51 0 1.02-.2 1.41-.59l7.78-7.78 2.81-2.81c.8-.78.8-2.07 0-2.86zM5.41 20L4 18.59l7.72-7.72 1.47 1.35L5.41 20z\"/>\n",
              "  </svg>\n",
              "      </button>\n",
              "      \n",
              "  <style>\n",
              "    .colab-df-container {\n",
              "      display:flex;\n",
              "      flex-wrap:wrap;\n",
              "      gap: 12px;\n",
              "    }\n",
              "\n",
              "    .colab-df-convert {\n",
              "      background-color: #E8F0FE;\n",
              "      border: none;\n",
              "      border-radius: 50%;\n",
              "      cursor: pointer;\n",
              "      display: none;\n",
              "      fill: #1967D2;\n",
              "      height: 32px;\n",
              "      padding: 0 0 0 0;\n",
              "      width: 32px;\n",
              "    }\n",
              "\n",
              "    .colab-df-convert:hover {\n",
              "      background-color: #E2EBFA;\n",
              "      box-shadow: 0px 1px 2px rgba(60, 64, 67, 0.3), 0px 1px 3px 1px rgba(60, 64, 67, 0.15);\n",
              "      fill: #174EA6;\n",
              "    }\n",
              "\n",
              "    [theme=dark] .colab-df-convert {\n",
              "      background-color: #3B4455;\n",
              "      fill: #D2E3FC;\n",
              "    }\n",
              "\n",
              "    [theme=dark] .colab-df-convert:hover {\n",
              "      background-color: #434B5C;\n",
              "      box-shadow: 0px 1px 3px 1px rgba(0, 0, 0, 0.15);\n",
              "      filter: drop-shadow(0px 1px 2px rgba(0, 0, 0, 0.3));\n",
              "      fill: #FFFFFF;\n",
              "    }\n",
              "  </style>\n",
              "\n",
              "      <script>\n",
              "        const buttonEl =\n",
              "          document.querySelector('#df-ce1ccef1-19cf-4b0c-821c-54ee84ef0d59 button.colab-df-convert');\n",
              "        buttonEl.style.display =\n",
              "          google.colab.kernel.accessAllowed ? 'block' : 'none';\n",
              "\n",
              "        async function convertToInteractive(key) {\n",
              "          const element = document.querySelector('#df-ce1ccef1-19cf-4b0c-821c-54ee84ef0d59');\n",
              "          const dataTable =\n",
              "            await google.colab.kernel.invokeFunction('convertToInteractive',\n",
              "                                                     [key], {});\n",
              "          if (!dataTable) return;\n",
              "\n",
              "          const docLinkHtml = 'Like what you see? Visit the ' +\n",
              "            '<a target=\"_blank\" href=https://colab.research.google.com/notebooks/data_table.ipynb>data table notebook</a>'\n",
              "            + ' to learn more about interactive tables.';\n",
              "          element.innerHTML = '';\n",
              "          dataTable['output_type'] = 'display_data';\n",
              "          await google.colab.output.renderOutput(dataTable, element);\n",
              "          const docLink = document.createElement('div');\n",
              "          docLink.innerHTML = docLinkHtml;\n",
              "          element.appendChild(docLink);\n",
              "        }\n",
              "      </script>\n",
              "    </div>\n",
              "  </div>\n",
              "  "
            ]
          },
          "metadata": {},
          "execution_count": 33
        },
        {
          "output_type": "display_data",
          "data": {
            "text/plain": [
              "<IPython.core.display.Javascript object>"
            ],
            "application/javascript": [
              "\n",
              "            setTimeout(function() {\n",
              "                var nbb_cell_id = 33;\n",
              "                var nbb_unformatted_code = \"cltv_df = df.groupby('CustomerID').agg({'InvoiceDate': [lambda x: (x.max() - x.min()).days,\\n                                                        lambda x: (today_date - x.min()).days], \\n                                        'InvoiceNo': 'nunique',\\n                                        'TotalPrice': 'sum'})\\n\\ncltv_df.columns = cltv_df.columns.droplevel(0)\\ncltv_df.columns = ['recency', 'T', 'frequency', 'monetary']\\ncltv_df.head()\";\n",
              "                var nbb_formatted_code = \"cltv_df = df.groupby(\\\"CustomerID\\\").agg(\\n    {\\n        \\\"InvoiceDate\\\": [\\n            lambda x: (x.max() - x.min()).days,\\n            lambda x: (today_date - x.min()).days,\\n        ],\\n        \\\"InvoiceNo\\\": \\\"nunique\\\",\\n        \\\"TotalPrice\\\": \\\"sum\\\",\\n    }\\n)\\n\\ncltv_df.columns = cltv_df.columns.droplevel(0)\\ncltv_df.columns = [\\\"recency\\\", \\\"T\\\", \\\"frequency\\\", \\\"monetary\\\"]\\ncltv_df.head()\";\n",
              "                var nbb_cells = Jupyter.notebook.get_cells();\n",
              "                for (var i = 0; i < nbb_cells.length; ++i) {\n",
              "                    if (nbb_cells[i].input_prompt_number == nbb_cell_id) {\n",
              "                        if (nbb_cells[i].get_text() == nbb_unformatted_code) {\n",
              "                             nbb_cells[i].set_text(nbb_formatted_code);\n",
              "                        }\n",
              "                        break;\n",
              "                    }\n",
              "                }\n",
              "            }, 500);\n",
              "            "
            ]
          },
          "metadata": {}
        }
      ]
    },
    {
      "cell_type": "code",
      "source": [
        "#Average Order Value\n",
        "cltv_df[\"monetary\"] = cltv_df[\"monetary\"] / cltv_df[\"frequency\"]\n",
        "\n",
        "#Recency & Tenure\n",
        "cltv_df[\"recency\"] = cltv_df[\"recency\"] / 7\n",
        "cltv_df[\"T\"] = cltv_df[\"T\"] / 7\n",
        "\n",
        "#Frequency\n",
        "cltv_df = cltv_df[(cltv_df['frequency'] > 1)]"
      ],
      "metadata": {
        "execution": {
          "iopub.status.busy": "2022-10-29T16:11:54.216743Z",
          "iopub.execute_input": "2022-10-29T16:11:54.217038Z",
          "iopub.status.idle": "2022-10-29T16:11:54.234109Z",
          "shell.execute_reply.started": "2022-10-29T16:11:54.216995Z",
          "shell.execute_reply": "2022-10-29T16:11:54.232915Z"
        },
        "trusted": true,
        "colab": {
          "base_uri": "https://localhost:8080/",
          "height": 17
        },
        "id": "O_WXsvyF9UXJ",
        "outputId": "01bb0cff-78b8-415f-f6b5-c9c94e76a9e0"
      },
      "execution_count": 34,
      "outputs": [
        {
          "output_type": "display_data",
          "data": {
            "text/plain": [
              "<IPython.core.display.Javascript object>"
            ],
            "application/javascript": [
              "\n",
              "            setTimeout(function() {\n",
              "                var nbb_cell_id = 34;\n",
              "                var nbb_unformatted_code = \"#Average Order Value\\ncltv_df[\\\"monetary\\\"] = cltv_df[\\\"monetary\\\"] / cltv_df[\\\"frequency\\\"]\\n\\n#Recency & Tenure\\ncltv_df[\\\"recency\\\"] = cltv_df[\\\"recency\\\"] / 7\\ncltv_df[\\\"T\\\"] = cltv_df[\\\"T\\\"] / 7\\n\\n#Frequency\\ncltv_df = cltv_df[(cltv_df['frequency'] > 1)]\";\n",
              "                var nbb_formatted_code = \"# Average Order Value\\ncltv_df[\\\"monetary\\\"] = cltv_df[\\\"monetary\\\"] / cltv_df[\\\"frequency\\\"]\\n\\n# Recency & Tenure\\ncltv_df[\\\"recency\\\"] = cltv_df[\\\"recency\\\"] / 7\\ncltv_df[\\\"T\\\"] = cltv_df[\\\"T\\\"] / 7\\n\\n# Frequency\\ncltv_df = cltv_df[(cltv_df[\\\"frequency\\\"] > 1)]\";\n",
              "                var nbb_cells = Jupyter.notebook.get_cells();\n",
              "                for (var i = 0; i < nbb_cells.length; ++i) {\n",
              "                    if (nbb_cells[i].input_prompt_number == nbb_cell_id) {\n",
              "                        if (nbb_cells[i].get_text() == nbb_unformatted_code) {\n",
              "                             nbb_cells[i].set_text(nbb_formatted_code);\n",
              "                        }\n",
              "                        break;\n",
              "                    }\n",
              "                }\n",
              "            }, 500);\n",
              "            "
            ]
          },
          "metadata": {}
        }
      ]
    },
    {
      "cell_type": "markdown",
      "source": [
        "<span style=\"color:#31A919;\n",
        "             font-size:160%;\n",
        "             font-family:Verdana;\">\n",
        "BG/NBD\n",
        "    \n",
        "Beta Geometric / Negative Binomial Distribution models assume that the number of transactions made by each customer follows a Poisson process with a heterogeneity in transaction rates across customers following a **gamma distribution**. These assumptions give us a Negative binomial distribution (NBD) for modeling the number of transactions made by the customer while he is alive. We can build BG/NBD model by using <code>BetaGeoFitter</code> and <code>lifetimes</code> packages."
      ],
      "metadata": {
        "id": "sM3A3Ux79UXJ"
      }
    },
    {
      "cell_type": "code",
      "source": [
        "BGF = BetaGeoFitter(penalizer_coef = 0.001) #avoid overfitting\n",
        "\n",
        "BGF.fit(cltv_df['frequency'],\n",
        "        cltv_df['recency'],\n",
        "        cltv_df['T'])"
      ],
      "metadata": {
        "execution": {
          "iopub.status.busy": "2022-10-29T16:11:54.236979Z",
          "iopub.execute_input": "2022-10-29T16:11:54.237288Z",
          "iopub.status.idle": "2022-10-29T16:11:54.409344Z",
          "shell.execute_reply.started": "2022-10-29T16:11:54.237258Z",
          "shell.execute_reply": "2022-10-29T16:11:54.40818Z"
        },
        "trusted": true,
        "colab": {
          "base_uri": "https://localhost:8080/",
          "height": 35
        },
        "id": "Z8Gpeqn_9UXJ",
        "outputId": "14a8493f-dd62-4132-d64b-0c6ddbf7cd3c"
      },
      "execution_count": 35,
      "outputs": [
        {
          "output_type": "execute_result",
          "data": {
            "text/plain": [
              "<lifetimes.BetaGeoFitter: fitted with 2845 subjects, a: 0.12, alpha: 11.40, b: 2.49, r: 2.18>"
            ]
          },
          "metadata": {},
          "execution_count": 35
        },
        {
          "output_type": "display_data",
          "data": {
            "text/plain": [
              "<IPython.core.display.Javascript object>"
            ],
            "application/javascript": [
              "\n",
              "            setTimeout(function() {\n",
              "                var nbb_cell_id = 35;\n",
              "                var nbb_unformatted_code = \"BGF = BetaGeoFitter(penalizer_coef = 0.001) #avoid overfitting\\n\\nBGF.fit(cltv_df['frequency'],\\n        cltv_df['recency'],\\n        cltv_df['T'])\";\n",
              "                var nbb_formatted_code = \"BGF = BetaGeoFitter(penalizer_coef=0.001)  # avoid overfitting\\n\\nBGF.fit(cltv_df[\\\"frequency\\\"], cltv_df[\\\"recency\\\"], cltv_df[\\\"T\\\"])\";\n",
              "                var nbb_cells = Jupyter.notebook.get_cells();\n",
              "                for (var i = 0; i < nbb_cells.length; ++i) {\n",
              "                    if (nbb_cells[i].input_prompt_number == nbb_cell_id) {\n",
              "                        if (nbb_cells[i].get_text() == nbb_unformatted_code) {\n",
              "                             nbb_cells[i].set_text(nbb_formatted_code);\n",
              "                        }\n",
              "                        break;\n",
              "                    }\n",
              "                }\n",
              "            }, 500);\n",
              "            "
            ]
          },
          "metadata": {}
        }
      ]
    },
    {
      "cell_type": "markdown",
      "source": [
        "<span style=\"color:#31A919;\n",
        "             font-size:160%;\n",
        "             font-family:Verdana;\">\n",
        "Top 10 Expected Number of Transaction (1 Week)"
      ],
      "metadata": {
        "id": "mNme55bO9UXJ"
      }
    },
    {
      "cell_type": "code",
      "source": [
        "BGF.conditional_expected_number_of_purchases_up_to_time(1,\n",
        "                                                        cltv_df['frequency'],\n",
        "                                                        cltv_df['recency'],\n",
        "                                                        cltv_df['T']\n",
        "                                                       ).sort_values(ascending = False)\\\n",
        ".head(10)\\\n",
        ".to_frame('Expected Number of Transactions')\\\n",
        ".reset_index()"
      ],
      "metadata": {
        "execution": {
          "iopub.status.busy": "2022-10-29T16:11:54.411565Z",
          "iopub.execute_input": "2022-10-29T16:11:54.412038Z",
          "iopub.status.idle": "2022-10-29T16:11:54.478884Z",
          "shell.execute_reply.started": "2022-10-29T16:11:54.411973Z",
          "shell.execute_reply": "2022-10-29T16:11:54.477467Z"
        },
        "trusted": true,
        "colab": {
          "base_uri": "https://localhost:8080/",
          "height": 363
        },
        "id": "-xOOmQUb9UXJ",
        "outputId": "30dfb384-8cf8-420d-f312-074b8178738b"
      },
      "execution_count": 36,
      "outputs": [
        {
          "output_type": "execute_result",
          "data": {
            "text/plain": [
              "  CustomerID  Expected Number of Transactions\n",
              "0      12748                         3.265158\n",
              "1      14911                         3.126645\n",
              "2      17841                         1.940290\n",
              "3      13089                         1.537528\n",
              "4      14606                         1.463999\n",
              "5      15311                         1.433717\n",
              "6      12971                         1.357024\n",
              "7      14646                         1.222517\n",
              "8      13408                         0.986249\n",
              "9      18102                         0.968607"
            ],
            "text/html": [
              "\n",
              "  <div id=\"df-7e86117d-c2e8-4fc8-a862-78c1bca16142\">\n",
              "    <div class=\"colab-df-container\">\n",
              "      <div>\n",
              "<style scoped>\n",
              "    .dataframe tbody tr th:only-of-type {\n",
              "        vertical-align: middle;\n",
              "    }\n",
              "\n",
              "    .dataframe tbody tr th {\n",
              "        vertical-align: top;\n",
              "    }\n",
              "\n",
              "    .dataframe thead th {\n",
              "        text-align: right;\n",
              "    }\n",
              "</style>\n",
              "<table border=\"1\" class=\"dataframe\">\n",
              "  <thead>\n",
              "    <tr style=\"text-align: right;\">\n",
              "      <th></th>\n",
              "      <th>CustomerID</th>\n",
              "      <th>Expected Number of Transactions</th>\n",
              "    </tr>\n",
              "  </thead>\n",
              "  <tbody>\n",
              "    <tr>\n",
              "      <th>0</th>\n",
              "      <td>12748</td>\n",
              "      <td>3.265158</td>\n",
              "    </tr>\n",
              "    <tr>\n",
              "      <th>1</th>\n",
              "      <td>14911</td>\n",
              "      <td>3.126645</td>\n",
              "    </tr>\n",
              "    <tr>\n",
              "      <th>2</th>\n",
              "      <td>17841</td>\n",
              "      <td>1.940290</td>\n",
              "    </tr>\n",
              "    <tr>\n",
              "      <th>3</th>\n",
              "      <td>13089</td>\n",
              "      <td>1.537528</td>\n",
              "    </tr>\n",
              "    <tr>\n",
              "      <th>4</th>\n",
              "      <td>14606</td>\n",
              "      <td>1.463999</td>\n",
              "    </tr>\n",
              "    <tr>\n",
              "      <th>5</th>\n",
              "      <td>15311</td>\n",
              "      <td>1.433717</td>\n",
              "    </tr>\n",
              "    <tr>\n",
              "      <th>6</th>\n",
              "      <td>12971</td>\n",
              "      <td>1.357024</td>\n",
              "    </tr>\n",
              "    <tr>\n",
              "      <th>7</th>\n",
              "      <td>14646</td>\n",
              "      <td>1.222517</td>\n",
              "    </tr>\n",
              "    <tr>\n",
              "      <th>8</th>\n",
              "      <td>13408</td>\n",
              "      <td>0.986249</td>\n",
              "    </tr>\n",
              "    <tr>\n",
              "      <th>9</th>\n",
              "      <td>18102</td>\n",
              "      <td>0.968607</td>\n",
              "    </tr>\n",
              "  </tbody>\n",
              "</table>\n",
              "</div>\n",
              "      <button class=\"colab-df-convert\" onclick=\"convertToInteractive('df-7e86117d-c2e8-4fc8-a862-78c1bca16142')\"\n",
              "              title=\"Convert this dataframe to an interactive table.\"\n",
              "              style=\"display:none;\">\n",
              "        \n",
              "  <svg xmlns=\"http://www.w3.org/2000/svg\" height=\"24px\"viewBox=\"0 0 24 24\"\n",
              "       width=\"24px\">\n",
              "    <path d=\"M0 0h24v24H0V0z\" fill=\"none\"/>\n",
              "    <path d=\"M18.56 5.44l.94 2.06.94-2.06 2.06-.94-2.06-.94-.94-2.06-.94 2.06-2.06.94zm-11 1L8.5 8.5l.94-2.06 2.06-.94-2.06-.94L8.5 2.5l-.94 2.06-2.06.94zm10 10l.94 2.06.94-2.06 2.06-.94-2.06-.94-.94-2.06-.94 2.06-2.06.94z\"/><path d=\"M17.41 7.96l-1.37-1.37c-.4-.4-.92-.59-1.43-.59-.52 0-1.04.2-1.43.59L10.3 9.45l-7.72 7.72c-.78.78-.78 2.05 0 2.83L4 21.41c.39.39.9.59 1.41.59.51 0 1.02-.2 1.41-.59l7.78-7.78 2.81-2.81c.8-.78.8-2.07 0-2.86zM5.41 20L4 18.59l7.72-7.72 1.47 1.35L5.41 20z\"/>\n",
              "  </svg>\n",
              "      </button>\n",
              "      \n",
              "  <style>\n",
              "    .colab-df-container {\n",
              "      display:flex;\n",
              "      flex-wrap:wrap;\n",
              "      gap: 12px;\n",
              "    }\n",
              "\n",
              "    .colab-df-convert {\n",
              "      background-color: #E8F0FE;\n",
              "      border: none;\n",
              "      border-radius: 50%;\n",
              "      cursor: pointer;\n",
              "      display: none;\n",
              "      fill: #1967D2;\n",
              "      height: 32px;\n",
              "      padding: 0 0 0 0;\n",
              "      width: 32px;\n",
              "    }\n",
              "\n",
              "    .colab-df-convert:hover {\n",
              "      background-color: #E2EBFA;\n",
              "      box-shadow: 0px 1px 2px rgba(60, 64, 67, 0.3), 0px 1px 3px 1px rgba(60, 64, 67, 0.15);\n",
              "      fill: #174EA6;\n",
              "    }\n",
              "\n",
              "    [theme=dark] .colab-df-convert {\n",
              "      background-color: #3B4455;\n",
              "      fill: #D2E3FC;\n",
              "    }\n",
              "\n",
              "    [theme=dark] .colab-df-convert:hover {\n",
              "      background-color: #434B5C;\n",
              "      box-shadow: 0px 1px 3px 1px rgba(0, 0, 0, 0.15);\n",
              "      filter: drop-shadow(0px 1px 2px rgba(0, 0, 0, 0.3));\n",
              "      fill: #FFFFFF;\n",
              "    }\n",
              "  </style>\n",
              "\n",
              "      <script>\n",
              "        const buttonEl =\n",
              "          document.querySelector('#df-7e86117d-c2e8-4fc8-a862-78c1bca16142 button.colab-df-convert');\n",
              "        buttonEl.style.display =\n",
              "          google.colab.kernel.accessAllowed ? 'block' : 'none';\n",
              "\n",
              "        async function convertToInteractive(key) {\n",
              "          const element = document.querySelector('#df-7e86117d-c2e8-4fc8-a862-78c1bca16142');\n",
              "          const dataTable =\n",
              "            await google.colab.kernel.invokeFunction('convertToInteractive',\n",
              "                                                     [key], {});\n",
              "          if (!dataTable) return;\n",
              "\n",
              "          const docLinkHtml = 'Like what you see? Visit the ' +\n",
              "            '<a target=\"_blank\" href=https://colab.research.google.com/notebooks/data_table.ipynb>data table notebook</a>'\n",
              "            + ' to learn more about interactive tables.';\n",
              "          element.innerHTML = '';\n",
              "          dataTable['output_type'] = 'display_data';\n",
              "          await google.colab.output.renderOutput(dataTable, element);\n",
              "          const docLink = document.createElement('div');\n",
              "          docLink.innerHTML = docLinkHtml;\n",
              "          element.appendChild(docLink);\n",
              "        }\n",
              "      </script>\n",
              "    </div>\n",
              "  </div>\n",
              "  "
            ]
          },
          "metadata": {},
          "execution_count": 36
        },
        {
          "output_type": "display_data",
          "data": {
            "text/plain": [
              "<IPython.core.display.Javascript object>"
            ],
            "application/javascript": [
              "\n",
              "            setTimeout(function() {\n",
              "                var nbb_cell_id = 36;\n",
              "                var nbb_unformatted_code = \"BGF.conditional_expected_number_of_purchases_up_to_time(1,\\n                                                        cltv_df['frequency'],\\n                                                        cltv_df['recency'],\\n                                                        cltv_df['T']\\n                                                       ).sort_values(ascending = False)\\\\\\n.head(10)\\\\\\n.to_frame('Expected Number of Transactions')\\\\\\n.reset_index()\";\n",
              "                var nbb_formatted_code = \"BGF.conditional_expected_number_of_purchases_up_to_time(\\n    1, cltv_df[\\\"frequency\\\"], cltv_df[\\\"recency\\\"], cltv_df[\\\"T\\\"]\\n).sort_values(ascending=False).head(10).to_frame(\\n    \\\"Expected Number of Transactions\\\"\\n).reset_index()\";\n",
              "                var nbb_cells = Jupyter.notebook.get_cells();\n",
              "                for (var i = 0; i < nbb_cells.length; ++i) {\n",
              "                    if (nbb_cells[i].input_prompt_number == nbb_cell_id) {\n",
              "                        if (nbb_cells[i].get_text() == nbb_unformatted_code) {\n",
              "                             nbb_cells[i].set_text(nbb_formatted_code);\n",
              "                        }\n",
              "                        break;\n",
              "                    }\n",
              "                }\n",
              "            }, 500);\n",
              "            "
            ]
          },
          "metadata": {}
        }
      ]
    },
    {
      "cell_type": "markdown",
      "source": [
        "<span style=\"color:#31A919;\n",
        "             font-size:160%;\n",
        "             font-family:Verdana;\">\n",
        "Top 10 Expected Number of Transaction (1 Month)"
      ],
      "metadata": {
        "id": "IaYXS9P79UXJ"
      }
    },
    {
      "cell_type": "code",
      "source": [
        "BGF.conditional_expected_number_of_purchases_up_to_time(4,\n",
        "                                                        cltv_df['frequency'],\n",
        "                                                        cltv_df['recency'],\n",
        "                                                        cltv_df['T']\n",
        "                                                       ).sort_values(ascending = False)\\\n",
        ".head(10)\\\n",
        ".to_frame('Expected Number of Transactions')\\\n",
        ".reset_index()"
      ],
      "metadata": {
        "execution": {
          "iopub.status.busy": "2022-10-29T16:11:54.480586Z",
          "iopub.execute_input": "2022-10-29T16:11:54.481258Z",
          "iopub.status.idle": "2022-10-29T16:11:54.527618Z",
          "shell.execute_reply.started": "2022-10-29T16:11:54.481213Z",
          "shell.execute_reply": "2022-10-29T16:11:54.526466Z"
        },
        "trusted": true,
        "colab": {
          "base_uri": "https://localhost:8080/",
          "height": 363
        },
        "id": "YWwyNIcW9UXK",
        "outputId": "8af0775f-6a90-4d79-d374-289112c480ff"
      },
      "execution_count": 37,
      "outputs": [
        {
          "output_type": "execute_result",
          "data": {
            "text/plain": [
              "  CustomerID  Expected Number of Transactions\n",
              "0      12748                        13.025670\n",
              "1      14911                        12.473095\n",
              "2      17841                         7.740345\n",
              "3      13089                         6.133456\n",
              "4      14606                         5.840269\n",
              "5      15311                         5.719467\n",
              "6      12971                         5.413481\n",
              "7      14646                         4.876360\n",
              "8      13408                         3.934373\n",
              "9      18102                         3.863856"
            ],
            "text/html": [
              "\n",
              "  <div id=\"df-0e490988-c4bd-4d95-8f7c-0b52f8ef9445\">\n",
              "    <div class=\"colab-df-container\">\n",
              "      <div>\n",
              "<style scoped>\n",
              "    .dataframe tbody tr th:only-of-type {\n",
              "        vertical-align: middle;\n",
              "    }\n",
              "\n",
              "    .dataframe tbody tr th {\n",
              "        vertical-align: top;\n",
              "    }\n",
              "\n",
              "    .dataframe thead th {\n",
              "        text-align: right;\n",
              "    }\n",
              "</style>\n",
              "<table border=\"1\" class=\"dataframe\">\n",
              "  <thead>\n",
              "    <tr style=\"text-align: right;\">\n",
              "      <th></th>\n",
              "      <th>CustomerID</th>\n",
              "      <th>Expected Number of Transactions</th>\n",
              "    </tr>\n",
              "  </thead>\n",
              "  <tbody>\n",
              "    <tr>\n",
              "      <th>0</th>\n",
              "      <td>12748</td>\n",
              "      <td>13.025670</td>\n",
              "    </tr>\n",
              "    <tr>\n",
              "      <th>1</th>\n",
              "      <td>14911</td>\n",
              "      <td>12.473095</td>\n",
              "    </tr>\n",
              "    <tr>\n",
              "      <th>2</th>\n",
              "      <td>17841</td>\n",
              "      <td>7.740345</td>\n",
              "    </tr>\n",
              "    <tr>\n",
              "      <th>3</th>\n",
              "      <td>13089</td>\n",
              "      <td>6.133456</td>\n",
              "    </tr>\n",
              "    <tr>\n",
              "      <th>4</th>\n",
              "      <td>14606</td>\n",
              "      <td>5.840269</td>\n",
              "    </tr>\n",
              "    <tr>\n",
              "      <th>5</th>\n",
              "      <td>15311</td>\n",
              "      <td>5.719467</td>\n",
              "    </tr>\n",
              "    <tr>\n",
              "      <th>6</th>\n",
              "      <td>12971</td>\n",
              "      <td>5.413481</td>\n",
              "    </tr>\n",
              "    <tr>\n",
              "      <th>7</th>\n",
              "      <td>14646</td>\n",
              "      <td>4.876360</td>\n",
              "    </tr>\n",
              "    <tr>\n",
              "      <th>8</th>\n",
              "      <td>13408</td>\n",
              "      <td>3.934373</td>\n",
              "    </tr>\n",
              "    <tr>\n",
              "      <th>9</th>\n",
              "      <td>18102</td>\n",
              "      <td>3.863856</td>\n",
              "    </tr>\n",
              "  </tbody>\n",
              "</table>\n",
              "</div>\n",
              "      <button class=\"colab-df-convert\" onclick=\"convertToInteractive('df-0e490988-c4bd-4d95-8f7c-0b52f8ef9445')\"\n",
              "              title=\"Convert this dataframe to an interactive table.\"\n",
              "              style=\"display:none;\">\n",
              "        \n",
              "  <svg xmlns=\"http://www.w3.org/2000/svg\" height=\"24px\"viewBox=\"0 0 24 24\"\n",
              "       width=\"24px\">\n",
              "    <path d=\"M0 0h24v24H0V0z\" fill=\"none\"/>\n",
              "    <path d=\"M18.56 5.44l.94 2.06.94-2.06 2.06-.94-2.06-.94-.94-2.06-.94 2.06-2.06.94zm-11 1L8.5 8.5l.94-2.06 2.06-.94-2.06-.94L8.5 2.5l-.94 2.06-2.06.94zm10 10l.94 2.06.94-2.06 2.06-.94-2.06-.94-.94-2.06-.94 2.06-2.06.94z\"/><path d=\"M17.41 7.96l-1.37-1.37c-.4-.4-.92-.59-1.43-.59-.52 0-1.04.2-1.43.59L10.3 9.45l-7.72 7.72c-.78.78-.78 2.05 0 2.83L4 21.41c.39.39.9.59 1.41.59.51 0 1.02-.2 1.41-.59l7.78-7.78 2.81-2.81c.8-.78.8-2.07 0-2.86zM5.41 20L4 18.59l7.72-7.72 1.47 1.35L5.41 20z\"/>\n",
              "  </svg>\n",
              "      </button>\n",
              "      \n",
              "  <style>\n",
              "    .colab-df-container {\n",
              "      display:flex;\n",
              "      flex-wrap:wrap;\n",
              "      gap: 12px;\n",
              "    }\n",
              "\n",
              "    .colab-df-convert {\n",
              "      background-color: #E8F0FE;\n",
              "      border: none;\n",
              "      border-radius: 50%;\n",
              "      cursor: pointer;\n",
              "      display: none;\n",
              "      fill: #1967D2;\n",
              "      height: 32px;\n",
              "      padding: 0 0 0 0;\n",
              "      width: 32px;\n",
              "    }\n",
              "\n",
              "    .colab-df-convert:hover {\n",
              "      background-color: #E2EBFA;\n",
              "      box-shadow: 0px 1px 2px rgba(60, 64, 67, 0.3), 0px 1px 3px 1px rgba(60, 64, 67, 0.15);\n",
              "      fill: #174EA6;\n",
              "    }\n",
              "\n",
              "    [theme=dark] .colab-df-convert {\n",
              "      background-color: #3B4455;\n",
              "      fill: #D2E3FC;\n",
              "    }\n",
              "\n",
              "    [theme=dark] .colab-df-convert:hover {\n",
              "      background-color: #434B5C;\n",
              "      box-shadow: 0px 1px 3px 1px rgba(0, 0, 0, 0.15);\n",
              "      filter: drop-shadow(0px 1px 2px rgba(0, 0, 0, 0.3));\n",
              "      fill: #FFFFFF;\n",
              "    }\n",
              "  </style>\n",
              "\n",
              "      <script>\n",
              "        const buttonEl =\n",
              "          document.querySelector('#df-0e490988-c4bd-4d95-8f7c-0b52f8ef9445 button.colab-df-convert');\n",
              "        buttonEl.style.display =\n",
              "          google.colab.kernel.accessAllowed ? 'block' : 'none';\n",
              "\n",
              "        async function convertToInteractive(key) {\n",
              "          const element = document.querySelector('#df-0e490988-c4bd-4d95-8f7c-0b52f8ef9445');\n",
              "          const dataTable =\n",
              "            await google.colab.kernel.invokeFunction('convertToInteractive',\n",
              "                                                     [key], {});\n",
              "          if (!dataTable) return;\n",
              "\n",
              "          const docLinkHtml = 'Like what you see? Visit the ' +\n",
              "            '<a target=\"_blank\" href=https://colab.research.google.com/notebooks/data_table.ipynb>data table notebook</a>'\n",
              "            + ' to learn more about interactive tables.';\n",
              "          element.innerHTML = '';\n",
              "          dataTable['output_type'] = 'display_data';\n",
              "          await google.colab.output.renderOutput(dataTable, element);\n",
              "          const docLink = document.createElement('div');\n",
              "          docLink.innerHTML = docLinkHtml;\n",
              "          element.appendChild(docLink);\n",
              "        }\n",
              "      </script>\n",
              "    </div>\n",
              "  </div>\n",
              "  "
            ]
          },
          "metadata": {},
          "execution_count": 37
        },
        {
          "output_type": "display_data",
          "data": {
            "text/plain": [
              "<IPython.core.display.Javascript object>"
            ],
            "application/javascript": [
              "\n",
              "            setTimeout(function() {\n",
              "                var nbb_cell_id = 37;\n",
              "                var nbb_unformatted_code = \"BGF.conditional_expected_number_of_purchases_up_to_time(4,\\n                                                        cltv_df['frequency'],\\n                                                        cltv_df['recency'],\\n                                                        cltv_df['T']\\n                                                       ).sort_values(ascending = False)\\\\\\n.head(10)\\\\\\n.to_frame('Expected Number of Transactions')\\\\\\n.reset_index()\";\n",
              "                var nbb_formatted_code = \"BGF.conditional_expected_number_of_purchases_up_to_time(\\n    4, cltv_df[\\\"frequency\\\"], cltv_df[\\\"recency\\\"], cltv_df[\\\"T\\\"]\\n).sort_values(ascending=False).head(10).to_frame(\\n    \\\"Expected Number of Transactions\\\"\\n).reset_index()\";\n",
              "                var nbb_cells = Jupyter.notebook.get_cells();\n",
              "                for (var i = 0; i < nbb_cells.length; ++i) {\n",
              "                    if (nbb_cells[i].input_prompt_number == nbb_cell_id) {\n",
              "                        if (nbb_cells[i].get_text() == nbb_unformatted_code) {\n",
              "                             nbb_cells[i].set_text(nbb_formatted_code);\n",
              "                        }\n",
              "                        break;\n",
              "                    }\n",
              "                }\n",
              "            }, 500);\n",
              "            "
            ]
          },
          "metadata": {}
        }
      ]
    },
    {
      "cell_type": "markdown",
      "source": [
        "<span style=\"color:#31A919;\n",
        "             font-size:160%;\n",
        "             font-family:Verdana;\">\n",
        "Frequency of Repeat Transactions"
      ],
      "metadata": {
        "id": "cKBu5N_T9UXK"
      }
    },
    {
      "cell_type": "code",
      "source": [
        "#Plot a figure with period actual and predicted transactions.\n",
        "plot_period_transactions(BGF,\n",
        "                         max_frequency = 7)\n",
        "plt.show()"
      ],
      "metadata": {
        "execution": {
          "iopub.status.busy": "2022-10-29T16:11:54.530051Z",
          "iopub.execute_input": "2022-10-29T16:11:54.530667Z",
          "iopub.status.idle": "2022-10-29T16:11:55.533752Z",
          "shell.execute_reply.started": "2022-10-29T16:11:54.530619Z",
          "shell.execute_reply": "2022-10-29T16:11:55.53262Z"
        },
        "trusted": true,
        "colab": {
          "base_uri": "https://localhost:8080/",
          "height": 301
        },
        "id": "wtxjLgan9UXK",
        "outputId": "abf6ad88-2eb1-4f0f-f035-dc83a607eb8a"
      },
      "execution_count": 38,
      "outputs": [
        {
          "output_type": "display_data",
          "data": {
            "text/plain": [
              "<Figure size 432x288 with 1 Axes>"
            ],
            "image/png": "[encoded data removed]"
          },
          "metadata": {}
        },
        {
          "output_type": "display_data",
          "data": {
            "text/plain": [
              "<IPython.core.display.Javascript object>"
            ],
            "application/javascript": [
              "\n",
              "            setTimeout(function() {\n",
              "                var nbb_cell_id = 38;\n",
              "                var nbb_unformatted_code = \"#Plot a figure with period actual and predicted transactions.\\nplot_period_transactions(BGF,\\n                         max_frequency = 7)\\nplt.show()\";\n",
              "                var nbb_formatted_code = \"# Plot a figure with period actual and predicted transactions.\\nplot_period_transactions(BGF, max_frequency=7)\\nplt.show()\";\n",
              "                var nbb_cells = Jupyter.notebook.get_cells();\n",
              "                for (var i = 0; i < nbb_cells.length; ++i) {\n",
              "                    if (nbb_cells[i].input_prompt_number == nbb_cell_id) {\n",
              "                        if (nbb_cells[i].get_text() == nbb_unformatted_code) {\n",
              "                             nbb_cells[i].set_text(nbb_formatted_code);\n",
              "                        }\n",
              "                        break;\n",
              "                    }\n",
              "                }\n",
              "            }, 500);\n",
              "            "
            ]
          },
          "metadata": {}
        }
      ]
    },
    {
      "cell_type": "markdown",
      "source": [
        "<span style=\"color:#31A919;\n",
        "             font-size:160%;\n",
        "             font-family:Verdana;\">\n",
        "Credits\n",
        "    \n",
        "- https://www.businessnewsdaily.com/15918-how-to-use-crm-analytics.html\n",
        "    \n",
        "- https://www.analyticsvidhya.com/blog/2021/06/cohort-analysis-using-python-for-beginners-a-hands-on-tutorial/\n",
        "    \n",
        "- https://benalexkeen.com/bg-nbd-model-for-customer-base-analysis-in-python/"
      ],
      "metadata": {
        "id": "igMraydP9UXK"
      }
    },
    {
      "cell_type": "markdown",
      "source": [
        "<span style=\"color:#31A919;\n",
        "             font-size:140%;\n",
        "             font-family:Verdana;\">\n",
        "If you liked this notebook, please upvote 😊\n",
        "\n",
        "<span style=\"color:#31A919;\n",
        "             font-size:140%;\n",
        "             font-family:Verdana;\">\n",
        "If you have any suggestions or questions, feel free to comment!\n",
        "\n",
        "<span style=\"color:#31A919;\n",
        "             font-size:140%;\n",
        "             font-family:Verdana;\">\n",
        "Best Wishes!"
      ],
      "metadata": {
        "id": "F0w1FtL_9UXK"
      }
    }
  ]
}